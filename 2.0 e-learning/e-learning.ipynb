{
 "cells": [
  {
   "cell_type": "markdown",
   "id": "525d472e",
   "metadata": {},
   "source": [
    "# Проект e-learning\n",
    "\n",
    "1. Сколько студентов успешно сдали только один курс?\n",
    "2. Выяви самый сложный и самый простой экзамен.\n",
    "3. По каждому предмету определи средний срок сдачи экзаменов.\n",
    "4. Выяви самые популярные предметы (ТОП-3) по количеству регистраций на них. А также предметы с самым большим. оттоком (ТОП-3).\n",
    "5. В период с начала 2013 по конец 2014 выяви семестр с самой низкой завершаемостью курсов и самыми долгими средними сроками сдачи курсов.\n",
    "6. Построй адаптированные RFM-кластеры студентов, чтобы качественно оценить аудиторию.\n",
    "\n",
    "## Оглавление\n",
    "* [1. Открываем файлы, изучаем данные](#h1)\n",
    "* [2. Подготовка данных](#h2)\n",
    "* [3. Анализ](#h3)\n",
    "  * [3.1 Сколько студентов успешно сдали только один курс?](#h3.1)\n",
    "  * [3.2 Выяви самый сложный и самый простой экзамен.](#h3.2)\n",
    "  * [3.3 По каждому предмету определи средний срок сдачи экзаменов](#h3.3)"
   ]
  },
  {
   "cell_type": "code",
   "execution_count": 27,
   "id": "0bd650f2",
   "metadata": {},
   "outputs": [],
   "source": [
    "import pandas as pd\n",
    "import seaborn as sns"
   ]
  },
  {
   "cell_type": "markdown",
   "id": "8acad557",
   "metadata": {},
   "source": [
    "<a class=\"anchor\" id=\"h1\"></a>\n",
    "\n",
    "<br/><br/>\n",
    "<br/><br/>\n",
    "\n",
    "# 1. Открываем файлы и изучаем данные   "
   ]
  },
  {
   "cell_type": "markdown",
   "id": "d0d9aa51",
   "metadata": {},
   "source": [
    "assessment - Этот файл содержит информацию об оценках в тесте. Обычно каждый предмет в семестре включает ряд тестов с оценками, за которыми следует заключительный экзаменационный тест (экзамен)."
   ]
  },
  {
   "cell_type": "code",
   "execution_count": 4,
   "id": "53be2420",
   "metadata": {},
   "outputs": [],
   "source": [
    "assessment = pd.read_csv('https://getfile.dokpub.com/yandex/get/https://disk.yandex.ru/d/T0bdjAcKRkfEBQ')"
   ]
  },
  {
   "cell_type": "markdown",
   "id": "4e1f3c3b",
   "metadata": {},
   "source": [
    "courses - файл содержит список предметов по семестрам"
   ]
  },
  {
   "cell_type": "code",
   "execution_count": 5,
   "id": "c2f09618",
   "metadata": {},
   "outputs": [],
   "source": [
    "courses = pd.read_csv('https://getfile.dokpub.com/yandex/get/https://disk.yandex.ru/d/15FYKxAj24mASg')"
   ]
  },
  {
   "cell_type": "markdown",
   "id": "5c124305",
   "metadata": {},
   "source": [
    "studentAssessment — этот файл содержит результаты тестов студентов. Если учащийся не отправляет работу на оценку, результат не записывается в таблицу."
   ]
  },
  {
   "cell_type": "code",
   "execution_count": 10,
   "id": "c27e227a",
   "metadata": {},
   "outputs": [],
   "source": [
    "student_assessment = pd.read_csv('https://getfile.dokpub.com/yandex/get/https://disk.yandex.ru/d/6FVjUJXls-vSPw')"
   ]
  },
  {
   "cell_type": "markdown",
   "id": "10002680",
   "metadata": {},
   "source": [
    "studentRegistration — этот файл содержит информацию о времени, когда студент зарегистрировался для прохождения курса в семестре."
   ]
  },
  {
   "cell_type": "code",
   "execution_count": 203,
   "id": "8ec4b8b2",
   "metadata": {},
   "outputs": [],
   "source": [
    "student_registration = pd.read_csv('https://getfile.dokpub.com/yandex/get/https://disk.yandex.ru/d/WTaSoYJmBTft-Q')"
   ]
  },
  {
   "cell_type": "markdown",
   "id": "ade3da80",
   "metadata": {},
   "source": [
    "\n",
    "\n",
    "\n",
    "\n",
    "## Изучим информацию об оценках в тестах"
   ]
  },
  {
   "cell_type": "markdown",
   "id": "d271e8bc",
   "metadata": {},
   "source": [
    "code_module — идентификационный код предмета.\n",
    "\n",
    "code_presentation — семестр (Идентификационный код).\n",
    "\n",
    "id_assessment — тест (Идентификационный номер ассессмента).\n",
    "\n",
    "assessment_type — тип теста. Существуют три типа оценивания: оценка преподавателя (TMA), компьютерная оценка (СМА), экзамен по курсу (Exam).\n",
    "\n",
    "date — информация об окончательной дате сдачи теста. Рассчитывается как количество дней с момента начала семестра. Дата начала семестра имеет номер 0 (ноль).\n",
    "\n",
    "weight — вес теста в % в оценке за курс. Обычно экзамены рассматриваются отдельно и имеют вес 100%; сумма всех остальных оценок составляет 100%."
   ]
  },
  {
   "cell_type": "code",
   "execution_count": 146,
   "id": "633515d3",
   "metadata": {
    "scrolled": true
   },
   "outputs": [
    {
     "data": {
      "text/html": [
       "<div>\n",
       "<style scoped>\n",
       "    .dataframe tbody tr th:only-of-type {\n",
       "        vertical-align: middle;\n",
       "    }\n",
       "\n",
       "    .dataframe tbody tr th {\n",
       "        vertical-align: top;\n",
       "    }\n",
       "\n",
       "    .dataframe thead th {\n",
       "        text-align: right;\n",
       "    }\n",
       "</style>\n",
       "<table border=\"1\" class=\"dataframe\">\n",
       "  <thead>\n",
       "    <tr style=\"text-align: right;\">\n",
       "      <th></th>\n",
       "      <th>code_module</th>\n",
       "      <th>code_presentation</th>\n",
       "      <th>id_assessment</th>\n",
       "      <th>assessment_type</th>\n",
       "      <th>date</th>\n",
       "      <th>weight</th>\n",
       "    </tr>\n",
       "  </thead>\n",
       "  <tbody>\n",
       "    <tr>\n",
       "      <th>0</th>\n",
       "      <td>AAA</td>\n",
       "      <td>2013J</td>\n",
       "      <td>1752</td>\n",
       "      <td>TMA</td>\n",
       "      <td>19.0</td>\n",
       "      <td>10.0</td>\n",
       "    </tr>\n",
       "    <tr>\n",
       "      <th>1</th>\n",
       "      <td>AAA</td>\n",
       "      <td>2013J</td>\n",
       "      <td>1753</td>\n",
       "      <td>TMA</td>\n",
       "      <td>54.0</td>\n",
       "      <td>20.0</td>\n",
       "    </tr>\n",
       "    <tr>\n",
       "      <th>2</th>\n",
       "      <td>AAA</td>\n",
       "      <td>2013J</td>\n",
       "      <td>1754</td>\n",
       "      <td>TMA</td>\n",
       "      <td>117.0</td>\n",
       "      <td>20.0</td>\n",
       "    </tr>\n",
       "    <tr>\n",
       "      <th>3</th>\n",
       "      <td>AAA</td>\n",
       "      <td>2013J</td>\n",
       "      <td>1755</td>\n",
       "      <td>TMA</td>\n",
       "      <td>166.0</td>\n",
       "      <td>20.0</td>\n",
       "    </tr>\n",
       "    <tr>\n",
       "      <th>4</th>\n",
       "      <td>AAA</td>\n",
       "      <td>2013J</td>\n",
       "      <td>1756</td>\n",
       "      <td>TMA</td>\n",
       "      <td>215.0</td>\n",
       "      <td>30.0</td>\n",
       "    </tr>\n",
       "  </tbody>\n",
       "</table>\n",
       "</div>"
      ],
      "text/plain": [
       "  code_module code_presentation  id_assessment assessment_type   date  weight\n",
       "0         AAA             2013J           1752             TMA   19.0    10.0\n",
       "1         AAA             2013J           1753             TMA   54.0    20.0\n",
       "2         AAA             2013J           1754             TMA  117.0    20.0\n",
       "3         AAA             2013J           1755             TMA  166.0    20.0\n",
       "4         AAA             2013J           1756             TMA  215.0    30.0"
      ]
     },
     "execution_count": 146,
     "metadata": {},
     "output_type": "execute_result"
    }
   ],
   "source": [
    "assessment.head()"
   ]
  },
  {
   "cell_type": "code",
   "execution_count": 147,
   "id": "2b6aee0c",
   "metadata": {},
   "outputs": [
    {
     "name": "stdout",
     "output_type": "stream",
     "text": [
      "<class 'pandas.core.frame.DataFrame'>\n",
      "RangeIndex: 206 entries, 0 to 205\n",
      "Data columns (total 6 columns):\n",
      " #   Column             Non-Null Count  Dtype  \n",
      "---  ------             --------------  -----  \n",
      " 0   code_module        206 non-null    object \n",
      " 1   code_presentation  206 non-null    object \n",
      " 2   id_assessment      206 non-null    int64  \n",
      " 3   assessment_type    206 non-null    object \n",
      " 4   date               195 non-null    float64\n",
      " 5   weight             206 non-null    float64\n",
      "dtypes: float64(2), int64(1), object(3)\n",
      "memory usage: 9.8+ KB\n"
     ]
    }
   ],
   "source": [
    "assessment.info()"
   ]
  },
  {
   "cell_type": "markdown",
   "id": "25b96851",
   "metadata": {},
   "source": [
    "У `11` тестов нет окончательной даты сдачи"
   ]
  },
  {
   "cell_type": "markdown",
   "id": "5f0e0251",
   "metadata": {},
   "source": [
    "## Изучим список предметов по семестрам"
   ]
  },
  {
   "cell_type": "markdown",
   "id": "7993355a",
   "metadata": {},
   "source": [
    "code_module — предмет (идентификационный код).\n",
    "\n",
    "code_presentation — семестр (идентификационный код).\n",
    "\n",
    "module_presentation_length — продолжительность семестра в днях."
   ]
  },
  {
   "cell_type": "code",
   "execution_count": 148,
   "id": "f79b3399",
   "metadata": {},
   "outputs": [
    {
     "name": "stdout",
     "output_type": "stream",
     "text": [
      "<class 'pandas.core.frame.DataFrame'>\n",
      "RangeIndex: 22 entries, 0 to 21\n",
      "Data columns (total 3 columns):\n",
      " #   Column                      Non-Null Count  Dtype \n",
      "---  ------                      --------------  ----- \n",
      " 0   code_module                 22 non-null     object\n",
      " 1   code_presentation           22 non-null     object\n",
      " 2   module_presentation_length  22 non-null     int64 \n",
      "dtypes: int64(1), object(2)\n",
      "memory usage: 656.0+ bytes\n"
     ]
    }
   ],
   "source": [
    "courses.info()"
   ]
  },
  {
   "cell_type": "code",
   "execution_count": 334,
   "id": "620097a4",
   "metadata": {},
   "outputs": [
    {
     "data": {
      "text/html": [
       "<div>\n",
       "<style scoped>\n",
       "    .dataframe tbody tr th:only-of-type {\n",
       "        vertical-align: middle;\n",
       "    }\n",
       "\n",
       "    .dataframe tbody tr th {\n",
       "        vertical-align: top;\n",
       "    }\n",
       "\n",
       "    .dataframe thead th {\n",
       "        text-align: right;\n",
       "    }\n",
       "</style>\n",
       "<table border=\"1\" class=\"dataframe\">\n",
       "  <thead>\n",
       "    <tr style=\"text-align: right;\">\n",
       "      <th></th>\n",
       "      <th>code_module</th>\n",
       "      <th>code_presentation</th>\n",
       "      <th>module_presentation_length</th>\n",
       "    </tr>\n",
       "  </thead>\n",
       "  <tbody>\n",
       "    <tr>\n",
       "      <th>0</th>\n",
       "      <td>AAA</td>\n",
       "      <td>2013J</td>\n",
       "      <td>268</td>\n",
       "    </tr>\n",
       "    <tr>\n",
       "      <th>1</th>\n",
       "      <td>AAA</td>\n",
       "      <td>2014J</td>\n",
       "      <td>269</td>\n",
       "    </tr>\n",
       "    <tr>\n",
       "      <th>2</th>\n",
       "      <td>BBB</td>\n",
       "      <td>2013J</td>\n",
       "      <td>268</td>\n",
       "    </tr>\n",
       "    <tr>\n",
       "      <th>3</th>\n",
       "      <td>BBB</td>\n",
       "      <td>2014J</td>\n",
       "      <td>262</td>\n",
       "    </tr>\n",
       "    <tr>\n",
       "      <th>4</th>\n",
       "      <td>BBB</td>\n",
       "      <td>2013B</td>\n",
       "      <td>240</td>\n",
       "    </tr>\n",
       "  </tbody>\n",
       "</table>\n",
       "</div>"
      ],
      "text/plain": [
       "  code_module code_presentation  module_presentation_length\n",
       "0         AAA             2013J                         268\n",
       "1         AAA             2014J                         269\n",
       "2         BBB             2013J                         268\n",
       "3         BBB             2014J                         262\n",
       "4         BBB             2013B                         240"
      ]
     },
     "execution_count": 334,
     "metadata": {},
     "output_type": "execute_result"
    }
   ],
   "source": [
    "courses.head()"
   ]
  },
  {
   "cell_type": "markdown",
   "id": "10a9c97e",
   "metadata": {},
   "source": [
    "## Изучим  результаты тестов студентов"
   ]
  },
  {
   "cell_type": "markdown",
   "id": "c6a20635",
   "metadata": {},
   "source": [
    "id_assessment — тест (идентификационный номер).\n",
    "\n",
    "id_student — идентификационный номер студента.\n",
    "\n",
    "date_submitted — дата сдачи теста студентом, измеряемая как количество дней с начала семестра.\n",
    "\n",
    "is_banked — факт перезачета теста с прошлого семестра (иногда курсы перезачитывают студентам, вернувшимся из академического отпуска).\n",
    "\n",
    "score — оценка учащегося в этом тесте. Диапазон составляет от 0 до 100. Оценка ниже 40 неудачная/неуспешная сдача теста."
   ]
  },
  {
   "cell_type": "code",
   "execution_count": 150,
   "id": "6298f82e",
   "metadata": {},
   "outputs": [
    {
     "name": "stdout",
     "output_type": "stream",
     "text": [
      "<class 'pandas.core.frame.DataFrame'>\n",
      "RangeIndex: 173912 entries, 0 to 173911\n",
      "Data columns (total 6 columns):\n",
      " #   Column          Non-Null Count   Dtype  \n",
      "---  ------          --------------   -----  \n",
      " 0   id_assessment   173912 non-null  int64  \n",
      " 1   id_student      173912 non-null  int64  \n",
      " 2   date_submitted  173912 non-null  int64  \n",
      " 3   is_banked       173912 non-null  int64  \n",
      " 4   score           173739 non-null  float32\n",
      " 5   successfully    173912 non-null  int64  \n",
      "dtypes: float32(1), int64(5)\n",
      "memory usage: 7.3 MB\n"
     ]
    }
   ],
   "source": [
    "student_assessment.info()"
   ]
  },
  {
   "cell_type": "markdown",
   "id": "e27d4c89",
   "metadata": {},
   "source": [
    "В поле `score` есть пропущеные значения, так же его можно перевести в целое число  "
   ]
  },
  {
   "cell_type": "code",
   "execution_count": 151,
   "id": "1b8fd6fb",
   "metadata": {},
   "outputs": [
    {
     "data": {
      "text/plain": [
       "id_assessment       188\n",
       "id_student        23369\n",
       "date_submitted      312\n",
       "is_banked             2\n",
       "score               101\n",
       "successfully          2\n",
       "dtype: int64"
      ]
     },
     "execution_count": 151,
     "metadata": {},
     "output_type": "execute_result"
    }
   ],
   "source": [
    "student_assessment.nunique()"
   ]
  },
  {
   "cell_type": "markdown",
   "id": "eb3880aa",
   "metadata": {},
   "source": [
    "`23369` студентов принимали участие в тестах"
   ]
  },
  {
   "cell_type": "code",
   "execution_count": 152,
   "id": "aeab2e51",
   "metadata": {
    "scrolled": true
   },
   "outputs": [
    {
     "data": {
      "text/html": [
       "<div>\n",
       "<style scoped>\n",
       "    .dataframe tbody tr th:only-of-type {\n",
       "        vertical-align: middle;\n",
       "    }\n",
       "\n",
       "    .dataframe tbody tr th {\n",
       "        vertical-align: top;\n",
       "    }\n",
       "\n",
       "    .dataframe thead th {\n",
       "        text-align: right;\n",
       "    }\n",
       "</style>\n",
       "<table border=\"1\" class=\"dataframe\">\n",
       "  <thead>\n",
       "    <tr style=\"text-align: right;\">\n",
       "      <th></th>\n",
       "      <th>id_assessment</th>\n",
       "      <th>id_student</th>\n",
       "      <th>date_submitted</th>\n",
       "      <th>is_banked</th>\n",
       "      <th>score</th>\n",
       "      <th>successfully</th>\n",
       "    </tr>\n",
       "  </thead>\n",
       "  <tbody>\n",
       "    <tr>\n",
       "      <th>0</th>\n",
       "      <td>1752</td>\n",
       "      <td>11391</td>\n",
       "      <td>18</td>\n",
       "      <td>0</td>\n",
       "      <td>78.0</td>\n",
       "      <td>1</td>\n",
       "    </tr>\n",
       "    <tr>\n",
       "      <th>1</th>\n",
       "      <td>1752</td>\n",
       "      <td>28400</td>\n",
       "      <td>22</td>\n",
       "      <td>0</td>\n",
       "      <td>70.0</td>\n",
       "      <td>1</td>\n",
       "    </tr>\n",
       "    <tr>\n",
       "      <th>2</th>\n",
       "      <td>1752</td>\n",
       "      <td>31604</td>\n",
       "      <td>17</td>\n",
       "      <td>0</td>\n",
       "      <td>72.0</td>\n",
       "      <td>1</td>\n",
       "    </tr>\n",
       "    <tr>\n",
       "      <th>3</th>\n",
       "      <td>1752</td>\n",
       "      <td>32885</td>\n",
       "      <td>26</td>\n",
       "      <td>0</td>\n",
       "      <td>69.0</td>\n",
       "      <td>1</td>\n",
       "    </tr>\n",
       "    <tr>\n",
       "      <th>4</th>\n",
       "      <td>1752</td>\n",
       "      <td>38053</td>\n",
       "      <td>19</td>\n",
       "      <td>0</td>\n",
       "      <td>79.0</td>\n",
       "      <td>1</td>\n",
       "    </tr>\n",
       "  </tbody>\n",
       "</table>\n",
       "</div>"
      ],
      "text/plain": [
       "   id_assessment  id_student  date_submitted  is_banked  score  successfully\n",
       "0           1752       11391              18          0   78.0             1\n",
       "1           1752       28400              22          0   70.0             1\n",
       "2           1752       31604              17          0   72.0             1\n",
       "3           1752       32885              26          0   69.0             1\n",
       "4           1752       38053              19          0   79.0             1"
      ]
     },
     "execution_count": 152,
     "metadata": {},
     "output_type": "execute_result"
    }
   ],
   "source": [
    "student_assessment.head()"
   ]
  },
  {
   "cell_type": "code",
   "execution_count": 153,
   "id": "b1f2a8a8",
   "metadata": {},
   "outputs": [
    {
     "data": {
      "text/plain": [
       "id_assessment       int64\n",
       "id_student          int64\n",
       "date_submitted      int64\n",
       "is_banked           int64\n",
       "score             float32\n",
       "successfully        int64\n",
       "dtype: object"
      ]
     },
     "execution_count": 153,
     "metadata": {},
     "output_type": "execute_result"
    }
   ],
   "source": [
    "student_assessment.dtypes"
   ]
  },
  {
   "cell_type": "markdown",
   "id": "1a9d80ad",
   "metadata": {},
   "source": [
    "Посмотри на распределение дней от начала симестра до сдачи теста студентом"
   ]
  },
  {
   "cell_type": "code",
   "execution_count": 154,
   "id": "f133021e",
   "metadata": {
    "scrolled": false
   },
   "outputs": [
    {
     "data": {
      "text/plain": [
       "<AxesSubplot:xlabel='date_submitted', ylabel='Count'>"
      ]
     },
     "execution_count": 154,
     "metadata": {},
     "output_type": "execute_result"
    },
    {
     "data": {
      "image/png": "[encoded data removed]",
      "text/plain": [
       "<Figure size 640x480 with 1 Axes>"
      ]
     },
     "metadata": {},
     "output_type": "display_data"
    }
   ],
   "source": [
    "sns.histplot(student_assessment.date_submitted)"
   ]
  },
  {
   "cell_type": "markdown",
   "id": "84cee611",
   "metadata": {},
   "source": [
    "У нас есть записи о том что некоторые студенты сдали тест еще до начала симестра.\\\n",
    "Так же есть хвост доходящий до `~ 600` c начала симестра \n",
    "\n",
    "<br/><br/>\n",
    "\n",
    "Посмотри на распределение оценок"
   ]
  },
  {
   "cell_type": "code",
   "execution_count": 155,
   "id": "35a92519",
   "metadata": {
    "scrolled": false
   },
   "outputs": [
    {
     "data": {
      "text/plain": [
       "<AxesSubplot:xlabel='score', ylabel='Count'>"
      ]
     },
     "execution_count": 155,
     "metadata": {},
     "output_type": "execute_result"
    },
    {
     "data": {
      "image/png": "[encoded data removed]",
      "text/plain": [
       "<Figure size 640x480 with 1 Axes>"
      ]
     },
     "metadata": {},
     "output_type": "display_data"
    }
   ],
   "source": [
    "sns.histplot(student_assessment.score)"
   ]
  },
  {
   "cell_type": "code",
   "execution_count": 156,
   "id": "9a032553",
   "metadata": {},
   "outputs": [
    {
     "data": {
      "text/plain": [
       "80.0"
      ]
     },
     "execution_count": 156,
     "metadata": {},
     "output_type": "execute_result"
    }
   ],
   "source": [
    "student_assessment.score.median()"
   ]
  },
  {
   "cell_type": "code",
   "execution_count": 157,
   "id": "f2506822",
   "metadata": {},
   "outputs": [
    {
     "data": {
      "text/plain": [
       "87670"
      ]
     },
     "execution_count": 157,
     "metadata": {},
     "output_type": "execute_result"
    }
   ],
   "source": [
    "student_assessment.query('score >= 80')['id_student'].count()"
   ]
  },
  {
   "cell_type": "code",
   "execution_count": 158,
   "id": "b1a857f1",
   "metadata": {},
   "outputs": [
    {
     "data": {
      "text/plain": [
       "78491"
      ]
     },
     "execution_count": 158,
     "metadata": {},
     "output_type": "execute_result"
    }
   ],
   "source": [
    "student_assessment.query('40 <= score < 80')['id_student'].count()"
   ]
  },
  {
   "cell_type": "code",
   "execution_count": 159,
   "id": "d3f9ec27",
   "metadata": {},
   "outputs": [
    {
     "data": {
      "text/plain": [
       "7578"
      ]
     },
     "execution_count": 159,
     "metadata": {},
     "output_type": "execute_result"
    }
   ],
   "source": [
    "student_assessment.query('score < 40')['id_student'].count()"
   ]
  },
  {
   "cell_type": "markdown",
   "id": "2753aeb4",
   "metadata": {},
   "source": [
    "`87670` - тестов было сдано на оценку 80 и более \\\n",
    "`78491` - тестов было сдано на отценку от 40 до 79\\\n",
    "`7578` - тестов было не сданы"
   ]
  },
  {
   "cell_type": "markdown",
   "id": "fbf0909c",
   "metadata": {},
   "source": [
    "## Изчучем время регестрации студентов на курс в семестре"
   ]
  },
  {
   "cell_type": "markdown",
   "id": "422cfc26",
   "metadata": {},
   "source": [
    "code_module — предмет (идентификационный код).\n",
    "\n",
    "code_presentation — семестр (идентификационный код)\n",
    "\n",
    "id_student — идентификационный номер студента.\n",
    "\n",
    "date_registration — дата регистрации студента. Это количество дней, измеренное от начала семестра (например, отрицательное значение -30 означает, что студент зарегистрировался на прохождение курса за 30 дней до его начала).\n",
    "\n",
    "date_unregistration — дата отмены регистрации студента с предмета. У студентов, окончивших курс, это поле остается пустым."
   ]
  },
  {
   "cell_type": "code",
   "execution_count": 160,
   "id": "86f1b38c",
   "metadata": {},
   "outputs": [
    {
     "name": "stdout",
     "output_type": "stream",
     "text": [
      "<class 'pandas.core.frame.DataFrame'>\n",
      "RangeIndex: 32593 entries, 0 to 32592\n",
      "Data columns (total 5 columns):\n",
      " #   Column               Non-Null Count  Dtype  \n",
      "---  ------               --------------  -----  \n",
      " 0   code_module          32593 non-null  object \n",
      " 1   code_presentation    32593 non-null  object \n",
      " 2   id_student           32593 non-null  int64  \n",
      " 3   date_registration    32548 non-null  float64\n",
      " 4   date_unregistration  10072 non-null  float64\n",
      "dtypes: float64(2), int64(1), object(2)\n",
      "memory usage: 1.2+ MB\n"
     ]
    }
   ],
   "source": [
    "student_registration.info()"
   ]
  },
  {
   "cell_type": "code",
   "execution_count": 161,
   "id": "fcbf25c0",
   "metadata": {},
   "outputs": [
    {
     "data": {
      "text/plain": [
       "code_module                7\n",
       "code_presentation          4\n",
       "id_student             28785\n",
       "date_registration        332\n",
       "date_unregistration      416\n",
       "dtype: int64"
      ]
     },
     "execution_count": 161,
     "metadata": {},
     "output_type": "execute_result"
    }
   ],
   "source": [
    "student_registration.nunique()"
   ]
  },
  {
   "cell_type": "code",
   "execution_count": 162,
   "id": "bfcb4720",
   "metadata": {},
   "outputs": [
    {
     "data": {
      "text/html": [
       "<div>\n",
       "<style scoped>\n",
       "    .dataframe tbody tr th:only-of-type {\n",
       "        vertical-align: middle;\n",
       "    }\n",
       "\n",
       "    .dataframe tbody tr th {\n",
       "        vertical-align: top;\n",
       "    }\n",
       "\n",
       "    .dataframe thead th {\n",
       "        text-align: right;\n",
       "    }\n",
       "</style>\n",
       "<table border=\"1\" class=\"dataframe\">\n",
       "  <thead>\n",
       "    <tr style=\"text-align: right;\">\n",
       "      <th></th>\n",
       "      <th>code_module</th>\n",
       "      <th>code_presentation</th>\n",
       "      <th>id_student</th>\n",
       "      <th>date_registration</th>\n",
       "      <th>date_unregistration</th>\n",
       "    </tr>\n",
       "  </thead>\n",
       "  <tbody>\n",
       "    <tr>\n",
       "      <th>0</th>\n",
       "      <td>AAA</td>\n",
       "      <td>2013J</td>\n",
       "      <td>11391</td>\n",
       "      <td>-159.0</td>\n",
       "      <td>NaN</td>\n",
       "    </tr>\n",
       "    <tr>\n",
       "      <th>1</th>\n",
       "      <td>AAA</td>\n",
       "      <td>2013J</td>\n",
       "      <td>28400</td>\n",
       "      <td>-53.0</td>\n",
       "      <td>NaN</td>\n",
       "    </tr>\n",
       "    <tr>\n",
       "      <th>2</th>\n",
       "      <td>AAA</td>\n",
       "      <td>2013J</td>\n",
       "      <td>30268</td>\n",
       "      <td>-92.0</td>\n",
       "      <td>12.0</td>\n",
       "    </tr>\n",
       "    <tr>\n",
       "      <th>3</th>\n",
       "      <td>AAA</td>\n",
       "      <td>2013J</td>\n",
       "      <td>31604</td>\n",
       "      <td>-52.0</td>\n",
       "      <td>NaN</td>\n",
       "    </tr>\n",
       "    <tr>\n",
       "      <th>4</th>\n",
       "      <td>AAA</td>\n",
       "      <td>2013J</td>\n",
       "      <td>32885</td>\n",
       "      <td>-176.0</td>\n",
       "      <td>NaN</td>\n",
       "    </tr>\n",
       "  </tbody>\n",
       "</table>\n",
       "</div>"
      ],
      "text/plain": [
       "  code_module code_presentation  id_student  date_registration  \\\n",
       "0         AAA             2013J       11391             -159.0   \n",
       "1         AAA             2013J       28400              -53.0   \n",
       "2         AAA             2013J       30268              -92.0   \n",
       "3         AAA             2013J       31604              -52.0   \n",
       "4         AAA             2013J       32885             -176.0   \n",
       "\n",
       "   date_unregistration  \n",
       "0                  NaN  \n",
       "1                  NaN  \n",
       "2                 12.0  \n",
       "3                  NaN  \n",
       "4                  NaN  "
      ]
     },
     "execution_count": 162,
     "metadata": {},
     "output_type": "execute_result"
    }
   ],
   "source": [
    "student_registration.head()"
   ]
  },
  {
   "cell_type": "code",
   "execution_count": 163,
   "id": "a27f333c",
   "metadata": {
    "scrolled": false
   },
   "outputs": [
    {
     "data": {
      "text/plain": [
       "<AxesSubplot:xlabel='date_registration', ylabel='Count'>"
      ]
     },
     "execution_count": 163,
     "metadata": {},
     "output_type": "execute_result"
    },
    {
     "data": {
      "image/png": "[encoded data removed]",
      "text/plain": [
       "<Figure size 640x480 with 1 Axes>"
      ]
     },
     "metadata": {},
     "output_type": "display_data"
    }
   ],
   "source": [
    "sns.histplot(student_registration.date_registration)"
   ]
  },
  {
   "cell_type": "markdown",
   "id": "cf186b6c",
   "metadata": {},
   "source": [
    "Есть студенты которые записались на курс за долго после его начала"
   ]
  },
  {
   "cell_type": "markdown",
   "id": "7c48d7d7",
   "metadata": {},
   "source": [
    "<a class=\"anchor\" id=\"h2\"></a>\n",
    "\n",
    "<br/><br/>\n",
    "<br/><br/>\n",
    "# 2. Подготовка данных"
   ]
  },
  {
   "cell_type": "markdown",
   "id": "28ba3ca9",
   "metadata": {},
   "source": [
    "Добавля новое поле в таблицу с результатами тестов, которое будет сообщать успешло ли сдан тест"
   ]
  },
  {
   "cell_type": "code",
   "execution_count": 205,
   "id": "167f5fda",
   "metadata": {},
   "outputs": [],
   "source": [
    "student_assessment['successfully'] = student_assessment.score.apply(lambda x: x >= 40)*1"
   ]
  },
  {
   "cell_type": "markdown",
   "id": "d7283f17",
   "metadata": {},
   "source": [
    "В таблице регестрации заменю пропущеные значения в поле `date_unregistration` на `0`"
   ]
  },
  {
   "cell_type": "code",
   "execution_count": 206,
   "id": "c2bc265d",
   "metadata": {
    "scrolled": true
   },
   "outputs": [],
   "source": [
    "student_registration.date_unregistration = student_registration.date_unregistration.fillna(0)"
   ]
  },
  {
   "cell_type": "markdown",
   "id": "3b413dc5",
   "metadata": {},
   "source": [
    "Проверим по всем ли предметам студенты сдавали экзамены"
   ]
  },
  {
   "cell_type": "code",
   "execution_count": 348,
   "id": "e45b37d8",
   "metadata": {
    "scrolled": true
   },
   "outputs": [
    {
     "data": {
      "text/html": [
       "<div>\n",
       "<style scoped>\n",
       "    .dataframe tbody tr th:only-of-type {\n",
       "        vertical-align: middle;\n",
       "    }\n",
       "\n",
       "    .dataframe tbody tr th {\n",
       "        vertical-align: top;\n",
       "    }\n",
       "\n",
       "    .dataframe thead th {\n",
       "        text-align: right;\n",
       "    }\n",
       "</style>\n",
       "<table border=\"1\" class=\"dataframe\">\n",
       "  <thead>\n",
       "    <tr style=\"text-align: right;\">\n",
       "      <th></th>\n",
       "      <th>code_module</th>\n",
       "      <th>code_presentation</th>\n",
       "      <th>id_assessment</th>\n",
       "      <th>assessment_type</th>\n",
       "      <th>date</th>\n",
       "      <th>weight</th>\n",
       "    </tr>\n",
       "  </thead>\n",
       "  <tbody>\n",
       "    <tr>\n",
       "      <th>62</th>\n",
       "      <td>CCC</td>\n",
       "      <td>2014B</td>\n",
       "      <td>24290</td>\n",
       "      <td>Exam</td>\n",
       "      <td>NaN</td>\n",
       "      <td>100.0</td>\n",
       "    </tr>\n",
       "    <tr>\n",
       "      <th>72</th>\n",
       "      <td>CCC</td>\n",
       "      <td>2014J</td>\n",
       "      <td>24299</td>\n",
       "      <td>Exam</td>\n",
       "      <td>NaN</td>\n",
       "      <td>100.0</td>\n",
       "    </tr>\n",
       "    <tr>\n",
       "      <th>87</th>\n",
       "      <td>DDD</td>\n",
       "      <td>2013B</td>\n",
       "      <td>25340</td>\n",
       "      <td>Exam</td>\n",
       "      <td>240.0</td>\n",
       "      <td>100.0</td>\n",
       "    </tr>\n",
       "    <tr>\n",
       "      <th>94</th>\n",
       "      <td>DDD</td>\n",
       "      <td>2013J</td>\n",
       "      <td>25354</td>\n",
       "      <td>Exam</td>\n",
       "      <td>261.0</td>\n",
       "      <td>100.0</td>\n",
       "    </tr>\n",
       "    <tr>\n",
       "      <th>101</th>\n",
       "      <td>DDD</td>\n",
       "      <td>2014B</td>\n",
       "      <td>25361</td>\n",
       "      <td>Exam</td>\n",
       "      <td>241.0</td>\n",
       "      <td>100.0</td>\n",
       "    </tr>\n",
       "    <tr>\n",
       "      <th>108</th>\n",
       "      <td>DDD</td>\n",
       "      <td>2014J</td>\n",
       "      <td>25368</td>\n",
       "      <td>Exam</td>\n",
       "      <td>NaN</td>\n",
       "      <td>100.0</td>\n",
       "    </tr>\n",
       "  </tbody>\n",
       "</table>\n",
       "</div>"
      ],
      "text/plain": [
       "    code_module code_presentation  id_assessment assessment_type   date  \\\n",
       "62          CCC             2014B          24290            Exam    NaN   \n",
       "72          CCC             2014J          24299            Exam    NaN   \n",
       "87          DDD             2013B          25340            Exam  240.0   \n",
       "94          DDD             2013J          25354            Exam  261.0   \n",
       "101         DDD             2014B          25361            Exam  241.0   \n",
       "108         DDD             2014J          25368            Exam    NaN   \n",
       "\n",
       "     weight  \n",
       "62    100.0  \n",
       "72    100.0  \n",
       "87    100.0  \n",
       "94    100.0  \n",
       "101   100.0  \n",
       "108   100.0  "
      ]
     },
     "execution_count": 348,
     "metadata": {},
     "output_type": "execute_result"
    }
   ],
   "source": [
    "assessment.query('assessment_type == \"Exam\" and id_assessment in @student_assessment.id_assessment')"
   ]
  },
  {
   "cell_type": "markdown",
   "id": "1ec89839",
   "metadata": {},
   "source": [
    "<a class=\"anchor\" id=\"h3\"></a>\n",
    "\n",
    "<br/><br/>\n",
    "<br/><br/>\n",
    "# 3. Анализ"
   ]
  },
  {
   "cell_type": "markdown",
   "id": "f12f0abf",
   "metadata": {},
   "source": [
    "<a class=\"anchor\" id=\"h3.1\"></a>\n",
    "### 3.1 Сколько студентов успешно сдали только один курс?"
   ]
  },
  {
   "cell_type": "code",
   "execution_count": 351,
   "id": "72126272",
   "metadata": {},
   "outputs": [],
   "source": [
    "id_assessment_exam = assessment.query('assessment_type == \"Exam\"')['id_assessment']"
   ]
  },
  {
   "cell_type": "code",
   "execution_count": 350,
   "id": "384b307b",
   "metadata": {},
   "outputs": [
    {
     "data": {
      "text/html": [
       "<div>\n",
       "<style scoped>\n",
       "    .dataframe tbody tr th:only-of-type {\n",
       "        vertical-align: middle;\n",
       "    }\n",
       "\n",
       "    .dataframe tbody tr th {\n",
       "        vertical-align: top;\n",
       "    }\n",
       "\n",
       "    .dataframe thead th {\n",
       "        text-align: right;\n",
       "    }\n",
       "</style>\n",
       "<table border=\"1\" class=\"dataframe\">\n",
       "  <thead>\n",
       "    <tr style=\"text-align: right;\">\n",
       "      <th></th>\n",
       "      <th>successfully</th>\n",
       "      <th>id_student</th>\n",
       "    </tr>\n",
       "  </thead>\n",
       "  <tbody>\n",
       "    <tr>\n",
       "      <th>0</th>\n",
       "      <td>0</td>\n",
       "      <td>536</td>\n",
       "    </tr>\n",
       "    <tr>\n",
       "      <th>1</th>\n",
       "      <td>1</td>\n",
       "      <td>3802</td>\n",
       "    </tr>\n",
       "    <tr>\n",
       "      <th>2</th>\n",
       "      <td>2</td>\n",
       "      <td>295</td>\n",
       "    </tr>\n",
       "  </tbody>\n",
       "</table>\n",
       "</div>"
      ],
      "text/plain": [
       "   successfully  id_student\n",
       "0             0         536\n",
       "1             1        3802\n",
       "2             2         295"
      ]
     },
     "execution_count": 350,
     "metadata": {},
     "output_type": "execute_result"
    }
   ],
   "source": [
    "student_assessment.query('id_assessment in @id_assessment_exam').groupby('id_student',as_index = False)\\\n",
    "    .agg({'successfully':'sum'}).groupby('successfully').agg({'id_student':'count'}).reset_index()"
   ]
  },
  {
   "cell_type": "code",
   "execution_count": 212,
   "id": "3e9b0db4",
   "metadata": {},
   "outputs": [
    {
     "data": {
      "text/html": [
       "<div>\n",
       "<style scoped>\n",
       "    .dataframe tbody tr th:only-of-type {\n",
       "        vertical-align: middle;\n",
       "    }\n",
       "\n",
       "    .dataframe tbody tr th {\n",
       "        vertical-align: top;\n",
       "    }\n",
       "\n",
       "    .dataframe thead th {\n",
       "        text-align: right;\n",
       "    }\n",
       "</style>\n",
       "<table border=\"1\" class=\"dataframe\">\n",
       "  <thead>\n",
       "    <tr style=\"text-align: right;\">\n",
       "      <th></th>\n",
       "      <th>id_assessment</th>\n",
       "      <th>id_student</th>\n",
       "    </tr>\n",
       "  </thead>\n",
       "  <tbody>\n",
       "    <tr>\n",
       "      <th>0</th>\n",
       "      <td>1</td>\n",
       "      <td>3802</td>\n",
       "    </tr>\n",
       "    <tr>\n",
       "      <th>1</th>\n",
       "      <td>2</td>\n",
       "      <td>295</td>\n",
       "    </tr>\n",
       "  </tbody>\n",
       "</table>\n",
       "</div>"
      ],
      "text/plain": [
       "   id_assessment  id_student\n",
       "0              1        3802\n",
       "1              2         295"
      ]
     },
     "execution_count": 212,
     "metadata": {},
     "output_type": "execute_result"
    }
   ],
   "source": [
    "student_assessment.query('id_assessment in @id_assessment_exam and successfully == 1')\\\n",
    "    .groupby('id_student',as_index = False).agg({'id_assessment':'nunique'})\\\n",
    "    .groupby('id_assessment').agg({'id_student':'count'}).reset_index()"
   ]
  },
  {
   "cell_type": "markdown",
   "id": "9f13d645",
   "metadata": {},
   "source": [
    "<a class=\"anchor\" id=\"h3.2\"></a>\n",
    "### 3.2 Выяви самый сложный и самый простой экзамен."
   ]
  },
  {
   "cell_type": "code",
   "execution_count": 309,
   "id": "e632cf43",
   "metadata": {},
   "outputs": [],
   "source": [
    "student_assessment_exam = student_assessment.query('id_assessment in @id_assessment_exam')"
   ]
  },
  {
   "cell_type": "code",
   "execution_count": 314,
   "id": "9f7b269b",
   "metadata": {
    "scrolled": true
   },
   "outputs": [],
   "source": [
    "finalizability = round(student_assessment_exam.groupby('id_assessment').successfully.mean()*100,2).reset_index().\\\n",
    "    rename(columns = {'successfully':'finalizability'})"
   ]
  },
  {
   "cell_type": "code",
   "execution_count": 315,
   "id": "04d6af55",
   "metadata": {
    "scrolled": true
   },
   "outputs": [
    {
     "data": {
      "text/html": [
       "<style type=\"text/css\">\n",
       "#T_ffc07_row0_col6, #T_ffc07_row5_col6 {\n",
       "  background-color: yellow;\n",
       "}\n",
       "</style>\n",
       "<table id=\"T_ffc07\">\n",
       "  <thead>\n",
       "    <tr>\n",
       "      <th class=\"blank level0\" >&nbsp;</th>\n",
       "      <th id=\"T_ffc07_level0_col0\" class=\"col_heading level0 col0\" >code_module</th>\n",
       "      <th id=\"T_ffc07_level0_col1\" class=\"col_heading level0 col1\" >code_presentation</th>\n",
       "      <th id=\"T_ffc07_level0_col2\" class=\"col_heading level0 col2\" >id_assessment</th>\n",
       "      <th id=\"T_ffc07_level0_col3\" class=\"col_heading level0 col3\" >assessment_type</th>\n",
       "      <th id=\"T_ffc07_level0_col4\" class=\"col_heading level0 col4\" >date</th>\n",
       "      <th id=\"T_ffc07_level0_col5\" class=\"col_heading level0 col5\" >weight</th>\n",
       "      <th id=\"T_ffc07_level0_col6\" class=\"col_heading level0 col6\" >finalizability</th>\n",
       "    </tr>\n",
       "  </thead>\n",
       "  <tbody>\n",
       "    <tr>\n",
       "      <th id=\"T_ffc07_level0_row0\" class=\"row_heading level0 row0\" >0</th>\n",
       "      <td id=\"T_ffc07_row0_col0\" class=\"data row0 col0\" >DDD</td>\n",
       "      <td id=\"T_ffc07_row0_col1\" class=\"data row0 col1\" >2013B</td>\n",
       "      <td id=\"T_ffc07_row0_col2\" class=\"data row0 col2\" >25340</td>\n",
       "      <td id=\"T_ffc07_row0_col3\" class=\"data row0 col3\" >Exam</td>\n",
       "      <td id=\"T_ffc07_row0_col4\" class=\"data row0 col4\" >240.000000</td>\n",
       "      <td id=\"T_ffc07_row0_col5\" class=\"data row0 col5\" >100.000000</td>\n",
       "      <td id=\"T_ffc07_row0_col6\" class=\"data row0 col6\" >83.720000</td>\n",
       "    </tr>\n",
       "    <tr>\n",
       "      <th id=\"T_ffc07_level0_row1\" class=\"row_heading level0 row1\" >1</th>\n",
       "      <td id=\"T_ffc07_row1_col0\" class=\"data row1 col0\" >CCC</td>\n",
       "      <td id=\"T_ffc07_row1_col1\" class=\"data row1 col1\" >2014J</td>\n",
       "      <td id=\"T_ffc07_row1_col2\" class=\"data row1 col2\" >24299</td>\n",
       "      <td id=\"T_ffc07_row1_col3\" class=\"data row1 col3\" >Exam</td>\n",
       "      <td id=\"T_ffc07_row1_col4\" class=\"data row1 col4\" >nan</td>\n",
       "      <td id=\"T_ffc07_row1_col5\" class=\"data row1 col5\" >100.000000</td>\n",
       "      <td id=\"T_ffc07_row1_col6\" class=\"data row1 col6\" >87.240000</td>\n",
       "    </tr>\n",
       "    <tr>\n",
       "      <th id=\"T_ffc07_level0_row2\" class=\"row_heading level0 row2\" >2</th>\n",
       "      <td id=\"T_ffc07_row2_col0\" class=\"data row2 col0\" >DDD</td>\n",
       "      <td id=\"T_ffc07_row2_col1\" class=\"data row2 col1\" >2014J</td>\n",
       "      <td id=\"T_ffc07_row2_col2\" class=\"data row2 col2\" >25368</td>\n",
       "      <td id=\"T_ffc07_row2_col3\" class=\"data row2 col3\" >Exam</td>\n",
       "      <td id=\"T_ffc07_row2_col4\" class=\"data row2 col4\" >nan</td>\n",
       "      <td id=\"T_ffc07_row2_col5\" class=\"data row2 col5\" >100.000000</td>\n",
       "      <td id=\"T_ffc07_row2_col6\" class=\"data row2 col6\" >88.630000</td>\n",
       "    </tr>\n",
       "    <tr>\n",
       "      <th id=\"T_ffc07_level0_row3\" class=\"row_heading level0 row3\" >3</th>\n",
       "      <td id=\"T_ffc07_row3_col0\" class=\"data row3 col0\" >CCC</td>\n",
       "      <td id=\"T_ffc07_row3_col1\" class=\"data row3 col1\" >2014B</td>\n",
       "      <td id=\"T_ffc07_row3_col2\" class=\"data row3 col2\" >24290</td>\n",
       "      <td id=\"T_ffc07_row3_col3\" class=\"data row3 col3\" >Exam</td>\n",
       "      <td id=\"T_ffc07_row3_col4\" class=\"data row3 col4\" >nan</td>\n",
       "      <td id=\"T_ffc07_row3_col5\" class=\"data row3 col5\" >100.000000</td>\n",
       "      <td id=\"T_ffc07_row3_col6\" class=\"data row3 col6\" >88.890000</td>\n",
       "    </tr>\n",
       "    <tr>\n",
       "      <th id=\"T_ffc07_level0_row4\" class=\"row_heading level0 row4\" >4</th>\n",
       "      <td id=\"T_ffc07_row4_col0\" class=\"data row4 col0\" >DDD</td>\n",
       "      <td id=\"T_ffc07_row4_col1\" class=\"data row4 col1\" >2013J</td>\n",
       "      <td id=\"T_ffc07_row4_col2\" class=\"data row4 col2\" >25354</td>\n",
       "      <td id=\"T_ffc07_row4_col3\" class=\"data row4 col3\" >Exam</td>\n",
       "      <td id=\"T_ffc07_row4_col4\" class=\"data row4 col4\" >261.000000</td>\n",
       "      <td id=\"T_ffc07_row4_col5\" class=\"data row4 col5\" >100.000000</td>\n",
       "      <td id=\"T_ffc07_row4_col6\" class=\"data row4 col6\" >90.700000</td>\n",
       "    </tr>\n",
       "    <tr>\n",
       "      <th id=\"T_ffc07_level0_row5\" class=\"row_heading level0 row5\" >5</th>\n",
       "      <td id=\"T_ffc07_row5_col0\" class=\"data row5 col0\" >DDD</td>\n",
       "      <td id=\"T_ffc07_row5_col1\" class=\"data row5 col1\" >2014B</td>\n",
       "      <td id=\"T_ffc07_row5_col2\" class=\"data row5 col2\" >25361</td>\n",
       "      <td id=\"T_ffc07_row5_col3\" class=\"data row5 col3\" >Exam</td>\n",
       "      <td id=\"T_ffc07_row5_col4\" class=\"data row5 col4\" >241.000000</td>\n",
       "      <td id=\"T_ffc07_row5_col5\" class=\"data row5 col5\" >100.000000</td>\n",
       "      <td id=\"T_ffc07_row5_col6\" class=\"data row5 col6\" >92.560000</td>\n",
       "    </tr>\n",
       "  </tbody>\n",
       "</table>\n"
      ],
      "text/plain": [
       "<pandas.io.formats.style.Styler at 0x7fb6d04b0130>"
      ]
     },
     "execution_count": 315,
     "metadata": {},
     "output_type": "execute_result"
    }
   ],
   "source": [
    "assessment.query('id_assessment in @finalizability.id_assessment').merge(g).sort_values('finalizability')\\\n",
    "    .reset_index(drop = True)\\\n",
    "    .style.highlight_min('finalizability').highlight_max('finalizability')"
   ]
  },
  {
   "cell_type": "markdown",
   "id": "ac29dc92",
   "metadata": {},
   "source": [
    "Самый сложный экзамен `25340` оказался у курса `DDD 2013B` и имеет завершаемость `83.72%`\\\n",
    "Самый легкий экзамен `25361` оказался у курса `DDD 2014B` и имеет завершаемость `92.56%`"
   ]
  },
  {
   "cell_type": "markdown",
   "id": "7f12f6e9",
   "metadata": {},
   "source": [
    "<a class=\"anchor\" id=\"h3.3\"></a>\n",
    "### 3.3 По каждому предмету определи средний срок сдачи `экзаменов`"
   ]
  },
  {
   "cell_type": "code",
   "execution_count": 376,
   "id": "cac8fc11",
   "metadata": {},
   "outputs": [
    {
     "data": {
      "text/html": [
       "<div>\n",
       "<style scoped>\n",
       "    .dataframe tbody tr th:only-of-type {\n",
       "        vertical-align: middle;\n",
       "    }\n",
       "\n",
       "    .dataframe tbody tr th {\n",
       "        vertical-align: top;\n",
       "    }\n",
       "\n",
       "    .dataframe thead th {\n",
       "        text-align: right;\n",
       "    }\n",
       "</style>\n",
       "<table border=\"1\" class=\"dataframe\">\n",
       "  <thead>\n",
       "    <tr style=\"text-align: right;\">\n",
       "      <th></th>\n",
       "      <th>code_module</th>\n",
       "      <th>code_presentation</th>\n",
       "      <th>date_submitted</th>\n",
       "    </tr>\n",
       "  </thead>\n",
       "  <tbody>\n",
       "    <tr>\n",
       "      <th>0</th>\n",
       "      <td>CCC</td>\n",
       "      <td>2014B</td>\n",
       "      <td>231.581325</td>\n",
       "    </tr>\n",
       "    <tr>\n",
       "      <th>1</th>\n",
       "      <td>CCC</td>\n",
       "      <td>2014J</td>\n",
       "      <td>244.404318</td>\n",
       "    </tr>\n",
       "    <tr>\n",
       "      <th>2</th>\n",
       "      <td>DDD</td>\n",
       "      <td>2013B</td>\n",
       "      <td>230.164683</td>\n",
       "    </tr>\n",
       "    <tr>\n",
       "      <th>3</th>\n",
       "      <td>DDD</td>\n",
       "      <td>2013J</td>\n",
       "      <td>239.509112</td>\n",
       "    </tr>\n",
       "    <tr>\n",
       "      <th>4</th>\n",
       "      <td>DDD</td>\n",
       "      <td>2014B</td>\n",
       "      <td>234.936082</td>\n",
       "    </tr>\n",
       "    <tr>\n",
       "      <th>5</th>\n",
       "      <td>DDD</td>\n",
       "      <td>2014J</td>\n",
       "      <td>242.804038</td>\n",
       "    </tr>\n",
       "  </tbody>\n",
       "</table>\n",
       "</div>"
      ],
      "text/plain": [
       "  code_module code_presentation  date_submitted\n",
       "0         CCC             2014B      231.581325\n",
       "1         CCC             2014J      244.404318\n",
       "2         DDD             2013B      230.164683\n",
       "3         DDD             2013J      239.509112\n",
       "4         DDD             2014B      234.936082\n",
       "5         DDD             2014J      242.804038"
      ]
     },
     "execution_count": 376,
     "metadata": {},
     "output_type": "execute_result"
    }
   ],
   "source": [
    "student_assessment.query('id_assessment in @id_assessment_exam')\\\n",
    "    .merge(assessment[['id_assessment','code_module','code_presentation']],\\\n",
    "    on = 'id_assessment').query('is_banked == 0 and successfully == 1').sort_values('date_submitted')\\\n",
    "    .drop_duplicates(keep='last')\\\n",
    "    .groupby(['code_module','code_presentation']).agg({'date_submitted':'mean'}).reset_index()"
   ]
  },
  {
   "cell_type": "markdown",
   "id": "5a5c352e",
   "metadata": {},
   "source": [
    "<a class=\"anchor\" id=\"h3.4\"></a>\n",
    "### 3.4 Выяви самые популярные предметы (ТОП-3) по количеству регистраций на них. А также предметы с самым большим. оттоком (ТОП-3)."
   ]
  },
  {
   "cell_type": "markdown",
   "id": "a958b478",
   "metadata": {},
   "source": [
    "Будем учитывать все регестрации не зависимо от того была ли отмена.\\\n",
    "Чтобы учесть что студент может поступить на тот же предмет но в другой семестр, сначала посчитаю кол-во уникальных регестраций по семетрам, далее сложу результат сгруппировав по предмету"
   ]
  },
  {
   "cell_type": "code",
   "execution_count": 399,
   "id": "7f84e57c",
   "metadata": {},
   "outputs": [
    {
     "data": {
      "text/html": [
       "<div>\n",
       "<style scoped>\n",
       "    .dataframe tbody tr th:only-of-type {\n",
       "        vertical-align: middle;\n",
       "    }\n",
       "\n",
       "    .dataframe tbody tr th {\n",
       "        vertical-align: top;\n",
       "    }\n",
       "\n",
       "    .dataframe thead th {\n",
       "        text-align: right;\n",
       "    }\n",
       "</style>\n",
       "<table border=\"1\" class=\"dataframe\">\n",
       "  <thead>\n",
       "    <tr style=\"text-align: right;\">\n",
       "      <th></th>\n",
       "      <th>code_module</th>\n",
       "      <th>sum</th>\n",
       "    </tr>\n",
       "  </thead>\n",
       "  <tbody>\n",
       "    <tr>\n",
       "      <th>1</th>\n",
       "      <td>BBB</td>\n",
       "      <td>7909</td>\n",
       "    </tr>\n",
       "    <tr>\n",
       "      <th>5</th>\n",
       "      <td>FFF</td>\n",
       "      <td>7762</td>\n",
       "    </tr>\n",
       "    <tr>\n",
       "      <th>3</th>\n",
       "      <td>DDD</td>\n",
       "      <td>6272</td>\n",
       "    </tr>\n",
       "    <tr>\n",
       "      <th>2</th>\n",
       "      <td>CCC</td>\n",
       "      <td>4434</td>\n",
       "    </tr>\n",
       "    <tr>\n",
       "      <th>4</th>\n",
       "      <td>EEE</td>\n",
       "      <td>2934</td>\n",
       "    </tr>\n",
       "    <tr>\n",
       "      <th>6</th>\n",
       "      <td>GGG</td>\n",
       "      <td>2534</td>\n",
       "    </tr>\n",
       "    <tr>\n",
       "      <th>0</th>\n",
       "      <td>AAA</td>\n",
       "      <td>748</td>\n",
       "    </tr>\n",
       "  </tbody>\n",
       "</table>\n",
       "</div>"
      ],
      "text/plain": [
       "  code_module   sum\n",
       "1         BBB  7909\n",
       "5         FFF  7762\n",
       "3         DDD  6272\n",
       "2         CCC  4434\n",
       "4         EEE  2934\n",
       "6         GGG  2534\n",
       "0         AAA   748"
      ]
     },
     "execution_count": 399,
     "metadata": {},
     "output_type": "execute_result"
    }
   ],
   "source": [
    "student_registration\\\n",
    "    .groupby(['code_module','code_presentation'], as_index = False).agg({'id_student':'nunique'})\\\n",
    "    .groupby('code_module')['id_student'].agg(['sum']).reset_index().sort_values('sum', ascending = False)"
   ]
  },
  {
   "cell_type": "code",
   "execution_count": 386,
   "id": "636d2e92",
   "metadata": {},
   "outputs": [
    {
     "data": {
      "text/html": [
       "<div>\n",
       "<style scoped>\n",
       "    .dataframe tbody tr th:only-of-type {\n",
       "        vertical-align: middle;\n",
       "    }\n",
       "\n",
       "    .dataframe tbody tr th {\n",
       "        vertical-align: top;\n",
       "    }\n",
       "\n",
       "    .dataframe thead th {\n",
       "        text-align: right;\n",
       "    }\n",
       "</style>\n",
       "<table border=\"1\" class=\"dataframe\">\n",
       "  <thead>\n",
       "    <tr style=\"text-align: right;\">\n",
       "      <th></th>\n",
       "      <th>code_module</th>\n",
       "      <th>code_presentation</th>\n",
       "      <th>id_student</th>\n",
       "      <th>date_registration</th>\n",
       "      <th>date_unregistration</th>\n",
       "    </tr>\n",
       "  </thead>\n",
       "  <tbody>\n",
       "    <tr>\n",
       "      <th>0</th>\n",
       "      <td>AAA</td>\n",
       "      <td>2013J</td>\n",
       "      <td>11391</td>\n",
       "      <td>-159.0</td>\n",
       "      <td>0.0</td>\n",
       "    </tr>\n",
       "    <tr>\n",
       "      <th>1</th>\n",
       "      <td>AAA</td>\n",
       "      <td>2013J</td>\n",
       "      <td>28400</td>\n",
       "      <td>-53.0</td>\n",
       "      <td>0.0</td>\n",
       "    </tr>\n",
       "    <tr>\n",
       "      <th>2</th>\n",
       "      <td>AAA</td>\n",
       "      <td>2013J</td>\n",
       "      <td>30268</td>\n",
       "      <td>-92.0</td>\n",
       "      <td>12.0</td>\n",
       "    </tr>\n",
       "    <tr>\n",
       "      <th>3</th>\n",
       "      <td>AAA</td>\n",
       "      <td>2013J</td>\n",
       "      <td>31604</td>\n",
       "      <td>-52.0</td>\n",
       "      <td>0.0</td>\n",
       "    </tr>\n",
       "    <tr>\n",
       "      <th>4</th>\n",
       "      <td>AAA</td>\n",
       "      <td>2013J</td>\n",
       "      <td>32885</td>\n",
       "      <td>-176.0</td>\n",
       "      <td>0.0</td>\n",
       "    </tr>\n",
       "    <tr>\n",
       "      <th>...</th>\n",
       "      <td>...</td>\n",
       "      <td>...</td>\n",
       "      <td>...</td>\n",
       "      <td>...</td>\n",
       "      <td>...</td>\n",
       "    </tr>\n",
       "    <tr>\n",
       "      <th>32588</th>\n",
       "      <td>GGG</td>\n",
       "      <td>2014J</td>\n",
       "      <td>2640965</td>\n",
       "      <td>-4.0</td>\n",
       "      <td>0.0</td>\n",
       "    </tr>\n",
       "    <tr>\n",
       "      <th>32589</th>\n",
       "      <td>GGG</td>\n",
       "      <td>2014J</td>\n",
       "      <td>2645731</td>\n",
       "      <td>-23.0</td>\n",
       "      <td>0.0</td>\n",
       "    </tr>\n",
       "    <tr>\n",
       "      <th>32590</th>\n",
       "      <td>GGG</td>\n",
       "      <td>2014J</td>\n",
       "      <td>2648187</td>\n",
       "      <td>-129.0</td>\n",
       "      <td>0.0</td>\n",
       "    </tr>\n",
       "    <tr>\n",
       "      <th>32591</th>\n",
       "      <td>GGG</td>\n",
       "      <td>2014J</td>\n",
       "      <td>2679821</td>\n",
       "      <td>-49.0</td>\n",
       "      <td>101.0</td>\n",
       "    </tr>\n",
       "    <tr>\n",
       "      <th>32592</th>\n",
       "      <td>GGG</td>\n",
       "      <td>2014J</td>\n",
       "      <td>2684003</td>\n",
       "      <td>-28.0</td>\n",
       "      <td>0.0</td>\n",
       "    </tr>\n",
       "  </tbody>\n",
       "</table>\n",
       "<p>32593 rows × 5 columns</p>\n",
       "</div>"
      ],
      "text/plain": [
       "      code_module code_presentation  id_student  date_registration  \\\n",
       "0             AAA             2013J       11391             -159.0   \n",
       "1             AAA             2013J       28400              -53.0   \n",
       "2             AAA             2013J       30268              -92.0   \n",
       "3             AAA             2013J       31604              -52.0   \n",
       "4             AAA             2013J       32885             -176.0   \n",
       "...           ...               ...         ...                ...   \n",
       "32588         GGG             2014J     2640965               -4.0   \n",
       "32589         GGG             2014J     2645731              -23.0   \n",
       "32590         GGG             2014J     2648187             -129.0   \n",
       "32591         GGG             2014J     2679821              -49.0   \n",
       "32592         GGG             2014J     2684003              -28.0   \n",
       "\n",
       "       date_unregistration  \n",
       "0                      0.0  \n",
       "1                      0.0  \n",
       "2                     12.0  \n",
       "3                      0.0  \n",
       "4                      0.0  \n",
       "...                    ...  \n",
       "32588                  0.0  \n",
       "32589                  0.0  \n",
       "32590                  0.0  \n",
       "32591                101.0  \n",
       "32592                  0.0  \n",
       "\n",
       "[32593 rows x 5 columns]"
      ]
     },
     "execution_count": 386,
     "metadata": {},
     "output_type": "execute_result"
    }
   ],
   "source": [
    "student_registration"
   ]
  },
  {
   "cell_type": "code",
   "execution_count": 384,
   "id": "26e22ae3",
   "metadata": {
    "scrolled": false
   },
   "outputs": [
    {
     "data": {
      "text/html": [
       "<div>\n",
       "<style scoped>\n",
       "    .dataframe tbody tr th:only-of-type {\n",
       "        vertical-align: middle;\n",
       "    }\n",
       "\n",
       "    .dataframe tbody tr th {\n",
       "        vertical-align: top;\n",
       "    }\n",
       "\n",
       "    .dataframe thead th {\n",
       "        text-align: right;\n",
       "    }\n",
       "</style>\n",
       "<table border=\"1\" class=\"dataframe\">\n",
       "  <thead>\n",
       "    <tr style=\"text-align: right;\">\n",
       "      <th></th>\n",
       "      <th>id_student</th>\n",
       "    </tr>\n",
       "    <tr>\n",
       "      <th>code_module</th>\n",
       "      <th></th>\n",
       "    </tr>\n",
       "  </thead>\n",
       "  <tbody>\n",
       "    <tr>\n",
       "      <th>AAA</th>\n",
       "      <td>116</td>\n",
       "    </tr>\n",
       "    <tr>\n",
       "      <th>GGG</th>\n",
       "      <td>284</td>\n",
       "    </tr>\n",
       "    <tr>\n",
       "      <th>EEE</th>\n",
       "      <td>643</td>\n",
       "    </tr>\n",
       "    <tr>\n",
       "      <th>CCC</th>\n",
       "      <td>1823</td>\n",
       "    </tr>\n",
       "    <tr>\n",
       "      <th>DDD</th>\n",
       "      <td>1988</td>\n",
       "    </tr>\n",
       "    <tr>\n",
       "      <th>FFF</th>\n",
       "      <td>2133</td>\n",
       "    </tr>\n",
       "    <tr>\n",
       "      <th>BBB</th>\n",
       "      <td>2184</td>\n",
       "    </tr>\n",
       "  </tbody>\n",
       "</table>\n",
       "</div>"
      ],
      "text/plain": [
       "             id_student\n",
       "code_module            \n",
       "AAA                 116\n",
       "GGG                 284\n",
       "EEE                 643\n",
       "CCC                1823\n",
       "DDD                1988\n",
       "FFF                2133\n",
       "BBB                2184"
      ]
     },
     "execution_count": 384,
     "metadata": {},
     "output_type": "execute_result"
    }
   ],
   "source": [
    "student_registration.query('date_unregistration != 0').groupby('code_module')\\\n",
    "    .agg({'id_student':'nunique'}).sort_values('id_student')"
   ]
  },
  {
   "cell_type": "code",
   "execution_count": null,
   "id": "75acb69e",
   "metadata": {},
   "outputs": [],
   "source": []
  }
 ],
 "metadata": {
  "kernelspec": {
   "display_name": "Python 3 (ipykernel)",
   "language": "python",
   "name": "python3"
  },
  "language_info": {
   "codemirror_mode": {
    "name": "ipython",
    "version": 3
   },
   "file_extension": ".py",
   "mimetype": "text/x-python",
   "name": "python",
   "nbconvert_exporter": "python",
   "pygments_lexer": "ipython3",
   "version": "3.9.13"
  }
 },
 "nbformat": 4,
 "nbformat_minor": 5
}
