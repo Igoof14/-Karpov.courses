{
 "cells": [
  {
   "cell_type": "markdown",
   "metadata": {},
   "source": [
    "<a class=\"anchor\" id=\"h0\"></a>\n",
    "\n",
    "<br/><br/>\n",
    "# Анализ покупок интернет магазина\n",
    "Продакт-менеджер просит нас ответить на следующие вопросы:\n",
    "    1. Сколько у нас пользователей, которые совершили покупку только один раз?\n",
    "    2. Сколько заказов в месяц в среднем не доставляется по разным причинам (вывести детализацию по причинам)?\n",
    "    3. По каждому товару определить, в какой день недели товар чаще всего покупается.\n",
    "    4. Сколько у каждого из пользователей в среднем покупок в неделю (по месяцам)?\n",
    "    5. В период с января по декабрь выявить когорту пользователей с самым высоким retention на 3й месяц.\n",
    "    6. Построй RFM-сегментацию пользователей\n",
    "## Оглавление\n",
    "* [1. Открываем файлы, изучаем данные](#h1)\n",
    "    * [1.1 Знакомимся с пользователями](#h1_1)\n",
    "    * [1.2 Знакомимся с заказами](#h1_2)\n",
    "    * [1.3 Знакомимся с товарами в заказах](#h1_3)\n",
    "* [2. Предобработка данных](#h2)\n",
    "* [3. Приступаем к Анализу](#h3)\n",
    "    * [3.1 Сколько у нас пользователей, которые совершили покупку только один раз?](#h3_1)\n",
    "    * [3.2 Сколько заказов в месяц в среднем не доставляется по разным причинам?](#h3_2)\n",
    "    * [3.3 По каждому товару определить, в какой день недели товар чаще всего покупается](#h3_3)\n",
    "    * [3.4 Сколько у каждого из пользователей в среднем покупок в неделю (по месяцам)?](#h3_4)\n",
    "    * [3.5 В период с января по декабрь выявить когорту пользователей с самым высоким retention на 3й месяц.](#h3_5)\n",
    "    * [3.6 Построй RFM-сегментацию пользователей](#h3_6)\n",
    "* [Выводы](#h4)\n"
   ]
  },
  {
   "cell_type": "markdown",
   "metadata": {},
   "source": [
    "### Импортируем библиотеки"
   ]
  },
  {
   "cell_type": "code",
   "execution_count": 1,
   "metadata": {},
   "outputs": [],
   "source": [
    "import pandas as pd\n",
    "import warnings\n",
    "warnings.filterwarnings('ignore')\n",
    "import plotly.express as px\n",
    "import seaborn as sns\n",
    "import matplotlib.pyplot as plt\n",
    "from operator import attrgetter\n",
    "import numpy as np\n",
    "from matplotlib import style\n",
    "style.use('dark_background')"
   ]
  },
  {
   "cell_type": "markdown",
   "metadata": {},
   "source": [
    "<a class=\"anchor\" id=\"h1\"></a>\n",
    "\n",
    "<br/><br/>\n",
    "<br/><br/>\n",
    "\n",
    "# 1. Открываем файлы, изучаем данные\n"
   ]
  },
  {
   "cell_type": "markdown",
   "metadata": {},
   "source": [
    "При считывание файлов преобразуем необходимые колонки с датами в подходящий тип"
   ]
  },
  {
   "cell_type": "code",
   "execution_count": 2,
   "metadata": {},
   "outputs": [],
   "source": [
    "customers = pd.read_csv('https://getfile.dokpub.com/yandex/get/https://disk.yandex.ru/d/SRXJBQaTIRVZkQ')"
   ]
  },
  {
   "cell_type": "code",
   "execution_count": 3,
   "metadata": {
    "scrolled": true
   },
   "outputs": [],
   "source": [
    "orders = pd.read_csv('https://getfile.dokpub.com/yandex/get/https://disk.yandex.ru/d/0zWmh1bYP6REbw',\n",
    "                    parse_dates=[3,4,5,6,7])\n"
   ]
  },
  {
   "cell_type": "code",
   "execution_count": 4,
   "metadata": {},
   "outputs": [],
   "source": [
    "items = pd.read_csv('https://getfile.dokpub.com/yandex/get/https://disk.yandex.ru/d/YYEHfWxXE3QwNg', \n",
    "                   parse_dates=['shipping_limit_date'])"
   ]
  },
  {
   "cell_type": "markdown",
   "metadata": {},
   "source": [
    "<a class=\"anchor\" id=\"h1_1\"></a>\n",
    "\n",
    "<br/><br/>\n",
    "### 1.1 Знакомимся с пользователями\n"
   ]
  },
  {
   "cell_type": "markdown",
   "metadata": {},
   "source": [
    "customer_id — позаказный идентификатор пользователя\n",
    "\n",
    "customer_unique_id —  уникальный идентификатор пользователя  (аналог номера паспорта)\n",
    "\n",
    "customer_zip_code_prefix —  почтовый индекс пользователя\n",
    "\n",
    "customer_city —  город доставки пользователя\n",
    "\n",
    "customer_state —  штат доставки пользователя"
   ]
  },
  {
   "cell_type": "code",
   "execution_count": 5,
   "metadata": {
    "scrolled": false
   },
   "outputs": [
    {
     "data": {
      "text/plain": [
       "customer_id                 0\n",
       "customer_unique_id          0\n",
       "customer_zip_code_prefix    0\n",
       "customer_city               0\n",
       "customer_state              0\n",
       "dtype: int64"
      ]
     },
     "execution_count": 5,
     "metadata": {},
     "output_type": "execute_result"
    }
   ],
   "source": [
    "customers.isna().sum()"
   ]
  },
  {
   "cell_type": "code",
   "execution_count": 6,
   "metadata": {},
   "outputs": [
    {
     "data": {
      "text/plain": [
       "customer_id                 99441\n",
       "customer_unique_id          96096\n",
       "customer_zip_code_prefix    14994\n",
       "customer_city                4119\n",
       "customer_state                 27\n",
       "dtype: int64"
      ]
     },
     "execution_count": 6,
     "metadata": {},
     "output_type": "execute_result"
    }
   ],
   "source": [
    "customers.nunique()"
   ]
  },
  {
   "cell_type": "code",
   "execution_count": 7,
   "metadata": {
    "scrolled": true
   },
   "outputs": [
    {
     "data": {
      "text/html": [
       "<div>\n",
       "<style scoped>\n",
       "    .dataframe tbody tr th:only-of-type {\n",
       "        vertical-align: middle;\n",
       "    }\n",
       "\n",
       "    .dataframe tbody tr th {\n",
       "        vertical-align: top;\n",
       "    }\n",
       "\n",
       "    .dataframe thead th {\n",
       "        text-align: right;\n",
       "    }\n",
       "</style>\n",
       "<table border=\"1\" class=\"dataframe\">\n",
       "  <thead>\n",
       "    <tr style=\"text-align: right;\">\n",
       "      <th></th>\n",
       "      <th>customer_id</th>\n",
       "      <th>customer_unique_id</th>\n",
       "      <th>customer_zip_code_prefix</th>\n",
       "      <th>customer_city</th>\n",
       "      <th>customer_state</th>\n",
       "    </tr>\n",
       "  </thead>\n",
       "  <tbody>\n",
       "    <tr>\n",
       "      <th>0</th>\n",
       "      <td>06b8999e2fba1a1fbc88172c00ba8bc7</td>\n",
       "      <td>861eff4711a542e4b93843c6dd7febb0</td>\n",
       "      <td>14409</td>\n",
       "      <td>franca</td>\n",
       "      <td>SP</td>\n",
       "    </tr>\n",
       "    <tr>\n",
       "      <th>1</th>\n",
       "      <td>18955e83d337fd6b2def6b18a428ac77</td>\n",
       "      <td>290c77bc529b7ac935b93aa66c333dc3</td>\n",
       "      <td>9790</td>\n",
       "      <td>sao bernardo do campo</td>\n",
       "      <td>SP</td>\n",
       "    </tr>\n",
       "    <tr>\n",
       "      <th>2</th>\n",
       "      <td>4e7b3e00288586ebd08712fdd0374a03</td>\n",
       "      <td>060e732b5b29e8181a18229c7b0b2b5e</td>\n",
       "      <td>1151</td>\n",
       "      <td>sao paulo</td>\n",
       "      <td>SP</td>\n",
       "    </tr>\n",
       "    <tr>\n",
       "      <th>3</th>\n",
       "      <td>b2b6027bc5c5109e529d4dc6358b12c3</td>\n",
       "      <td>259dac757896d24d7702b9acbbff3f3c</td>\n",
       "      <td>8775</td>\n",
       "      <td>mogi das cruzes</td>\n",
       "      <td>SP</td>\n",
       "    </tr>\n",
       "    <tr>\n",
       "      <th>4</th>\n",
       "      <td>4f2d8ab171c80ec8364f7c12e35b23ad</td>\n",
       "      <td>345ecd01c38d18a9036ed96c73b8d066</td>\n",
       "      <td>13056</td>\n",
       "      <td>campinas</td>\n",
       "      <td>SP</td>\n",
       "    </tr>\n",
       "  </tbody>\n",
       "</table>\n",
       "</div>"
      ],
      "text/plain": [
       "                        customer_id                customer_unique_id  \\\n",
       "0  06b8999e2fba1a1fbc88172c00ba8bc7  861eff4711a542e4b93843c6dd7febb0   \n",
       "1  18955e83d337fd6b2def6b18a428ac77  290c77bc529b7ac935b93aa66c333dc3   \n",
       "2  4e7b3e00288586ebd08712fdd0374a03  060e732b5b29e8181a18229c7b0b2b5e   \n",
       "3  b2b6027bc5c5109e529d4dc6358b12c3  259dac757896d24d7702b9acbbff3f3c   \n",
       "4  4f2d8ab171c80ec8364f7c12e35b23ad  345ecd01c38d18a9036ed96c73b8d066   \n",
       "\n",
       "   customer_zip_code_prefix          customer_city customer_state  \n",
       "0                     14409                 franca             SP  \n",
       "1                      9790  sao bernardo do campo             SP  \n",
       "2                      1151              sao paulo             SP  \n",
       "3                      8775        mogi das cruzes             SP  \n",
       "4                     13056               campinas             SP  "
      ]
     },
     "execution_count": 7,
     "metadata": {},
     "output_type": "execute_result"
    }
   ],
   "source": [
    "customers.head()"
   ]
  },
  {
   "cell_type": "markdown",
   "metadata": {},
   "source": [
    " Пропущеных строк в полях нет, типы данных соответствуют.\\\n",
    " На один `customer_unique_id` приходится несколько `customer_id`"
   ]
  },
  {
   "cell_type": "markdown",
   "metadata": {},
   "source": [
    "<a class=\"anchor\" id=\"h1_2\"></a>\n",
    "\n",
    "<br/><br/>\n",
    "### 1.2 Знакомимся с заказами"
   ]
  },
  {
   "cell_type": "markdown",
   "metadata": {},
   "source": [
    "order_id —  уникальный идентификатор заказа (номер чека)\n",
    "\n",
    "customer_id —  позаказный идентификатор пользователя\n",
    "\n",
    "order_status —  статус заказа\n",
    "\n",
    "order_purchase_timestamp —  время создания заказа\n",
    "\n",
    "order_approved_at —  время подтверждения оплаты заказа\n",
    "\n",
    "order_delivered_carrier_date —  время передачи заказа в логистическую службу\n",
    "\n",
    "order_delivered_customer_date —  время доставки заказа\n",
    "\n",
    "order_estimated_delivery_date —  обещанная дата доставки"
   ]
  },
  {
   "cell_type": "code",
   "execution_count": 8,
   "metadata": {
    "scrolled": false
   },
   "outputs": [
    {
     "name": "stdout",
     "output_type": "stream",
     "text": [
      "<class 'pandas.core.frame.DataFrame'>\n",
      "RangeIndex: 99441 entries, 0 to 99440\n",
      "Data columns (total 8 columns):\n",
      " #   Column                         Non-Null Count  Dtype         \n",
      "---  ------                         --------------  -----         \n",
      " 0   order_id                       99441 non-null  object        \n",
      " 1   customer_id                    99441 non-null  object        \n",
      " 2   order_status                   99441 non-null  object        \n",
      " 3   order_purchase_timestamp       99441 non-null  datetime64[ns]\n",
      " 4   order_approved_at              99281 non-null  datetime64[ns]\n",
      " 5   order_delivered_carrier_date   97658 non-null  datetime64[ns]\n",
      " 6   order_delivered_customer_date  96476 non-null  datetime64[ns]\n",
      " 7   order_estimated_delivery_date  99441 non-null  datetime64[ns]\n",
      "dtypes: datetime64[ns](5), object(3)\n",
      "memory usage: 6.1+ MB\n"
     ]
    }
   ],
   "source": [
    "orders.info()"
   ]
  },
  {
   "cell_type": "markdown",
   "metadata": {},
   "source": [
    "Колонки `order_approved_at`, `order_delivered_carrier_date`, `order_delivered_customer_date` имеют пропущенные значения в строках.\\\n",
    "Прослеживается воронка от создания заказа до его доставки, странно что основные потери на стадиии логистики.\\\n",
    "Типы данных соответствуют."
   ]
  },
  {
   "cell_type": "markdown",
   "metadata": {},
   "source": [
    "Все последние заказы начиная с `2018-08-29 15:00:37` имеют статус `canceled`, за исключением одного"
   ]
  },
  {
   "cell_type": "code",
   "execution_count": 9,
   "metadata": {
    "scrolled": true
   },
   "outputs": [
    {
     "data": {
      "text/html": [
       "<div>\n",
       "<style scoped>\n",
       "    .dataframe tbody tr th:only-of-type {\n",
       "        vertical-align: middle;\n",
       "    }\n",
       "\n",
       "    .dataframe tbody tr th {\n",
       "        vertical-align: top;\n",
       "    }\n",
       "\n",
       "    .dataframe thead th {\n",
       "        text-align: right;\n",
       "    }\n",
       "</style>\n",
       "<table border=\"1\" class=\"dataframe\">\n",
       "  <thead>\n",
       "    <tr style=\"text-align: right;\">\n",
       "      <th></th>\n",
       "      <th>order_id</th>\n",
       "      <th>customer_id</th>\n",
       "      <th>order_status</th>\n",
       "      <th>order_purchase_timestamp</th>\n",
       "      <th>order_approved_at</th>\n",
       "      <th>order_delivered_carrier_date</th>\n",
       "      <th>order_delivered_customer_date</th>\n",
       "      <th>order_estimated_delivery_date</th>\n",
       "    </tr>\n",
       "  </thead>\n",
       "  <tbody>\n",
       "    <tr>\n",
       "      <th>60938</th>\n",
       "      <td>10a045cdf6a5650c21e9cfeb60384c16</td>\n",
       "      <td>a4b417188addbc05b26b72d5e44837a1</td>\n",
       "      <td>canceled</td>\n",
       "      <td>2018-10-17 17:30:18</td>\n",
       "      <td>NaT</td>\n",
       "      <td>NaT</td>\n",
       "      <td>NaT</td>\n",
       "      <td>2018-10-30</td>\n",
       "    </tr>\n",
       "    <tr>\n",
       "      <th>68373</th>\n",
       "      <td>b059ee4de278302d550a3035c4cdb740</td>\n",
       "      <td>856336203359aa6a61bf3826f7d84c49</td>\n",
       "      <td>canceled</td>\n",
       "      <td>2018-10-16 20:16:02</td>\n",
       "      <td>NaT</td>\n",
       "      <td>NaT</td>\n",
       "      <td>NaT</td>\n",
       "      <td>2018-11-12</td>\n",
       "    </tr>\n",
       "    <tr>\n",
       "      <th>31891</th>\n",
       "      <td>a2ac6dad85cf8af5b0afb510a240fe8c</td>\n",
       "      <td>4c2ec60c29d10c34bd49cb88aa85cfc4</td>\n",
       "      <td>canceled</td>\n",
       "      <td>2018-10-03 18:55:29</td>\n",
       "      <td>NaT</td>\n",
       "      <td>NaT</td>\n",
       "      <td>NaT</td>\n",
       "      <td>2018-10-16</td>\n",
       "    </tr>\n",
       "    <tr>\n",
       "      <th>88500</th>\n",
       "      <td>616fa7d4871b87832197b2a137a115d2</td>\n",
       "      <td>bf6181a85bbb4115736c0a8db1a53be3</td>\n",
       "      <td>canceled</td>\n",
       "      <td>2018-10-01 15:30:09</td>\n",
       "      <td>NaT</td>\n",
       "      <td>NaT</td>\n",
       "      <td>NaT</td>\n",
       "      <td>2018-10-23</td>\n",
       "    </tr>\n",
       "    <tr>\n",
       "      <th>50387</th>\n",
       "      <td>392ed9afd714e3c74767d0c4d3e3f477</td>\n",
       "      <td>2823ffda607a2316375088e0d00005ec</td>\n",
       "      <td>canceled</td>\n",
       "      <td>2018-09-29 09:13:03</td>\n",
       "      <td>NaT</td>\n",
       "      <td>NaT</td>\n",
       "      <td>NaT</td>\n",
       "      <td>2018-10-15</td>\n",
       "    </tr>\n",
       "  </tbody>\n",
       "</table>\n",
       "</div>"
      ],
      "text/plain": [
       "                               order_id                       customer_id  \\\n",
       "60938  10a045cdf6a5650c21e9cfeb60384c16  a4b417188addbc05b26b72d5e44837a1   \n",
       "68373  b059ee4de278302d550a3035c4cdb740  856336203359aa6a61bf3826f7d84c49   \n",
       "31891  a2ac6dad85cf8af5b0afb510a240fe8c  4c2ec60c29d10c34bd49cb88aa85cfc4   \n",
       "88500  616fa7d4871b87832197b2a137a115d2  bf6181a85bbb4115736c0a8db1a53be3   \n",
       "50387  392ed9afd714e3c74767d0c4d3e3f477  2823ffda607a2316375088e0d00005ec   \n",
       "\n",
       "      order_status order_purchase_timestamp order_approved_at  \\\n",
       "60938     canceled      2018-10-17 17:30:18               NaT   \n",
       "68373     canceled      2018-10-16 20:16:02               NaT   \n",
       "31891     canceled      2018-10-03 18:55:29               NaT   \n",
       "88500     canceled      2018-10-01 15:30:09               NaT   \n",
       "50387     canceled      2018-09-29 09:13:03               NaT   \n",
       "\n",
       "      order_delivered_carrier_date order_delivered_customer_date  \\\n",
       "60938                          NaT                           NaT   \n",
       "68373                          NaT                           NaT   \n",
       "31891                          NaT                           NaT   \n",
       "88500                          NaT                           NaT   \n",
       "50387                          NaT                           NaT   \n",
       "\n",
       "      order_estimated_delivery_date  \n",
       "60938                    2018-10-30  \n",
       "68373                    2018-11-12  \n",
       "31891                    2018-10-16  \n",
       "88500                    2018-10-23  \n",
       "50387                    2018-10-15  "
      ]
     },
     "execution_count": 9,
     "metadata": {},
     "output_type": "execute_result"
    }
   ],
   "source": [
    "orders.sort_values('order_purchase_timestamp',ascending = False).head()"
   ]
  },
  {
   "cell_type": "code",
   "execution_count": 10,
   "metadata": {},
   "outputs": [
    {
     "name": "stdout",
     "output_type": "stream",
     "text": [
      "delivered; invoiced; shipped; processing; unavailable; canceled; created; approved\n"
     ]
    }
   ],
   "source": [
    "# Уникальные статусы заказов\n",
    "print(*orders['order_status'].unique(),sep='; ')"
   ]
  },
  {
   "cell_type": "markdown",
   "metadata": {},
   "source": [
    "<a class=\"anchor\" id=\"h1_3\"></a>\n",
    "\n",
    "<br/><br/>\n",
    "### 1.3 Знакомимся с товарами в заказах"
   ]
  },
  {
   "cell_type": "markdown",
   "metadata": {},
   "source": [
    "order_id —  уникальный идентификатор заказа (номер чека)\n",
    "\n",
    "order_item_id —  идентификатор товара внутри одного заказа\n",
    "\n",
    "product_id —  ид товара (аналог штрихкода)\n",
    "\n",
    "seller_id — ид производителя товара\n",
    "\n",
    "shipping_limit_date —  максимальная дата доставки продавцом для передачи заказа партнеру по логистике\n",
    "\n",
    "price —  цена за единицу товара\n",
    "\n",
    "freight_value —  вес товара"
   ]
  },
  {
   "cell_type": "code",
   "execution_count": 11,
   "metadata": {
    "scrolled": false
   },
   "outputs": [
    {
     "name": "stdout",
     "output_type": "stream",
     "text": [
      "<class 'pandas.core.frame.DataFrame'>\n",
      "RangeIndex: 112650 entries, 0 to 112649\n",
      "Data columns (total 7 columns):\n",
      " #   Column               Non-Null Count   Dtype         \n",
      "---  ------               --------------   -----         \n",
      " 0   order_id             112650 non-null  object        \n",
      " 1   order_item_id        112650 non-null  int64         \n",
      " 2   product_id           112650 non-null  object        \n",
      " 3   seller_id            112650 non-null  object        \n",
      " 4   shipping_limit_date  112650 non-null  datetime64[ns]\n",
      " 5   price                112650 non-null  float64       \n",
      " 6   freight_value        112650 non-null  float64       \n",
      "dtypes: datetime64[ns](1), float64(2), int64(1), object(3)\n",
      "memory usage: 6.0+ MB\n"
     ]
    }
   ],
   "source": [
    "items.info()"
   ]
  },
  {
   "cell_type": "code",
   "execution_count": 12,
   "metadata": {},
   "outputs": [
    {
     "data": {
      "text/plain": [
       "count    112650.000000\n",
       "mean        120.653739\n",
       "std         183.633928\n",
       "min           0.850000\n",
       "25%          39.900000\n",
       "50%          74.990000\n",
       "75%         134.900000\n",
       "max        6735.000000\n",
       "Name: price, dtype: float64"
      ]
     },
     "execution_count": 12,
     "metadata": {},
     "output_type": "execute_result"
    }
   ],
   "source": [
    "items.price.describe()"
   ]
  },
  {
   "cell_type": "code",
   "execution_count": 13,
   "metadata": {},
   "outputs": [
    {
     "data": {
      "text/plain": [
       "order_id               98666\n",
       "order_item_id             21\n",
       "product_id             32951\n",
       "seller_id               3095\n",
       "shipping_limit_date    93318\n",
       "price                   5968\n",
       "freight_value           6999\n",
       "dtype: int64"
      ]
     },
     "execution_count": 13,
     "metadata": {},
     "output_type": "execute_result"
    }
   ],
   "source": [
    "items.nunique()"
   ]
  },
  {
   "cell_type": "code",
   "execution_count": 14,
   "metadata": {},
   "outputs": [
    {
     "data": {
      "text/html": [
       "<div>\n",
       "<style scoped>\n",
       "    .dataframe tbody tr th:only-of-type {\n",
       "        vertical-align: middle;\n",
       "    }\n",
       "\n",
       "    .dataframe tbody tr th {\n",
       "        vertical-align: top;\n",
       "    }\n",
       "\n",
       "    .dataframe thead th {\n",
       "        text-align: right;\n",
       "    }\n",
       "</style>\n",
       "<table border=\"1\" class=\"dataframe\">\n",
       "  <thead>\n",
       "    <tr style=\"text-align: right;\">\n",
       "      <th></th>\n",
       "      <th>order_id</th>\n",
       "      <th>order_item_id</th>\n",
       "      <th>product_id</th>\n",
       "      <th>seller_id</th>\n",
       "      <th>shipping_limit_date</th>\n",
       "      <th>price</th>\n",
       "      <th>freight_value</th>\n",
       "    </tr>\n",
       "  </thead>\n",
       "  <tbody>\n",
       "    <tr>\n",
       "      <th>0</th>\n",
       "      <td>00010242fe8c5a6d1ba2dd792cb16214</td>\n",
       "      <td>1</td>\n",
       "      <td>4244733e06e7ecb4970a6e2683c13e61</td>\n",
       "      <td>48436dade18ac8b2bce089ec2a041202</td>\n",
       "      <td>2017-09-19 09:45:35</td>\n",
       "      <td>58.90</td>\n",
       "      <td>13.29</td>\n",
       "    </tr>\n",
       "    <tr>\n",
       "      <th>1</th>\n",
       "      <td>00018f77f2f0320c557190d7a144bdd3</td>\n",
       "      <td>1</td>\n",
       "      <td>e5f2d52b802189ee658865ca93d83a8f</td>\n",
       "      <td>dd7ddc04e1b6c2c614352b383efe2d36</td>\n",
       "      <td>2017-05-03 11:05:13</td>\n",
       "      <td>239.90</td>\n",
       "      <td>19.93</td>\n",
       "    </tr>\n",
       "    <tr>\n",
       "      <th>2</th>\n",
       "      <td>000229ec398224ef6ca0657da4fc703e</td>\n",
       "      <td>1</td>\n",
       "      <td>c777355d18b72b67abbeef9df44fd0fd</td>\n",
       "      <td>5b51032eddd242adc84c38acab88f23d</td>\n",
       "      <td>2018-01-18 14:48:30</td>\n",
       "      <td>199.00</td>\n",
       "      <td>17.87</td>\n",
       "    </tr>\n",
       "    <tr>\n",
       "      <th>3</th>\n",
       "      <td>00024acbcdf0a6daa1e931b038114c75</td>\n",
       "      <td>1</td>\n",
       "      <td>7634da152a4610f1595efa32f14722fc</td>\n",
       "      <td>9d7a1d34a5052409006425275ba1c2b4</td>\n",
       "      <td>2018-08-15 10:10:18</td>\n",
       "      <td>12.99</td>\n",
       "      <td>12.79</td>\n",
       "    </tr>\n",
       "    <tr>\n",
       "      <th>4</th>\n",
       "      <td>00042b26cf59d7ce69dfabb4e55b4fd9</td>\n",
       "      <td>1</td>\n",
       "      <td>ac6c3623068f30de03045865e4e10089</td>\n",
       "      <td>df560393f3a51e74553ab94004ba5c87</td>\n",
       "      <td>2017-02-13 13:57:51</td>\n",
       "      <td>199.90</td>\n",
       "      <td>18.14</td>\n",
       "    </tr>\n",
       "  </tbody>\n",
       "</table>\n",
       "</div>"
      ],
      "text/plain": [
       "                           order_id  order_item_id  \\\n",
       "0  00010242fe8c5a6d1ba2dd792cb16214              1   \n",
       "1  00018f77f2f0320c557190d7a144bdd3              1   \n",
       "2  000229ec398224ef6ca0657da4fc703e              1   \n",
       "3  00024acbcdf0a6daa1e931b038114c75              1   \n",
       "4  00042b26cf59d7ce69dfabb4e55b4fd9              1   \n",
       "\n",
       "                         product_id                         seller_id  \\\n",
       "0  4244733e06e7ecb4970a6e2683c13e61  48436dade18ac8b2bce089ec2a041202   \n",
       "1  e5f2d52b802189ee658865ca93d83a8f  dd7ddc04e1b6c2c614352b383efe2d36   \n",
       "2  c777355d18b72b67abbeef9df44fd0fd  5b51032eddd242adc84c38acab88f23d   \n",
       "3  7634da152a4610f1595efa32f14722fc  9d7a1d34a5052409006425275ba1c2b4   \n",
       "4  ac6c3623068f30de03045865e4e10089  df560393f3a51e74553ab94004ba5c87   \n",
       "\n",
       "  shipping_limit_date   price  freight_value  \n",
       "0 2017-09-19 09:45:35   58.90          13.29  \n",
       "1 2017-05-03 11:05:13  239.90          19.93  \n",
       "2 2018-01-18 14:48:30  199.00          17.87  \n",
       "3 2018-08-15 10:10:18   12.99          12.79  \n",
       "4 2017-02-13 13:57:51  199.90          18.14  "
      ]
     },
     "execution_count": 14,
     "metadata": {},
     "output_type": "execute_result"
    }
   ],
   "source": [
    "items.head()"
   ]
  },
  {
   "cell_type": "markdown",
   "metadata": {},
   "source": [
    "`32951` уникальных товаров"
   ]
  },
  {
   "cell_type": "markdown",
   "metadata": {},
   "source": [
    "Пропущеных строк в полях нет, типы данных соответствуют"
   ]
  },
  {
   "cell_type": "markdown",
   "metadata": {},
   "source": [
    "## Выводы"
   ]
  },
  {
   "cell_type": "markdown",
   "metadata": {},
   "source": [
    "Таблицы с пользователями и товарами в порядке\\\n",
    "С заказами нужно поработать"
   ]
  },
  {
   "cell_type": "markdown",
   "metadata": {},
   "source": [
    "<a class=\"anchor\" id=\"h2\"></a>\n",
    "\n",
    "<br/><br/>\n",
    "<br/><br/>\n",
    "# 2. Предобработка данных \n",
    "\n",
    "Более подробно познакомимся с таблицей о заказах, проверим подтверждается ли статут `delivered`, наличием подтвержденной оплаты и временем доставки"
   ]
  },
  {
   "cell_type": "markdown",
   "metadata": {},
   "source": [
    "* Посмотрим есть ли заказы у которых отсутствует дата доставки, при этом статус `delivered`"
   ]
  },
  {
   "cell_type": "code",
   "execution_count": 15,
   "metadata": {
    "scrolled": true
   },
   "outputs": [
    {
     "data": {
      "text/html": [
       "<style  type=\"text/css\" >\n",
       "#T_fefb1c16_be7a_11ed_bdbb_96000040dfb6row0_col2,#T_fefb1c16_be7a_11ed_bdbb_96000040dfb6row1_col2{\n",
       "            background-color:  yellow;\n",
       "        }</style><table id=\"T_fefb1c16_be7a_11ed_bdbb_96000040dfb6\" ><thead>    <tr>        <th class=\"blank level0\" ></th>        <th class=\"col_heading level0 col0\" >order_id</th>        <th class=\"col_heading level0 col1\" >order_status</th>        <th class=\"col_heading level0 col2\" >order_delivered_customer_date</th>    </tr></thead><tbody>\n",
       "                <tr>\n",
       "                        <th id=\"T_fefb1c16_be7a_11ed_bdbb_96000040dfb6level0_row0\" class=\"row_heading level0 row0\" >3002</th>\n",
       "                        <td id=\"T_fefb1c16_be7a_11ed_bdbb_96000040dfb6row0_col0\" class=\"data row0 col0\" >2d1e2d5bf4dc7227b3bfebb81328c15f</td>\n",
       "                        <td id=\"T_fefb1c16_be7a_11ed_bdbb_96000040dfb6row0_col1\" class=\"data row0 col1\" >delivered</td>\n",
       "                        <td id=\"T_fefb1c16_be7a_11ed_bdbb_96000040dfb6row0_col2\" class=\"data row0 col2\" >NaT</td>\n",
       "            </tr>\n",
       "            <tr>\n",
       "                        <th id=\"T_fefb1c16_be7a_11ed_bdbb_96000040dfb6level0_row1\" class=\"row_heading level0 row1\" >20618</th>\n",
       "                        <td id=\"T_fefb1c16_be7a_11ed_bdbb_96000040dfb6row1_col0\" class=\"data row1 col0\" >f5dd62b788049ad9fc0526e3ad11a097</td>\n",
       "                        <td id=\"T_fefb1c16_be7a_11ed_bdbb_96000040dfb6row1_col1\" class=\"data row1 col1\" >delivered</td>\n",
       "                        <td id=\"T_fefb1c16_be7a_11ed_bdbb_96000040dfb6row1_col2\" class=\"data row1 col2\" >NaT</td>\n",
       "            </tr>\n",
       "    </tbody></table>"
      ],
      "text/plain": [
       "<pandas.io.formats.style.Styler at 0x7f2774b980f0>"
      ]
     },
     "execution_count": 15,
     "metadata": {},
     "output_type": "execute_result"
    }
   ],
   "source": [
    "orders.query('order_delivered_customer_date.isnull() and order_status == \"delivered\"')\\\n",
    "    [['order_id','order_status','order_delivered_customer_date']].head(2).style\\\n",
    "    .highlight_null('yellow')\\"
   ]
  },
  {
   "cell_type": "markdown",
   "metadata": {},
   "source": [
    "Видим что дата доставки не указана\n",
    "<br/><br/>\n",
    "* Посмотрим есть ли заказы у которых указанно время доставки но, статус отличен от `delivered`"
   ]
  },
  {
   "cell_type": "code",
   "execution_count": 16,
   "metadata": {},
   "outputs": [
    {
     "data": {
      "text/html": [
       "<div>\n",
       "<style scoped>\n",
       "    .dataframe tbody tr th:only-of-type {\n",
       "        vertical-align: middle;\n",
       "    }\n",
       "\n",
       "    .dataframe tbody tr th {\n",
       "        vertical-align: top;\n",
       "    }\n",
       "\n",
       "    .dataframe thead th {\n",
       "        text-align: right;\n",
       "    }\n",
       "</style>\n",
       "<table border=\"1\" class=\"dataframe\">\n",
       "  <thead>\n",
       "    <tr style=\"text-align: right;\">\n",
       "      <th></th>\n",
       "      <th>order_id</th>\n",
       "      <th>order_status</th>\n",
       "      <th>order_delivered_customer_date</th>\n",
       "    </tr>\n",
       "  </thead>\n",
       "  <tbody>\n",
       "    <tr>\n",
       "      <th>2921</th>\n",
       "      <td>1950d777989f6a877539f53795b4c3c3</td>\n",
       "      <td>canceled</td>\n",
       "      <td>2018-03-21 22:03:51</td>\n",
       "    </tr>\n",
       "    <tr>\n",
       "      <th>8791</th>\n",
       "      <td>dabf2b0e35b423f94618bf965fcb7514</td>\n",
       "      <td>canceled</td>\n",
       "      <td>2016-10-16 14:36:59</td>\n",
       "    </tr>\n",
       "  </tbody>\n",
       "</table>\n",
       "</div>"
      ],
      "text/plain": [
       "                              order_id order_status  \\\n",
       "2921  1950d777989f6a877539f53795b4c3c3     canceled   \n",
       "8791  dabf2b0e35b423f94618bf965fcb7514     canceled   \n",
       "\n",
       "     order_delivered_customer_date  \n",
       "2921           2018-03-21 22:03:51  \n",
       "8791           2016-10-16 14:36:59  "
      ]
     },
     "execution_count": 16,
     "metadata": {},
     "output_type": "execute_result"
    }
   ],
   "source": [
    "orders.query('order_delivered_customer_date.notnull() and order_status != \"delivered\"')\\\n",
    "    [['order_id','order_status','order_delivered_customer_date']].head(2)"
   ]
  },
  {
   "cell_type": "markdown",
   "metadata": {},
   "source": [
    "Видим что есть закрытые заказы, но указанно время доставки\n",
    "<br/><br/>\n",
    "* Посмотрим есть ли заказы со статусом `delivered`, но без времени подтверждения оплаты"
   ]
  },
  {
   "cell_type": "code",
   "execution_count": 17,
   "metadata": {},
   "outputs": [
    {
     "data": {
      "text/html": [
       "<style  type=\"text/css\" >\n",
       "#T_fefb1c17_be7a_11ed_bdbb_96000040dfb6row0_col2,#T_fefb1c17_be7a_11ed_bdbb_96000040dfb6row1_col2{\n",
       "            background-color:  yellow;\n",
       "        }</style><table id=\"T_fefb1c17_be7a_11ed_bdbb_96000040dfb6\" ><thead>    <tr>        <th class=\"blank level0\" ></th>        <th class=\"col_heading level0 col0\" >order_id</th>        <th class=\"col_heading level0 col1\" >order_status</th>        <th class=\"col_heading level0 col2\" >order_approved_at</th>    </tr></thead><tbody>\n",
       "                <tr>\n",
       "                        <th id=\"T_fefb1c17_be7a_11ed_bdbb_96000040dfb6level0_row0\" class=\"row_heading level0 row0\" >5323</th>\n",
       "                        <td id=\"T_fefb1c17_be7a_11ed_bdbb_96000040dfb6row0_col0\" class=\"data row0 col0\" >e04abd8149ef81b95221e88f6ed9ab6a</td>\n",
       "                        <td id=\"T_fefb1c17_be7a_11ed_bdbb_96000040dfb6row0_col1\" class=\"data row0 col1\" >delivered</td>\n",
       "                        <td id=\"T_fefb1c17_be7a_11ed_bdbb_96000040dfb6row0_col2\" class=\"data row0 col2\" >NaT</td>\n",
       "            </tr>\n",
       "            <tr>\n",
       "                        <th id=\"T_fefb1c17_be7a_11ed_bdbb_96000040dfb6level0_row1\" class=\"row_heading level0 row1\" >16567</th>\n",
       "                        <td id=\"T_fefb1c17_be7a_11ed_bdbb_96000040dfb6row1_col0\" class=\"data row1 col0\" >8a9adc69528e1001fc68dd0aaebbb54a</td>\n",
       "                        <td id=\"T_fefb1c17_be7a_11ed_bdbb_96000040dfb6row1_col1\" class=\"data row1 col1\" >delivered</td>\n",
       "                        <td id=\"T_fefb1c17_be7a_11ed_bdbb_96000040dfb6row1_col2\" class=\"data row1 col2\" >NaT</td>\n",
       "            </tr>\n",
       "    </tbody></table>"
      ],
      "text/plain": [
       "<pandas.io.formats.style.Styler at 0x7f2773060630>"
      ]
     },
     "execution_count": 17,
     "metadata": {},
     "output_type": "execute_result"
    }
   ],
   "source": [
    "orders.query('order_status == \"delivered\" and order_approved_at.isnull()')\\\n",
    "    [['order_id','order_status','order_approved_at']].head(2).style\\\n",
    "    .highlight_null('yellow')\\"
   ]
  },
  {
   "cell_type": "markdown",
   "metadata": {},
   "source": [
    "Как видим статус `delivered` не всегда подтверждается начилием даты подтвержденной оплаты и датой доставки.\\\n",
    "Будем считать что заказ *гарантированно* \"успешен\" если все обязательства между продавцом и покупателем выполнены; \n",
    "   * Заказ оплачен (Зафиксировано время подтверждения оплаты)\n",
    "   * Заказ доставлен (Зафиксировано время доставки, Статус  `delivered`\n",
    "   \n",
    "На основе этого добавим новое поле, которое будет принимать значение `1`, если заказ гарантированно успешен и значение `0` - во всех других случаях"
   ]
  },
  {
   "cell_type": "code",
   "execution_count": 18,
   "metadata": {},
   "outputs": [],
   "source": [
    "orders['order_successful'] = (orders.apply(lambda x: x['order_status'] == 'delivered' \n",
    "                                           and x['order_approved_at'] is not pd.NaT\n",
    "                                           and x['order_delivered_customer_date'] is not pd.NaT, axis = 1)\n",
    "                             )*1                    "
   ]
  },
  {
   "cell_type": "markdown",
   "metadata": {},
   "source": [
    "Посмотрим распределение заказов на все статусы по месяцам"
   ]
  },
  {
   "cell_type": "code",
   "execution_count": 19,
   "metadata": {},
   "outputs": [],
   "source": [
    "orders['month_year'] = orders.order_purchase_timestamp.dt.to_period(\"M\")"
   ]
  },
  {
   "cell_type": "code",
   "execution_count": 20,
   "metadata": {},
   "outputs": [],
   "source": [
    "order_status = orders.groupby(['month_year','order_status'],as_index = False).agg({'order_id':'count'})"
   ]
  },
  {
   "cell_type": "code",
   "execution_count": 21,
   "metadata": {
    "scrolled": false
   },
   "outputs": [
    {
     "data": {
      "text/plain": [
       "<matplotlib.axes._subplots.AxesSubplot at 0x7f278e371278>"
      ]
     },
     "execution_count": 21,
     "metadata": {},
     "output_type": "execute_result"
    },
    {
     "data": {
      "image/png": "[encoded data removed]",
      "text/plain": [
       "<Figure size 1800x720 with 1 Axes>"
      ]
     },
     "metadata": {},
     "output_type": "display_data"
    }
   ],
   "source": [
    "fig, ax = plt.subplots(figsize=(25, 10))\n",
    "sns.barplot(data = order_status, x='month_year', y=np.log(order_status.order_id), hue='order_status')"
   ]
  },
  {
   "cell_type": "code",
   "execution_count": 22,
   "metadata": {
    "scrolled": true
   },
   "outputs": [
    {
     "data": {
      "text/plain": [
       "Timedelta('49 days 02:29:41')"
      ]
     },
     "execution_count": 22,
     "metadata": {},
     "output_type": "execute_result"
    }
   ],
   "source": [
    "orders.query('order_successful == 0')\\\n",
    "    ['order_purchase_timestamp'].max() - orders.query('order_successful == 1')['order_purchase_timestamp'].max()"
   ]
  },
  {
   "cell_type": "markdown",
   "metadata": {},
   "source": [
    "Почти 50 дней мы имеем только закрытые заказы, кажется дела идут плохо. Будем иметь в виду эту информацию"
   ]
  },
  {
   "cell_type": "markdown",
   "metadata": {},
   "source": [
    "<a class=\"anchor\" id=\"h3\"></a>\n",
    "\n",
    "<br/><br/>\n",
    "\n",
    "# 3. Приступаем к Анализу"
   ]
  },
  {
   "cell_type": "markdown",
   "metadata": {},
   "source": [
    "<a class=\"anchor\" id=\"h3_1\"></a>\n",
    "\n",
    "<br/><br/>\n",
    "\n",
    "### 3.1 Сколько  пользователей,  совершили покупку только один раз?"
   ]
  },
  {
   "cell_type": "code",
   "execution_count": 23,
   "metadata": {
    "scrolled": false
   },
   "outputs": [],
   "source": [
    "orders_customers = orders.merge(customers ,on = 'customer_id')\n",
    "purchases_per_user = orders_customers.query('order_successful == 1').\\\n",
    "            customer_unique_id.value_counts().to_frame().reset_index().\\\n",
    "            groupby('customer_unique_id',as_index = False).agg({'index':'count'}).\\\n",
    "            rename(columns={'customer_unique_id':'number_purchases','index':'number_of_users'})\\\n",
    "\n",
    "purchases_per_user['percentage_share'] = round(purchases_per_user['number_of_users'] \\\n",
    "                                               / sum(purchases_per_user['number_of_users'])*100,3)"
   ]
  },
  {
   "cell_type": "code",
   "execution_count": 24,
   "metadata": {},
   "outputs": [
    {
     "data": {
      "text/html": [
       "<style  type=\"text/css\" >\n",
       "#T_03014966_be7b_11ed_bdbb_96000040dfb6row0_col0,#T_03014966_be7b_11ed_bdbb_96000040dfb6row0_col1,#T_03014966_be7b_11ed_bdbb_96000040dfb6row0_col2{\n",
       "            background-color:  yellow;\n",
       "        }</style><table id=\"T_03014966_be7b_11ed_bdbb_96000040dfb6\" ><thead>    <tr>        <th class=\"col_heading level0 col0\" >number_purchases</th>        <th class=\"col_heading level0 col1\" >number_of_users</th>        <th class=\"col_heading level0 col2\" >percentage_share</th>    </tr></thead><tbody>\n",
       "                <tr>\n",
       "                                <td id=\"T_03014966_be7b_11ed_bdbb_96000040dfb6row0_col0\" class=\"data row0 col0\" >1</td>\n",
       "                        <td id=\"T_03014966_be7b_11ed_bdbb_96000040dfb6row0_col1\" class=\"data row0 col1\" >90537</td>\n",
       "                        <td id=\"T_03014966_be7b_11ed_bdbb_96000040dfb6row0_col2\" class=\"data row0 col2\" >97.000000</td>\n",
       "            </tr>\n",
       "            <tr>\n",
       "                                <td id=\"T_03014966_be7b_11ed_bdbb_96000040dfb6row1_col0\" class=\"data row1 col0\" >2</td>\n",
       "                        <td id=\"T_03014966_be7b_11ed_bdbb_96000040dfb6row1_col1\" class=\"data row1 col1\" >2572</td>\n",
       "                        <td id=\"T_03014966_be7b_11ed_bdbb_96000040dfb6row1_col2\" class=\"data row1 col2\" >2.756000</td>\n",
       "            </tr>\n",
       "            <tr>\n",
       "                                <td id=\"T_03014966_be7b_11ed_bdbb_96000040dfb6row2_col0\" class=\"data row2 col0\" >3</td>\n",
       "                        <td id=\"T_03014966_be7b_11ed_bdbb_96000040dfb6row2_col1\" class=\"data row2 col1\" >181</td>\n",
       "                        <td id=\"T_03014966_be7b_11ed_bdbb_96000040dfb6row2_col2\" class=\"data row2 col2\" >0.194000</td>\n",
       "            </tr>\n",
       "            <tr>\n",
       "                                <td id=\"T_03014966_be7b_11ed_bdbb_96000040dfb6row3_col0\" class=\"data row3 col0\" >4</td>\n",
       "                        <td id=\"T_03014966_be7b_11ed_bdbb_96000040dfb6row3_col1\" class=\"data row3 col1\" >28</td>\n",
       "                        <td id=\"T_03014966_be7b_11ed_bdbb_96000040dfb6row3_col2\" class=\"data row3 col2\" >0.030000</td>\n",
       "            </tr>\n",
       "            <tr>\n",
       "                                <td id=\"T_03014966_be7b_11ed_bdbb_96000040dfb6row4_col0\" class=\"data row4 col0\" >5</td>\n",
       "                        <td id=\"T_03014966_be7b_11ed_bdbb_96000040dfb6row4_col1\" class=\"data row4 col1\" >9</td>\n",
       "                        <td id=\"T_03014966_be7b_11ed_bdbb_96000040dfb6row4_col2\" class=\"data row4 col2\" >0.010000</td>\n",
       "            </tr>\n",
       "            <tr>\n",
       "                                <td id=\"T_03014966_be7b_11ed_bdbb_96000040dfb6row5_col0\" class=\"data row5 col0\" >6</td>\n",
       "                        <td id=\"T_03014966_be7b_11ed_bdbb_96000040dfb6row5_col1\" class=\"data row5 col1\" >5</td>\n",
       "                        <td id=\"T_03014966_be7b_11ed_bdbb_96000040dfb6row5_col2\" class=\"data row5 col2\" >0.005000</td>\n",
       "            </tr>\n",
       "            <tr>\n",
       "                                <td id=\"T_03014966_be7b_11ed_bdbb_96000040dfb6row6_col0\" class=\"data row6 col0\" >7</td>\n",
       "                        <td id=\"T_03014966_be7b_11ed_bdbb_96000040dfb6row6_col1\" class=\"data row6 col1\" >3</td>\n",
       "                        <td id=\"T_03014966_be7b_11ed_bdbb_96000040dfb6row6_col2\" class=\"data row6 col2\" >0.003000</td>\n",
       "            </tr>\n",
       "            <tr>\n",
       "                                <td id=\"T_03014966_be7b_11ed_bdbb_96000040dfb6row7_col0\" class=\"data row7 col0\" >9</td>\n",
       "                        <td id=\"T_03014966_be7b_11ed_bdbb_96000040dfb6row7_col1\" class=\"data row7 col1\" >1</td>\n",
       "                        <td id=\"T_03014966_be7b_11ed_bdbb_96000040dfb6row7_col2\" class=\"data row7 col2\" >0.001000</td>\n",
       "            </tr>\n",
       "            <tr>\n",
       "                                <td id=\"T_03014966_be7b_11ed_bdbb_96000040dfb6row8_col0\" class=\"data row8 col0\" >15</td>\n",
       "                        <td id=\"T_03014966_be7b_11ed_bdbb_96000040dfb6row8_col1\" class=\"data row8 col1\" >1</td>\n",
       "                        <td id=\"T_03014966_be7b_11ed_bdbb_96000040dfb6row8_col2\" class=\"data row8 col2\" >0.001000</td>\n",
       "            </tr>\n",
       "    </tbody></table>"
      ],
      "text/plain": [
       "<pandas.io.formats.style.Styler at 0x7f27b7528d68>"
      ]
     },
     "execution_count": 24,
     "metadata": {},
     "output_type": "execute_result"
    }
   ],
   "source": [
    "purchases_per_user.style.highlight_max(['percentage_share','number_of_users'])\\\n",
    "    .highlight_min('number_purchases').hide_index()"
   ]
  },
  {
   "cell_type": "markdown",
   "metadata": {},
   "source": [
    "Одну покупку совершило `90537` пользователей, что сотавило `97%` от общего кол-ва успешных покупок"
   ]
  },
  {
   "cell_type": "markdown",
   "metadata": {},
   "source": [
    "<a class=\"anchor\" id=\"h3_2\"></a>\n",
    "\n",
    "<br/><br/>\n",
    "<br/><br/>\n",
    "\n",
    "### 3.2 Сколько заказов в месяц в среднем не доставляется по разным причинам (вывести детализацию по причинам)?\n",
    "\n",
    "Для этого возьмем заказы со статусом `canceled` и `unavailable`"
   ]
  },
  {
   "cell_type": "markdown",
   "metadata": {},
   "source": [
    "<br/><br/>\n",
    "Запишу нужную область данных в отдельную переменную, чтобы не изменять исходный дф"
   ]
  },
  {
   "cell_type": "code",
   "execution_count": 25,
   "metadata": {},
   "outputs": [],
   "source": [
    "not_delivered = orders.query('order_successful == 0 and order_status in [\"canceled\", \"unavailable\"]')\\\n",
    "    .groupby(['month_year','order_status']).agg({'order_id':'count'}).reset_index()"
   ]
  },
  {
   "cell_type": "markdown",
   "metadata": {},
   "source": [
    "Посмотрим на средние значение"
   ]
  },
  {
   "cell_type": "code",
   "execution_count": 26,
   "metadata": {
    "scrolled": true
   },
   "outputs": [
    {
     "data": {
      "text/html": [
       "<style  type=\"text/css\" >\n",
       "</style><table id=\"T_03014967_be7b_11ed_bdbb_96000040dfb6\" ><thead>    <tr>        <th class=\"col_heading level0 col0\" >order_status</th>        <th class=\"col_heading level0 col1\" colspan=2>avg_canceled_unavailable</th>    </tr>    <tr>        <th class=\"col_heading level1 col0\" ></th>        <th class=\"col_heading level1 col1\" >mean</th>        <th class=\"col_heading level1 col2\" >sum</th>    </tr></thead><tbody>\n",
       "                <tr>\n",
       "                                <td id=\"T_03014967_be7b_11ed_bdbb_96000040dfb6row0_col0\" class=\"data row0 col0\" >canceled</td>\n",
       "                        <td id=\"T_03014967_be7b_11ed_bdbb_96000040dfb6row0_col1\" class=\"data row0 col1\" >26.041667</td>\n",
       "                        <td id=\"T_03014967_be7b_11ed_bdbb_96000040dfb6row0_col2\" class=\"data row0 col2\" >625</td>\n",
       "            </tr>\n",
       "            <tr>\n",
       "                                <td id=\"T_03014967_be7b_11ed_bdbb_96000040dfb6row1_col0\" class=\"data row1 col0\" >unavailable</td>\n",
       "                        <td id=\"T_03014967_be7b_11ed_bdbb_96000040dfb6row1_col1\" class=\"data row1 col1\" >29.000000</td>\n",
       "                        <td id=\"T_03014967_be7b_11ed_bdbb_96000040dfb6row1_col2\" class=\"data row1 col2\" >609</td>\n",
       "            </tr>\n",
       "    </tbody></table>"
      ],
      "text/plain": [
       "<pandas.io.formats.style.Styler at 0x7f2773068438>"
      ]
     },
     "execution_count": 26,
     "metadata": {},
     "output_type": "execute_result"
    }
   ],
   "source": [
    "not_delivered.groupby('order_status').agg({'order_id':['mean','sum']}).reset_index()\\\n",
    "    .rename(columns={'order_id':'avg_canceled_unavailable'}).style.hide_index()"
   ]
  },
  {
   "cell_type": "markdown",
   "metadata": {},
   "source": [
    "Посмотрим на распределение не доставленных заказов по месяцам с разбивкой по причинам "
   ]
  },
  {
   "cell_type": "code",
   "execution_count": 27,
   "metadata": {},
   "outputs": [
    {
     "data": {
      "text/plain": [
       "<matplotlib.axes._subplots.AxesSubplot at 0x7f278e997390>"
      ]
     },
     "execution_count": 27,
     "metadata": {},
     "output_type": "execute_result"
    },
    {
     "data": {
      "image/png": "[encoded data removed]",
      "text/plain": [
       "<Figure size 1800x720 with 1 Axes>"
      ]
     },
     "metadata": {},
     "output_type": "display_data"
    }
   ],
   "source": [
    "fig, ax = plt.subplots(figsize=(25, 10))\n",
    "sns.barplot(data = not_delivered, x='month_year', y='order_id', hue='order_status')"
   ]
  },
  {
   "cell_type": "markdown",
   "metadata": {},
   "source": [
    "Сравним кол-во недоставленных заказов с общим кол-вом заказов по месяца, выброс `08-2018` `canceled` заказов может быть связан с большим кол-вом заказов"
   ]
  },
  {
   "cell_type": "code",
   "execution_count": 28,
   "metadata": {},
   "outputs": [],
   "source": [
    "orders_fig = orders.query('order_successful in [1,0]')\n",
    "\n",
    "gr_orders = orders_fig.groupby('month_year').agg({'order_id':'count'}).reset_index()"
   ]
  },
  {
   "cell_type": "code",
   "execution_count": 29,
   "metadata": {},
   "outputs": [
    {
     "data": {
      "text/plain": [
       "<matplotlib.axes._subplots.AxesSubplot at 0x7f27b749e358>"
      ]
     },
     "execution_count": 29,
     "metadata": {},
     "output_type": "execute_result"
    },
    {
     "data": {
      "image/png": "[encoded data removed]",
      "text/plain": [
       "<Figure size 1800x720 with 1 Axes>"
      ]
     },
     "metadata": {},
     "output_type": "display_data"
    }
   ],
   "source": [
    "fig, ax = plt.subplots(figsize=(25, 10))\n",
    "sns.barplot(data = gr_orders, x='month_year', y='order_id')"
   ]
  },
  {
   "cell_type": "markdown",
   "metadata": {},
   "source": [
    "### Вывод\n",
    "\n",
    "В среднем ежемесячно `29` заказов не доставленно по причине `unavailable`,`26` по причине `canceled` соответственно\\\n",
    "\n",
    "`08-2018` резкий рост `canceled` заказов, не связан с общим кол-вом заказов\n",
    "\n",
    "С `09-2018` прекращается поступление  заказов"
   ]
  },
  {
   "cell_type": "markdown",
   "metadata": {},
   "source": [
    "## [На верх](#h0)\n",
    "\n",
    "<a class=\"anchor\" id=\"h3_3\"></a>\n",
    "\n",
    "<br/><br/>\n",
    "<br/><br/>\n",
    "\n",
    "### 3.3 По каждому товару определить, в какой день недели товар чаще всего покупается\n",
    "Так же проведем расчет по гарантированно успешым наказам"
   ]
  },
  {
   "cell_type": "markdown",
   "metadata": {},
   "source": [
    "Объеденим данные о заках и товарах в заказах, найдем день недели для каждого заказа"
   ]
  },
  {
   "cell_type": "code",
   "execution_count": 30,
   "metadata": {},
   "outputs": [],
   "source": [
    "orders_items = orders.merge(items, on = 'order_id')"
   ]
  },
  {
   "cell_type": "code",
   "execution_count": 31,
   "metadata": {},
   "outputs": [],
   "source": [
    "orders_items['day_of_week'] = orders_items['order_purchase_timestamp'].dt.day_name()"
   ]
  },
  {
   "cell_type": "markdown",
   "metadata": {},
   "source": [
    "Посчитаем сколько товаров было проданно в каждый день недели, отсортируем по убыванию кол-ва товаров проданных в определенный день и оставим только первое вхождение товара, оно и будет соответствовать вопросу "
   ]
  },
  {
   "cell_type": "code",
   "execution_count": 32,
   "metadata": {},
   "outputs": [
    {
     "data": {
      "text/html": [
       "<div>\n",
       "<style scoped>\n",
       "    .dataframe tbody tr th:only-of-type {\n",
       "        vertical-align: middle;\n",
       "    }\n",
       "\n",
       "    .dataframe tbody tr th {\n",
       "        vertical-align: top;\n",
       "    }\n",
       "\n",
       "    .dataframe thead th {\n",
       "        text-align: right;\n",
       "    }\n",
       "</style>\n",
       "<table border=\"1\" class=\"dataframe\">\n",
       "  <thead>\n",
       "    <tr style=\"text-align: right;\">\n",
       "      <th></th>\n",
       "      <th>product_id</th>\n",
       "      <th>day_of_week</th>\n",
       "      <th>order_id</th>\n",
       "    </tr>\n",
       "  </thead>\n",
       "  <tbody>\n",
       "    <tr>\n",
       "      <th>15592</th>\n",
       "      <td>422879e10f46682990de24d770e7f83d</td>\n",
       "      <td>Wednesday</td>\n",
       "      <td>93</td>\n",
       "    </tr>\n",
       "    <tr>\n",
       "      <th>35743</th>\n",
       "      <td>99a4788cb24856965c36a24e339b6058</td>\n",
       "      <td>Monday</td>\n",
       "      <td>91</td>\n",
       "    </tr>\n",
       "    <tr>\n",
       "      <th>40174</th>\n",
       "      <td>aca2eb7d00ea1a7b8ebd4e68314663af</td>\n",
       "      <td>Thursday</td>\n",
       "      <td>89</td>\n",
       "    </tr>\n",
       "    <tr>\n",
       "      <th>19705</th>\n",
       "      <td>53b36df67ebb7c41585e8d54d6772e08</td>\n",
       "      <td>Tuesday</td>\n",
       "      <td>76</td>\n",
       "    </tr>\n",
       "    <tr>\n",
       "      <th>13266</th>\n",
       "      <td>389d119b48cf3043d311335e499d9c6b</td>\n",
       "      <td>Thursday</td>\n",
       "      <td>67</td>\n",
       "    </tr>\n",
       "    <tr>\n",
       "      <th>...</th>\n",
       "      <td>...</td>\n",
       "      <td>...</td>\n",
       "      <td>...</td>\n",
       "    </tr>\n",
       "    <tr>\n",
       "      <th>23483</th>\n",
       "      <td>6413f8d0daa3a38887a14917589e7da5</td>\n",
       "      <td>Wednesday</td>\n",
       "      <td>1</td>\n",
       "    </tr>\n",
       "    <tr>\n",
       "      <th>23485</th>\n",
       "      <td>641444946fe3a839d726c32804cd1aff</td>\n",
       "      <td>Tuesday</td>\n",
       "      <td>1</td>\n",
       "    </tr>\n",
       "    <tr>\n",
       "      <th>23486</th>\n",
       "      <td>6416e0ecd625ef4adf18658a9aca2e10</td>\n",
       "      <td>Thursday</td>\n",
       "      <td>1</td>\n",
       "    </tr>\n",
       "    <tr>\n",
       "      <th>23487</th>\n",
       "      <td>64187b994e1b15e6a59a6f72688fbea8</td>\n",
       "      <td>Friday</td>\n",
       "      <td>1</td>\n",
       "    </tr>\n",
       "    <tr>\n",
       "      <th>59939</th>\n",
       "      <td>fffe9eeff12fcbd74a2f2b007dde0c58</td>\n",
       "      <td>Wednesday</td>\n",
       "      <td>1</td>\n",
       "    </tr>\n",
       "  </tbody>\n",
       "</table>\n",
       "<p>32211 rows × 3 columns</p>\n",
       "</div>"
      ],
      "text/plain": [
       "                             product_id day_of_week  order_id\n",
       "15592  422879e10f46682990de24d770e7f83d   Wednesday        93\n",
       "35743  99a4788cb24856965c36a24e339b6058      Monday        91\n",
       "40174  aca2eb7d00ea1a7b8ebd4e68314663af    Thursday        89\n",
       "19705  53b36df67ebb7c41585e8d54d6772e08     Tuesday        76\n",
       "13266  389d119b48cf3043d311335e499d9c6b    Thursday        67\n",
       "...                                 ...         ...       ...\n",
       "23483  6413f8d0daa3a38887a14917589e7da5   Wednesday         1\n",
       "23485  641444946fe3a839d726c32804cd1aff     Tuesday         1\n",
       "23486  6416e0ecd625ef4adf18658a9aca2e10    Thursday         1\n",
       "23487  64187b994e1b15e6a59a6f72688fbea8      Friday         1\n",
       "59939  fffe9eeff12fcbd74a2f2b007dde0c58   Wednesday         1\n",
       "\n",
       "[32211 rows x 3 columns]"
      ]
     },
     "execution_count": 32,
     "metadata": {},
     "output_type": "execute_result"
    }
   ],
   "source": [
    "orders_items.query('order_successful == 1').groupby(['product_id','day_of_week'])\\\n",
    "    .agg({'order_id':'count'}).reset_index()\\\n",
    "    .sort_values('order_id', ascending = False).drop_duplicates(['product_id'], keep = 'first')"
   ]
  },
  {
   "cell_type": "markdown",
   "metadata": {},
   "source": [
    "<a class=\"anchor\" id=\"h3_4\"></a>\n",
    "\n",
    "\n",
    "\n",
    "### 3.4 Сколько у каждого из пользователей в среднем покупок в неделю (по месяцам)? "
   ]
  },
  {
   "cell_type": "code",
   "execution_count": 33,
   "metadata": {
    "scrolled": false
   },
   "outputs": [],
   "source": [
    "sales_of_week = orders_customers.query('order_successful == 1')"
   ]
  },
  {
   "cell_type": "code",
   "execution_count": 34,
   "metadata": {},
   "outputs": [],
   "source": [
    "sales_of_week['count_week'] = sales_of_week.order_purchase_timestamp.dt.days_in_month/7"
   ]
  },
  {
   "cell_type": "code",
   "execution_count": 35,
   "metadata": {},
   "outputs": [],
   "source": [
    "g = sales_of_week.groupby(['customer_unique_id','month_year','count_week'],as_index = False)\\\n",
    "    .agg({'order_id':'count'}).\\\n",
    "    sort_values('order_id', ascending = False).rename(columns = {'order_id': 'quantity_of_purchases'})"
   ]
  },
  {
   "cell_type": "markdown",
   "metadata": {},
   "source": [
    "Посчитаем среднее кол-во покупом в неделю и удалим данные за первый не полный месяц"
   ]
  },
  {
   "cell_type": "code",
   "execution_count": 36,
   "metadata": {
    "scrolled": false
   },
   "outputs": [
    {
     "data": {
      "text/html": [
       "<div>\n",
       "<style scoped>\n",
       "    .dataframe tbody tr th:only-of-type {\n",
       "        vertical-align: middle;\n",
       "    }\n",
       "\n",
       "    .dataframe tbody tr th {\n",
       "        vertical-align: top;\n",
       "    }\n",
       "\n",
       "    .dataframe thead th {\n",
       "        text-align: right;\n",
       "    }\n",
       "</style>\n",
       "<table border=\"1\" class=\"dataframe\">\n",
       "  <thead>\n",
       "    <tr style=\"text-align: right;\">\n",
       "      <th></th>\n",
       "      <th>customer_unique_id</th>\n",
       "      <th>month_year</th>\n",
       "      <th>count_week</th>\n",
       "      <th>quantity_of_purchases</th>\n",
       "      <th>avg_orders_in_week</th>\n",
       "    </tr>\n",
       "  </thead>\n",
       "  <tbody>\n",
       "    <tr>\n",
       "      <th>94952</th>\n",
       "      <td>ff68ad2883e793597f1c343dd6505f5d</td>\n",
       "      <td>2016-10</td>\n",
       "      <td>4.428571</td>\n",
       "      <td>1</td>\n",
       "      <td>0.225806</td>\n",
       "    </tr>\n",
       "    <tr>\n",
       "      <th>84729</th>\n",
       "      <td>e37af39d93f352f64ede45a151161d0c</td>\n",
       "      <td>2016-10</td>\n",
       "      <td>4.428571</td>\n",
       "      <td>1</td>\n",
       "      <td>0.225806</td>\n",
       "    </tr>\n",
       "    <tr>\n",
       "      <th>45452</th>\n",
       "      <td>7a2679d6c164f6b6a2f36daf1b2fbc9d</td>\n",
       "      <td>2016-10</td>\n",
       "      <td>4.428571</td>\n",
       "      <td>1</td>\n",
       "      <td>0.225806</td>\n",
       "    </tr>\n",
       "    <tr>\n",
       "      <th>85864</th>\n",
       "      <td>e6a1d274cbba12da4cd29eb462b34be5</td>\n",
       "      <td>2016-10</td>\n",
       "      <td>4.428571</td>\n",
       "      <td>1</td>\n",
       "      <td>0.225806</td>\n",
       "    </tr>\n",
       "    <tr>\n",
       "      <th>86152</th>\n",
       "      <td>e75b9df782b21f27d61449864774108b</td>\n",
       "      <td>2016-10</td>\n",
       "      <td>4.428571</td>\n",
       "      <td>1</td>\n",
       "      <td>0.225806</td>\n",
       "    </tr>\n",
       "    <tr>\n",
       "      <th>...</th>\n",
       "      <td>...</td>\n",
       "      <td>...</td>\n",
       "      <td>...</td>\n",
       "      <td>...</td>\n",
       "      <td>...</td>\n",
       "    </tr>\n",
       "    <tr>\n",
       "      <th>15860</th>\n",
       "      <td>2aa42e268eb5208e68313f4b5df1f4f9</td>\n",
       "      <td>2018-08</td>\n",
       "      <td>4.428571</td>\n",
       "      <td>1</td>\n",
       "      <td>0.225806</td>\n",
       "    </tr>\n",
       "    <tr>\n",
       "      <th>10703</th>\n",
       "      <td>1c89ad9872748220ba627f9dbf36d6bc</td>\n",
       "      <td>2018-08</td>\n",
       "      <td>4.428571</td>\n",
       "      <td>1</td>\n",
       "      <td>0.225806</td>\n",
       "    </tr>\n",
       "    <tr>\n",
       "      <th>10699</th>\n",
       "      <td>1c86168e4d62fcd4b65534c945e3c6ac</td>\n",
       "      <td>2018-08</td>\n",
       "      <td>4.428571</td>\n",
       "      <td>1</td>\n",
       "      <td>0.225806</td>\n",
       "    </tr>\n",
       "    <tr>\n",
       "      <th>45447</th>\n",
       "      <td>7a22d14aa3c3599238509ddca4b93b01</td>\n",
       "      <td>2018-08</td>\n",
       "      <td>4.428571</td>\n",
       "      <td>1</td>\n",
       "      <td>0.225806</td>\n",
       "    </tr>\n",
       "    <tr>\n",
       "      <th>22371</th>\n",
       "      <td>3c068da825c04776514f05089b83ef6b</td>\n",
       "      <td>2018-08</td>\n",
       "      <td>4.428571</td>\n",
       "      <td>1</td>\n",
       "      <td>0.225806</td>\n",
       "    </tr>\n",
       "  </tbody>\n",
       "</table>\n",
       "<p>95171 rows × 5 columns</p>\n",
       "</div>"
      ],
      "text/plain": [
       "                     customer_unique_id month_year  count_week  \\\n",
       "94952  ff68ad2883e793597f1c343dd6505f5d    2016-10    4.428571   \n",
       "84729  e37af39d93f352f64ede45a151161d0c    2016-10    4.428571   \n",
       "45452  7a2679d6c164f6b6a2f36daf1b2fbc9d    2016-10    4.428571   \n",
       "85864  e6a1d274cbba12da4cd29eb462b34be5    2016-10    4.428571   \n",
       "86152  e75b9df782b21f27d61449864774108b    2016-10    4.428571   \n",
       "...                                 ...        ...         ...   \n",
       "15860  2aa42e268eb5208e68313f4b5df1f4f9    2018-08    4.428571   \n",
       "10703  1c89ad9872748220ba627f9dbf36d6bc    2018-08    4.428571   \n",
       "10699  1c86168e4d62fcd4b65534c945e3c6ac    2018-08    4.428571   \n",
       "45447  7a22d14aa3c3599238509ddca4b93b01    2018-08    4.428571   \n",
       "22371  3c068da825c04776514f05089b83ef6b    2018-08    4.428571   \n",
       "\n",
       "       quantity_of_purchases  avg_orders_in_week  \n",
       "94952                      1            0.225806  \n",
       "84729                      1            0.225806  \n",
       "45452                      1            0.225806  \n",
       "85864                      1            0.225806  \n",
       "86152                      1            0.225806  \n",
       "...                      ...                 ...  \n",
       "15860                      1            0.225806  \n",
       "10703                      1            0.225806  \n",
       "10699                      1            0.225806  \n",
       "45447                      1            0.225806  \n",
       "22371                      1            0.225806  \n",
       "\n",
       "[95171 rows x 5 columns]"
      ]
     },
     "execution_count": 36,
     "metadata": {},
     "output_type": "execute_result"
    }
   ],
   "source": [
    "g['avg_orders_in_week'] = g['quantity_of_purchases']/g['count_week']\n",
    "g.sort_values('month_year').drop(index = 48804)"
   ]
  },
  {
   "cell_type": "markdown",
   "metadata": {},
   "source": [
    "<a class=\"anchor\" id=\"h3_5\"></a>\n",
    "\n",
    "<br/><br/>\n",
    "<br/><br/>\n",
    "\n",
    "### 3.5 В период с января по декабрь выявить когорту пользователей с самым высоким retention на 3й месяц."
   ]
  },
  {
   "cell_type": "code",
   "execution_count": 37,
   "metadata": {},
   "outputs": [],
   "source": [
    "cohort_analysis = orders.merge(customers ,on = 'customer_id').query('order_successful == 1')"
   ]
  },
  {
   "cell_type": "code",
   "execution_count": 38,
   "metadata": {},
   "outputs": [],
   "source": [
    "c = cohort_analysis.groupby('customer_unique_id',as_index = False).agg({'month_year': 'min'}).\\\n",
    "    merge(cohort_analysis[['customer_unique_id','month_year']], on = 'customer_unique_id').\\\n",
    "    groupby(['month_year_x','month_year_y'],as_index = False).agg({'customer_unique_id':'count'}).\\\n",
    "    sort_values('month_year_y').\\\n",
    "    rename(columns = {'month_year_x': 'first_order_cohort','month_year_y':'orders_date'})"
   ]
  },
  {
   "cell_type": "code",
   "execution_count": 39,
   "metadata": {},
   "outputs": [],
   "source": [
    "c['month'] = (c['orders_date'] - c['first_order_cohort']).apply(attrgetter('n'))"
   ]
  },
  {
   "cell_type": "code",
   "execution_count": 40,
   "metadata": {},
   "outputs": [],
   "source": [
    "aa = c.query('month == 0').groupby('first_order_cohort')['customer_unique_id'].sum()"
   ]
  },
  {
   "cell_type": "code",
   "execution_count": 41,
   "metadata": {
    "scrolled": false
   },
   "outputs": [
    {
     "data": {
      "text/html": [
       "<style  type=\"text/css\" >\n",
       "#T_04d50fde_be7b_11ed_bdbb_96000040dfb6row0_col0,#T_04d50fde_be7b_11ed_bdbb_96000040dfb6row1_col0,#T_04d50fde_be7b_11ed_bdbb_96000040dfb6row2_col0,#T_04d50fde_be7b_11ed_bdbb_96000040dfb6row3_col0,#T_04d50fde_be7b_11ed_bdbb_96000040dfb6row3_col1,#T_04d50fde_be7b_11ed_bdbb_96000040dfb6row4_col0,#T_04d50fde_be7b_11ed_bdbb_96000040dfb6row4_col1,#T_04d50fde_be7b_11ed_bdbb_96000040dfb6row4_col8,#T_04d50fde_be7b_11ed_bdbb_96000040dfb6row4_col10,#T_04d50fde_be7b_11ed_bdbb_96000040dfb6row5_col0,#T_04d50fde_be7b_11ed_bdbb_96000040dfb6row5_col1,#T_04d50fde_be7b_11ed_bdbb_96000040dfb6row6_col0,#T_04d50fde_be7b_11ed_bdbb_96000040dfb6row6_col12,#T_04d50fde_be7b_11ed_bdbb_96000040dfb6row7_col0,#T_04d50fde_be7b_11ed_bdbb_96000040dfb6row7_col1,#T_04d50fde_be7b_11ed_bdbb_96000040dfb6row8_col0,#T_04d50fde_be7b_11ed_bdbb_96000040dfb6row8_col1,#T_04d50fde_be7b_11ed_bdbb_96000040dfb6row9_col0,#T_04d50fde_be7b_11ed_bdbb_96000040dfb6row10_col0,#T_04d50fde_be7b_11ed_bdbb_96000040dfb6row11_col0,#T_04d50fde_be7b_11ed_bdbb_96000040dfb6row11_col11,#T_04d50fde_be7b_11ed_bdbb_96000040dfb6row12_col0,#T_04d50fde_be7b_11ed_bdbb_96000040dfb6row12_col2,#T_04d50fde_be7b_11ed_bdbb_96000040dfb6row12_col3,#T_04d50fde_be7b_11ed_bdbb_96000040dfb6row13_col0,#T_04d50fde_be7b_11ed_bdbb_96000040dfb6row13_col6,#T_04d50fde_be7b_11ed_bdbb_96000040dfb6row13_col9,#T_04d50fde_be7b_11ed_bdbb_96000040dfb6row14_col0,#T_04d50fde_be7b_11ed_bdbb_96000040dfb6row14_col1,#T_04d50fde_be7b_11ed_bdbb_96000040dfb6row14_col7,#T_04d50fde_be7b_11ed_bdbb_96000040dfb6row15_col0,#T_04d50fde_be7b_11ed_bdbb_96000040dfb6row15_col1,#T_04d50fde_be7b_11ed_bdbb_96000040dfb6row16_col0,#T_04d50fde_be7b_11ed_bdbb_96000040dfb6row16_col1,#T_04d50fde_be7b_11ed_bdbb_96000040dfb6row17_col0,#T_04d50fde_be7b_11ed_bdbb_96000040dfb6row17_col1,#T_04d50fde_be7b_11ed_bdbb_96000040dfb6row17_col4,#T_04d50fde_be7b_11ed_bdbb_96000040dfb6row17_col5,#T_04d50fde_be7b_11ed_bdbb_96000040dfb6row18_col0,#T_04d50fde_be7b_11ed_bdbb_96000040dfb6row19_col0,#T_04d50fde_be7b_11ed_bdbb_96000040dfb6row19_col1,#T_04d50fde_be7b_11ed_bdbb_96000040dfb6row20_col0,#T_04d50fde_be7b_11ed_bdbb_96000040dfb6row20_col1,#T_04d50fde_be7b_11ed_bdbb_96000040dfb6row21_col0,#T_04d50fde_be7b_11ed_bdbb_96000040dfb6row21_col1,#T_04d50fde_be7b_11ed_bdbb_96000040dfb6row22_col0{\n",
       "            background-color:  #fff7fb;\n",
       "            color:  #000000;\n",
       "        }#T_04d50fde_be7b_11ed_bdbb_96000040dfb6row0_col1,#T_04d50fde_be7b_11ed_bdbb_96000040dfb6row0_col2,#T_04d50fde_be7b_11ed_bdbb_96000040dfb6row0_col3,#T_04d50fde_be7b_11ed_bdbb_96000040dfb6row0_col4,#T_04d50fde_be7b_11ed_bdbb_96000040dfb6row0_col5,#T_04d50fde_be7b_11ed_bdbb_96000040dfb6row0_col6,#T_04d50fde_be7b_11ed_bdbb_96000040dfb6row0_col7,#T_04d50fde_be7b_11ed_bdbb_96000040dfb6row0_col8,#T_04d50fde_be7b_11ed_bdbb_96000040dfb6row0_col9,#T_04d50fde_be7b_11ed_bdbb_96000040dfb6row0_col10,#T_04d50fde_be7b_11ed_bdbb_96000040dfb6row0_col11,#T_04d50fde_be7b_11ed_bdbb_96000040dfb6row0_col12,#T_04d50fde_be7b_11ed_bdbb_96000040dfb6row1_col1,#T_04d50fde_be7b_11ed_bdbb_96000040dfb6row1_col2,#T_04d50fde_be7b_11ed_bdbb_96000040dfb6row1_col3,#T_04d50fde_be7b_11ed_bdbb_96000040dfb6row1_col4,#T_04d50fde_be7b_11ed_bdbb_96000040dfb6row1_col5,#T_04d50fde_be7b_11ed_bdbb_96000040dfb6row1_col7,#T_04d50fde_be7b_11ed_bdbb_96000040dfb6row1_col8,#T_04d50fde_be7b_11ed_bdbb_96000040dfb6row1_col10,#T_04d50fde_be7b_11ed_bdbb_96000040dfb6row1_col12,#T_04d50fde_be7b_11ed_bdbb_96000040dfb6row2_col2,#T_04d50fde_be7b_11ed_bdbb_96000040dfb6row2_col3,#T_04d50fde_be7b_11ed_bdbb_96000040dfb6row2_col4,#T_04d50fde_be7b_11ed_bdbb_96000040dfb6row2_col5,#T_04d50fde_be7b_11ed_bdbb_96000040dfb6row2_col6,#T_04d50fde_be7b_11ed_bdbb_96000040dfb6row2_col7,#T_04d50fde_be7b_11ed_bdbb_96000040dfb6row2_col8,#T_04d50fde_be7b_11ed_bdbb_96000040dfb6row2_col9,#T_04d50fde_be7b_11ed_bdbb_96000040dfb6row2_col10,#T_04d50fde_be7b_11ed_bdbb_96000040dfb6row2_col11,#T_04d50fde_be7b_11ed_bdbb_96000040dfb6row2_col12,#T_04d50fde_be7b_11ed_bdbb_96000040dfb6row3_col9,#T_04d50fde_be7b_11ed_bdbb_96000040dfb6row11_col12,#T_04d50fde_be7b_11ed_bdbb_96000040dfb6row12_col11,#T_04d50fde_be7b_11ed_bdbb_96000040dfb6row12_col12,#T_04d50fde_be7b_11ed_bdbb_96000040dfb6row13_col10,#T_04d50fde_be7b_11ed_bdbb_96000040dfb6row13_col11,#T_04d50fde_be7b_11ed_bdbb_96000040dfb6row13_col12,#T_04d50fde_be7b_11ed_bdbb_96000040dfb6row14_col9,#T_04d50fde_be7b_11ed_bdbb_96000040dfb6row14_col10,#T_04d50fde_be7b_11ed_bdbb_96000040dfb6row14_col11,#T_04d50fde_be7b_11ed_bdbb_96000040dfb6row14_col12,#T_04d50fde_be7b_11ed_bdbb_96000040dfb6row15_col8,#T_04d50fde_be7b_11ed_bdbb_96000040dfb6row15_col9,#T_04d50fde_be7b_11ed_bdbb_96000040dfb6row15_col10,#T_04d50fde_be7b_11ed_bdbb_96000040dfb6row15_col11,#T_04d50fde_be7b_11ed_bdbb_96000040dfb6row15_col12,#T_04d50fde_be7b_11ed_bdbb_96000040dfb6row16_col7,#T_04d50fde_be7b_11ed_bdbb_96000040dfb6row16_col8,#T_04d50fde_be7b_11ed_bdbb_96000040dfb6row16_col9,#T_04d50fde_be7b_11ed_bdbb_96000040dfb6row16_col10,#T_04d50fde_be7b_11ed_bdbb_96000040dfb6row16_col11,#T_04d50fde_be7b_11ed_bdbb_96000040dfb6row16_col12,#T_04d50fde_be7b_11ed_bdbb_96000040dfb6row17_col6,#T_04d50fde_be7b_11ed_bdbb_96000040dfb6row17_col7,#T_04d50fde_be7b_11ed_bdbb_96000040dfb6row17_col8,#T_04d50fde_be7b_11ed_bdbb_96000040dfb6row17_col9,#T_04d50fde_be7b_11ed_bdbb_96000040dfb6row17_col10,#T_04d50fde_be7b_11ed_bdbb_96000040dfb6row17_col11,#T_04d50fde_be7b_11ed_bdbb_96000040dfb6row17_col12,#T_04d50fde_be7b_11ed_bdbb_96000040dfb6row18_col5,#T_04d50fde_be7b_11ed_bdbb_96000040dfb6row18_col6,#T_04d50fde_be7b_11ed_bdbb_96000040dfb6row18_col7,#T_04d50fde_be7b_11ed_bdbb_96000040dfb6row18_col8,#T_04d50fde_be7b_11ed_bdbb_96000040dfb6row18_col9,#T_04d50fde_be7b_11ed_bdbb_96000040dfb6row18_col10,#T_04d50fde_be7b_11ed_bdbb_96000040dfb6row18_col11,#T_04d50fde_be7b_11ed_bdbb_96000040dfb6row18_col12,#T_04d50fde_be7b_11ed_bdbb_96000040dfb6row19_col4,#T_04d50fde_be7b_11ed_bdbb_96000040dfb6row19_col5,#T_04d50fde_be7b_11ed_bdbb_96000040dfb6row19_col6,#T_04d50fde_be7b_11ed_bdbb_96000040dfb6row19_col7,#T_04d50fde_be7b_11ed_bdbb_96000040dfb6row19_col8,#T_04d50fde_be7b_11ed_bdbb_96000040dfb6row19_col9,#T_04d50fde_be7b_11ed_bdbb_96000040dfb6row19_col10,#T_04d50fde_be7b_11ed_bdbb_96000040dfb6row19_col11,#T_04d50fde_be7b_11ed_bdbb_96000040dfb6row19_col12,#T_04d50fde_be7b_11ed_bdbb_96000040dfb6row20_col3,#T_04d50fde_be7b_11ed_bdbb_96000040dfb6row20_col4,#T_04d50fde_be7b_11ed_bdbb_96000040dfb6row20_col5,#T_04d50fde_be7b_11ed_bdbb_96000040dfb6row20_col6,#T_04d50fde_be7b_11ed_bdbb_96000040dfb6row20_col7,#T_04d50fde_be7b_11ed_bdbb_96000040dfb6row20_col8,#T_04d50fde_be7b_11ed_bdbb_96000040dfb6row20_col9,#T_04d50fde_be7b_11ed_bdbb_96000040dfb6row20_col10,#T_04d50fde_be7b_11ed_bdbb_96000040dfb6row20_col11,#T_04d50fde_be7b_11ed_bdbb_96000040dfb6row20_col12,#T_04d50fde_be7b_11ed_bdbb_96000040dfb6row21_col2,#T_04d50fde_be7b_11ed_bdbb_96000040dfb6row21_col3,#T_04d50fde_be7b_11ed_bdbb_96000040dfb6row21_col4,#T_04d50fde_be7b_11ed_bdbb_96000040dfb6row21_col5,#T_04d50fde_be7b_11ed_bdbb_96000040dfb6row21_col6,#T_04d50fde_be7b_11ed_bdbb_96000040dfb6row21_col7,#T_04d50fde_be7b_11ed_bdbb_96000040dfb6row21_col8,#T_04d50fde_be7b_11ed_bdbb_96000040dfb6row21_col9,#T_04d50fde_be7b_11ed_bdbb_96000040dfb6row21_col10,#T_04d50fde_be7b_11ed_bdbb_96000040dfb6row21_col11,#T_04d50fde_be7b_11ed_bdbb_96000040dfb6row21_col12,#T_04d50fde_be7b_11ed_bdbb_96000040dfb6row22_col1,#T_04d50fde_be7b_11ed_bdbb_96000040dfb6row22_col2,#T_04d50fde_be7b_11ed_bdbb_96000040dfb6row22_col3,#T_04d50fde_be7b_11ed_bdbb_96000040dfb6row22_col4,#T_04d50fde_be7b_11ed_bdbb_96000040dfb6row22_col5,#T_04d50fde_be7b_11ed_bdbb_96000040dfb6row22_col6,#T_04d50fde_be7b_11ed_bdbb_96000040dfb6row22_col7,#T_04d50fde_be7b_11ed_bdbb_96000040dfb6row22_col8,#T_04d50fde_be7b_11ed_bdbb_96000040dfb6row22_col9,#T_04d50fde_be7b_11ed_bdbb_96000040dfb6row22_col10,#T_04d50fde_be7b_11ed_bdbb_96000040dfb6row22_col11,#T_04d50fde_be7b_11ed_bdbb_96000040dfb6row22_col12{\n",
       "            background-color:  #000000;\n",
       "            color:  #f1f1f1;\n",
       "            background-color:  white;\n",
       "        }#T_04d50fde_be7b_11ed_bdbb_96000040dfb6row1_col6,#T_04d50fde_be7b_11ed_bdbb_96000040dfb6row9_col11{\n",
       "            background-color:  #056dac;\n",
       "            color:  #f1f1f1;\n",
       "        }#T_04d50fde_be7b_11ed_bdbb_96000040dfb6row1_col9,#T_04d50fde_be7b_11ed_bdbb_96000040dfb6row2_col1,#T_04d50fde_be7b_11ed_bdbb_96000040dfb6row3_col10,#T_04d50fde_be7b_11ed_bdbb_96000040dfb6row3_col12,#T_04d50fde_be7b_11ed_bdbb_96000040dfb6row5_col3,#T_04d50fde_be7b_11ed_bdbb_96000040dfb6row5_col8,#T_04d50fde_be7b_11ed_bdbb_96000040dfb6row7_col6,#T_04d50fde_be7b_11ed_bdbb_96000040dfb6row8_col11,#T_04d50fde_be7b_11ed_bdbb_96000040dfb6row10_col5,#T_04d50fde_be7b_11ed_bdbb_96000040dfb6row11_col2,#T_04d50fde_be7b_11ed_bdbb_96000040dfb6row11_col4,#T_04d50fde_be7b_11ed_bdbb_96000040dfb6row12_col7{\n",
       "            background-color:  #023858;\n",
       "            color:  #f1f1f1;\n",
       "        }#T_04d50fde_be7b_11ed_bdbb_96000040dfb6row1_col11,#T_04d50fde_be7b_11ed_bdbb_96000040dfb6row6_col8{\n",
       "            background-color:  #034165;\n",
       "            color:  #f1f1f1;\n",
       "        }#T_04d50fde_be7b_11ed_bdbb_96000040dfb6row3_col2{\n",
       "            background-color:  #f7f0f7;\n",
       "            color:  #000000;\n",
       "        }#T_04d50fde_be7b_11ed_bdbb_96000040dfb6row3_col3{\n",
       "            background-color:  #eee9f3;\n",
       "            color:  #000000;\n",
       "        }#T_04d50fde_be7b_11ed_bdbb_96000040dfb6row3_col4{\n",
       "            background-color:  #04598c;\n",
       "            color:  #f1f1f1;\n",
       "        }#T_04d50fde_be7b_11ed_bdbb_96000040dfb6row3_col5,#T_04d50fde_be7b_11ed_bdbb_96000040dfb6row6_col2{\n",
       "            background-color:  #f9f2f8;\n",
       "            color:  #000000;\n",
       "        }#T_04d50fde_be7b_11ed_bdbb_96000040dfb6row3_col6{\n",
       "            background-color:  #046097;\n",
       "            color:  #f1f1f1;\n",
       "        }#T_04d50fde_be7b_11ed_bdbb_96000040dfb6row3_col7,#T_04d50fde_be7b_11ed_bdbb_96000040dfb6row9_col2{\n",
       "            background-color:  #bcc7e1;\n",
       "            color:  #000000;\n",
       "        }#T_04d50fde_be7b_11ed_bdbb_96000040dfb6row3_col8{\n",
       "            background-color:  #c4cbe3;\n",
       "            color:  #000000;\n",
       "        }#T_04d50fde_be7b_11ed_bdbb_96000040dfb6row3_col11,#T_04d50fde_be7b_11ed_bdbb_96000040dfb6row8_col12{\n",
       "            background-color:  #dedcec;\n",
       "            color:  #000000;\n",
       "        }#T_04d50fde_be7b_11ed_bdbb_96000040dfb6row4_col2{\n",
       "            background-color:  #dfddec;\n",
       "            color:  #000000;\n",
       "        }#T_04d50fde_be7b_11ed_bdbb_96000040dfb6row4_col3{\n",
       "            background-color:  #f3edf5;\n",
       "            color:  #000000;\n",
       "        }#T_04d50fde_be7b_11ed_bdbb_96000040dfb6row4_col4{\n",
       "            background-color:  #03446a;\n",
       "            color:  #f1f1f1;\n",
       "        }#T_04d50fde_be7b_11ed_bdbb_96000040dfb6row4_col5{\n",
       "            background-color:  #fdf5fa;\n",
       "            color:  #000000;\n",
       "        }#T_04d50fde_be7b_11ed_bdbb_96000040dfb6row4_col6,#T_04d50fde_be7b_11ed_bdbb_96000040dfb6row5_col2{\n",
       "            background-color:  #acc0dd;\n",
       "            color:  #000000;\n",
       "        }#T_04d50fde_be7b_11ed_bdbb_96000040dfb6row4_col7,#T_04d50fde_be7b_11ed_bdbb_96000040dfb6row6_col4{\n",
       "            background-color:  #89b1d4;\n",
       "            color:  #000000;\n",
       "        }#T_04d50fde_be7b_11ed_bdbb_96000040dfb6row4_col9{\n",
       "            background-color:  #9ebad9;\n",
       "            color:  #000000;\n",
       "        }#T_04d50fde_be7b_11ed_bdbb_96000040dfb6row4_col11{\n",
       "            background-color:  #0a73b2;\n",
       "            color:  #f1f1f1;\n",
       "        }#T_04d50fde_be7b_11ed_bdbb_96000040dfb6row4_col12,#T_04d50fde_be7b_11ed_bdbb_96000040dfb6row15_col5{\n",
       "            background-color:  #ece7f2;\n",
       "            color:  #000000;\n",
       "        }#T_04d50fde_be7b_11ed_bdbb_96000040dfb6row5_col4,#T_04d50fde_be7b_11ed_bdbb_96000040dfb6row11_col3{\n",
       "            background-color:  #0d75b3;\n",
       "            color:  #f1f1f1;\n",
       "        }#T_04d50fde_be7b_11ed_bdbb_96000040dfb6row5_col5{\n",
       "            background-color:  #f1ebf5;\n",
       "            color:  #000000;\n",
       "        }#T_04d50fde_be7b_11ed_bdbb_96000040dfb6row5_col6{\n",
       "            background-color:  #f1ebf4;\n",
       "            color:  #000000;\n",
       "        }#T_04d50fde_be7b_11ed_bdbb_96000040dfb6row5_col7{\n",
       "            background-color:  #0567a1;\n",
       "            color:  #f1f1f1;\n",
       "        }#T_04d50fde_be7b_11ed_bdbb_96000040dfb6row5_col9{\n",
       "            background-color:  #f4eef6;\n",
       "            color:  #000000;\n",
       "        }#T_04d50fde_be7b_11ed_bdbb_96000040dfb6row5_col10{\n",
       "            background-color:  #046299;\n",
       "            color:  #f1f1f1;\n",
       "        }#T_04d50fde_be7b_11ed_bdbb_96000040dfb6row5_col11,#T_04d50fde_be7b_11ed_bdbb_96000040dfb6row15_col6{\n",
       "            background-color:  #e8e4f0;\n",
       "            color:  #000000;\n",
       "        }#T_04d50fde_be7b_11ed_bdbb_96000040dfb6row5_col12{\n",
       "            background-color:  #d2d2e7;\n",
       "            color:  #000000;\n",
       "        }#T_04d50fde_be7b_11ed_bdbb_96000040dfb6row6_col1,#T_04d50fde_be7b_11ed_bdbb_96000040dfb6row9_col1,#T_04d50fde_be7b_11ed_bdbb_96000040dfb6row10_col1,#T_04d50fde_be7b_11ed_bdbb_96000040dfb6row11_col1,#T_04d50fde_be7b_11ed_bdbb_96000040dfb6row12_col1,#T_04d50fde_be7b_11ed_bdbb_96000040dfb6row13_col1,#T_04d50fde_be7b_11ed_bdbb_96000040dfb6row18_col1{\n",
       "            background-color:  #fef6fb;\n",
       "            color:  #000000;\n",
       "        }#T_04d50fde_be7b_11ed_bdbb_96000040dfb6row6_col3,#T_04d50fde_be7b_11ed_bdbb_96000040dfb6row6_col5,#T_04d50fde_be7b_11ed_bdbb_96000040dfb6row7_col7{\n",
       "            background-color:  #b4c4df;\n",
       "            color:  #000000;\n",
       "        }#T_04d50fde_be7b_11ed_bdbb_96000040dfb6row6_col6{\n",
       "            background-color:  #04649e;\n",
       "            color:  #f1f1f1;\n",
       "        }#T_04d50fde_be7b_11ed_bdbb_96000040dfb6row6_col7{\n",
       "            background-color:  #056ba7;\n",
       "            color:  #f1f1f1;\n",
       "        }#T_04d50fde_be7b_11ed_bdbb_96000040dfb6row6_col9{\n",
       "            background-color:  #a8bedc;\n",
       "            color:  #000000;\n",
       "        }#T_04d50fde_be7b_11ed_bdbb_96000040dfb6row6_col10{\n",
       "            background-color:  #73a9cf;\n",
       "            color:  #000000;\n",
       "        }#T_04d50fde_be7b_11ed_bdbb_96000040dfb6row6_col11{\n",
       "            background-color:  #f8f1f8;\n",
       "            color:  #000000;\n",
       "        }#T_04d50fde_be7b_11ed_bdbb_96000040dfb6row7_col2{\n",
       "            background-color:  #167bb6;\n",
       "            color:  #000000;\n",
       "        }#T_04d50fde_be7b_11ed_bdbb_96000040dfb6row7_col3{\n",
       "            background-color:  #71a8ce;\n",
       "            color:  #000000;\n",
       "        }#T_04d50fde_be7b_11ed_bdbb_96000040dfb6row7_col4{\n",
       "            background-color:  #6da6cd;\n",
       "            color:  #000000;\n",
       "        }#T_04d50fde_be7b_11ed_bdbb_96000040dfb6row7_col5{\n",
       "            background-color:  #6fa7ce;\n",
       "            color:  #000000;\n",
       "        }#T_04d50fde_be7b_11ed_bdbb_96000040dfb6row7_col8{\n",
       "            background-color:  #056dab;\n",
       "            color:  #f1f1f1;\n",
       "        }#T_04d50fde_be7b_11ed_bdbb_96000040dfb6row7_col9{\n",
       "            background-color:  #0567a2;\n",
       "            color:  #f1f1f1;\n",
       "        }#T_04d50fde_be7b_11ed_bdbb_96000040dfb6row7_col10{\n",
       "            background-color:  #7dacd1;\n",
       "            color:  #000000;\n",
       "        }#T_04d50fde_be7b_11ed_bdbb_96000040dfb6row7_col11{\n",
       "            background-color:  #045e94;\n",
       "            color:  #f1f1f1;\n",
       "        }#T_04d50fde_be7b_11ed_bdbb_96000040dfb6row7_col12{\n",
       "            background-color:  #c1cae2;\n",
       "            color:  #000000;\n",
       "        }#T_04d50fde_be7b_11ed_bdbb_96000040dfb6row8_col2,#T_04d50fde_be7b_11ed_bdbb_96000040dfb6row9_col8{\n",
       "            background-color:  #4a98c5;\n",
       "            color:  #000000;\n",
       "        }#T_04d50fde_be7b_11ed_bdbb_96000040dfb6row8_col3{\n",
       "            background-color:  #045b8f;\n",
       "            color:  #f1f1f1;\n",
       "        }#T_04d50fde_be7b_11ed_bdbb_96000040dfb6row8_col4{\n",
       "            background-color:  #328dbf;\n",
       "            color:  #000000;\n",
       "        }#T_04d50fde_be7b_11ed_bdbb_96000040dfb6row8_col5,#T_04d50fde_be7b_11ed_bdbb_96000040dfb6row11_col7{\n",
       "            background-color:  #3b92c1;\n",
       "            color:  #000000;\n",
       "        }#T_04d50fde_be7b_11ed_bdbb_96000040dfb6row8_col6{\n",
       "            background-color:  #197db7;\n",
       "            color:  #000000;\n",
       "        }#T_04d50fde_be7b_11ed_bdbb_96000040dfb6row8_col7,#T_04d50fde_be7b_11ed_bdbb_96000040dfb6row17_col3{\n",
       "            background-color:  #549cc7;\n",
       "            color:  #000000;\n",
       "        }#T_04d50fde_be7b_11ed_bdbb_96000040dfb6row8_col8{\n",
       "            background-color:  #cacee5;\n",
       "            color:  #000000;\n",
       "        }#T_04d50fde_be7b_11ed_bdbb_96000040dfb6row8_col9{\n",
       "            background-color:  #8fb4d6;\n",
       "            color:  #000000;\n",
       "        }#T_04d50fde_be7b_11ed_bdbb_96000040dfb6row8_col10{\n",
       "            background-color:  #4094c3;\n",
       "            color:  #000000;\n",
       "        }#T_04d50fde_be7b_11ed_bdbb_96000040dfb6row9_col3,#T_04d50fde_be7b_11ed_bdbb_96000040dfb6row10_col11{\n",
       "            background-color:  #a4bcda;\n",
       "            color:  #000000;\n",
       "        }#T_04d50fde_be7b_11ed_bdbb_96000040dfb6row9_col4{\n",
       "            background-color:  #1e80b8;\n",
       "            color:  #000000;\n",
       "        }#T_04d50fde_be7b_11ed_bdbb_96000040dfb6row9_col5{\n",
       "            background-color:  #d9d8ea;\n",
       "            color:  #000000;\n",
       "        }#T_04d50fde_be7b_11ed_bdbb_96000040dfb6row9_col6{\n",
       "            background-color:  #509ac6;\n",
       "            color:  #000000;\n",
       "        }#T_04d50fde_be7b_11ed_bdbb_96000040dfb6row9_col7,#T_04d50fde_be7b_11ed_bdbb_96000040dfb6row16_col6{\n",
       "            background-color:  #d4d4e8;\n",
       "            color:  #000000;\n",
       "        }#T_04d50fde_be7b_11ed_bdbb_96000040dfb6row9_col9{\n",
       "            background-color:  #1077b4;\n",
       "            color:  #f1f1f1;\n",
       "        }#T_04d50fde_be7b_11ed_bdbb_96000040dfb6row9_col10{\n",
       "            background-color:  #bbc7e0;\n",
       "            color:  #000000;\n",
       "        }#T_04d50fde_be7b_11ed_bdbb_96000040dfb6row9_col12{\n",
       "            background-color:  #e9e5f1;\n",
       "            color:  #000000;\n",
       "        }#T_04d50fde_be7b_11ed_bdbb_96000040dfb6row10_col2{\n",
       "            background-color:  #80aed2;\n",
       "            color:  #000000;\n",
       "        }#T_04d50fde_be7b_11ed_bdbb_96000040dfb6row10_col3{\n",
       "            background-color:  #84b0d3;\n",
       "            color:  #000000;\n",
       "        }#T_04d50fde_be7b_11ed_bdbb_96000040dfb6row10_col4{\n",
       "            background-color:  #2081b9;\n",
       "            color:  #000000;\n",
       "        }#T_04d50fde_be7b_11ed_bdbb_96000040dfb6row10_col6{\n",
       "            background-color:  #75a9cf;\n",
       "            color:  #000000;\n",
       "        }#T_04d50fde_be7b_11ed_bdbb_96000040dfb6row10_col7{\n",
       "            background-color:  #2484ba;\n",
       "            color:  #000000;\n",
       "        }#T_04d50fde_be7b_11ed_bdbb_96000040dfb6row10_col8{\n",
       "            background-color:  #b5c4df;\n",
       "            color:  #000000;\n",
       "        }#T_04d50fde_be7b_11ed_bdbb_96000040dfb6row10_col9{\n",
       "            background-color:  #c6cce3;\n",
       "            color:  #000000;\n",
       "        }#T_04d50fde_be7b_11ed_bdbb_96000040dfb6row10_col10{\n",
       "            background-color:  #91b5d6;\n",
       "            color:  #000000;\n",
       "        }#T_04d50fde_be7b_11ed_bdbb_96000040dfb6row10_col12,#T_04d50fde_be7b_11ed_bdbb_96000040dfb6row14_col6{\n",
       "            background-color:  #ede7f2;\n",
       "            color:  #000000;\n",
       "        }#T_04d50fde_be7b_11ed_bdbb_96000040dfb6row11_col5{\n",
       "            background-color:  #83afd3;\n",
       "            color:  #000000;\n",
       "        }#T_04d50fde_be7b_11ed_bdbb_96000040dfb6row11_col6,#T_04d50fde_be7b_11ed_bdbb_96000040dfb6row17_col2{\n",
       "            background-color:  #c2cbe2;\n",
       "            color:  #000000;\n",
       "        }#T_04d50fde_be7b_11ed_bdbb_96000040dfb6row11_col8{\n",
       "            background-color:  #04629a;\n",
       "            color:  #f1f1f1;\n",
       "        }#T_04d50fde_be7b_11ed_bdbb_96000040dfb6row11_col9{\n",
       "            background-color:  #abbfdc;\n",
       "            color:  #000000;\n",
       "        }#T_04d50fde_be7b_11ed_bdbb_96000040dfb6row11_col10,#T_04d50fde_be7b_11ed_bdbb_96000040dfb6row13_col7{\n",
       "            background-color:  #8bb2d4;\n",
       "            color:  #000000;\n",
       "        }#T_04d50fde_be7b_11ed_bdbb_96000040dfb6row12_col4{\n",
       "            background-color:  #97b7d7;\n",
       "            color:  #000000;\n",
       "        }#T_04d50fde_be7b_11ed_bdbb_96000040dfb6row12_col5,#T_04d50fde_be7b_11ed_bdbb_96000040dfb6row13_col3{\n",
       "            background-color:  #dbdaeb;\n",
       "            color:  #000000;\n",
       "        }#T_04d50fde_be7b_11ed_bdbb_96000040dfb6row12_col6,#T_04d50fde_be7b_11ed_bdbb_96000040dfb6row19_col3{\n",
       "            background-color:  #d2d3e7;\n",
       "            color:  #000000;\n",
       "        }#T_04d50fde_be7b_11ed_bdbb_96000040dfb6row12_col8{\n",
       "            background-color:  #034b76;\n",
       "            color:  #f1f1f1;\n",
       "        }#T_04d50fde_be7b_11ed_bdbb_96000040dfb6row12_col9,#T_04d50fde_be7b_11ed_bdbb_96000040dfb6row18_col3{\n",
       "            background-color:  #9fbad9;\n",
       "            color:  #000000;\n",
       "        }#T_04d50fde_be7b_11ed_bdbb_96000040dfb6row12_col10{\n",
       "            background-color:  #c0c9e2;\n",
       "            color:  #000000;\n",
       "        }#T_04d50fde_be7b_11ed_bdbb_96000040dfb6row13_col2{\n",
       "            background-color:  #8eb3d5;\n",
       "            color:  #000000;\n",
       "        }#T_04d50fde_be7b_11ed_bdbb_96000040dfb6row13_col4,#T_04d50fde_be7b_11ed_bdbb_96000040dfb6row14_col2{\n",
       "            background-color:  #e5e1ef;\n",
       "            color:  #000000;\n",
       "        }#T_04d50fde_be7b_11ed_bdbb_96000040dfb6row13_col5{\n",
       "            background-color:  #e0deed;\n",
       "            color:  #000000;\n",
       "        }#T_04d50fde_be7b_11ed_bdbb_96000040dfb6row13_col8{\n",
       "            background-color:  #ced0e6;\n",
       "            color:  #000000;\n",
       "        }#T_04d50fde_be7b_11ed_bdbb_96000040dfb6row14_col3{\n",
       "            background-color:  #0c74b2;\n",
       "            color:  #f1f1f1;\n",
       "        }#T_04d50fde_be7b_11ed_bdbb_96000040dfb6row14_col4{\n",
       "            background-color:  #8cb3d5;\n",
       "            color:  #000000;\n",
       "        }#T_04d50fde_be7b_11ed_bdbb_96000040dfb6row14_col5{\n",
       "            background-color:  #dcdaeb;\n",
       "            color:  #000000;\n",
       "        }#T_04d50fde_be7b_11ed_bdbb_96000040dfb6row14_col8{\n",
       "            background-color:  #78abd0;\n",
       "            color:  #000000;\n",
       "        }#T_04d50fde_be7b_11ed_bdbb_96000040dfb6row15_col2{\n",
       "            background-color:  #a5bddb;\n",
       "            color:  #000000;\n",
       "        }#T_04d50fde_be7b_11ed_bdbb_96000040dfb6row15_col3{\n",
       "            background-color:  #6ba5cd;\n",
       "            color:  #000000;\n",
       "        }#T_04d50fde_be7b_11ed_bdbb_96000040dfb6row15_col4,#T_04d50fde_be7b_11ed_bdbb_96000040dfb6row16_col2{\n",
       "            background-color:  #65a3cb;\n",
       "            color:  #000000;\n",
       "        }#T_04d50fde_be7b_11ed_bdbb_96000040dfb6row15_col7{\n",
       "            background-color:  #4e9ac6;\n",
       "            color:  #000000;\n",
       "        }#T_04d50fde_be7b_11ed_bdbb_96000040dfb6row16_col3{\n",
       "            background-color:  #62a2cb;\n",
       "            color:  #000000;\n",
       "        }#T_04d50fde_be7b_11ed_bdbb_96000040dfb6row16_col4{\n",
       "            background-color:  #9ab8d8;\n",
       "            color:  #000000;\n",
       "        }#T_04d50fde_be7b_11ed_bdbb_96000040dfb6row16_col5{\n",
       "            background-color:  #d5d5e8;\n",
       "            color:  #000000;\n",
       "        }#T_04d50fde_be7b_11ed_bdbb_96000040dfb6row18_col2{\n",
       "            background-color:  #e1dfed;\n",
       "            color:  #000000;\n",
       "        }#T_04d50fde_be7b_11ed_bdbb_96000040dfb6row18_col4{\n",
       "            background-color:  #f0eaf4;\n",
       "            color:  #000000;\n",
       "        }#T_04d50fde_be7b_11ed_bdbb_96000040dfb6row19_col2{\n",
       "            background-color:  #fbf3f9;\n",
       "            color:  #000000;\n",
       "        }#T_04d50fde_be7b_11ed_bdbb_96000040dfb6row20_col2{\n",
       "            background-color:  #f5eef6;\n",
       "            color:  #000000;\n",
       "        }</style><table id=\"T_04d50fde_be7b_11ed_bdbb_96000040dfb6\" ><thead>    <tr>        <th class=\"index_name level0\" >month</th>        <th class=\"col_heading level0 col0\" >0</th>        <th class=\"col_heading level0 col1\" >1</th>        <th class=\"col_heading level0 col2\" >2</th>        <th class=\"col_heading level0 col3\" >3</th>        <th class=\"col_heading level0 col4\" >4</th>        <th class=\"col_heading level0 col5\" >5</th>        <th class=\"col_heading level0 col6\" >6</th>        <th class=\"col_heading level0 col7\" >7</th>        <th class=\"col_heading level0 col8\" >8</th>        <th class=\"col_heading level0 col9\" >9</th>        <th class=\"col_heading level0 col10\" >10</th>        <th class=\"col_heading level0 col11\" >11</th>        <th class=\"col_heading level0 col12\" >12</th>    </tr>    <tr>        <th class=\"index_name level0\" >first_order_cohort</th>        <th class=\"blank\" ></th>        <th class=\"blank\" ></th>        <th class=\"blank\" ></th>        <th class=\"blank\" ></th>        <th class=\"blank\" ></th>        <th class=\"blank\" ></th>        <th class=\"blank\" ></th>        <th class=\"blank\" ></th>        <th class=\"blank\" ></th>        <th class=\"blank\" ></th>        <th class=\"blank\" ></th>        <th class=\"blank\" ></th>        <th class=\"blank\" ></th>    </tr></thead><tbody>\n",
       "                <tr>\n",
       "                        <th id=\"T_04d50fde_be7b_11ed_bdbb_96000040dfb6level0_row0\" class=\"row_heading level0 row0\" >2016-09</th>\n",
       "                        <td id=\"T_04d50fde_be7b_11ed_bdbb_96000040dfb6row0_col0\" class=\"data row0 col0\" >100.00%</td>\n",
       "                        <td id=\"T_04d50fde_be7b_11ed_bdbb_96000040dfb6row0_col1\" class=\"data row0 col1\" ></td>\n",
       "                        <td id=\"T_04d50fde_be7b_11ed_bdbb_96000040dfb6row0_col2\" class=\"data row0 col2\" ></td>\n",
       "                        <td id=\"T_04d50fde_be7b_11ed_bdbb_96000040dfb6row0_col3\" class=\"data row0 col3\" ></td>\n",
       "                        <td id=\"T_04d50fde_be7b_11ed_bdbb_96000040dfb6row0_col4\" class=\"data row0 col4\" ></td>\n",
       "                        <td id=\"T_04d50fde_be7b_11ed_bdbb_96000040dfb6row0_col5\" class=\"data row0 col5\" ></td>\n",
       "                        <td id=\"T_04d50fde_be7b_11ed_bdbb_96000040dfb6row0_col6\" class=\"data row0 col6\" ></td>\n",
       "                        <td id=\"T_04d50fde_be7b_11ed_bdbb_96000040dfb6row0_col7\" class=\"data row0 col7\" ></td>\n",
       "                        <td id=\"T_04d50fde_be7b_11ed_bdbb_96000040dfb6row0_col8\" class=\"data row0 col8\" ></td>\n",
       "                        <td id=\"T_04d50fde_be7b_11ed_bdbb_96000040dfb6row0_col9\" class=\"data row0 col9\" ></td>\n",
       "                        <td id=\"T_04d50fde_be7b_11ed_bdbb_96000040dfb6row0_col10\" class=\"data row0 col10\" ></td>\n",
       "                        <td id=\"T_04d50fde_be7b_11ed_bdbb_96000040dfb6row0_col11\" class=\"data row0 col11\" ></td>\n",
       "                        <td id=\"T_04d50fde_be7b_11ed_bdbb_96000040dfb6row0_col12\" class=\"data row0 col12\" ></td>\n",
       "            </tr>\n",
       "            <tr>\n",
       "                        <th id=\"T_04d50fde_be7b_11ed_bdbb_96000040dfb6level0_row1\" class=\"row_heading level0 row1\" >2016-10</th>\n",
       "                        <td id=\"T_04d50fde_be7b_11ed_bdbb_96000040dfb6row1_col0\" class=\"data row1 col0\" >100.00%</td>\n",
       "                        <td id=\"T_04d50fde_be7b_11ed_bdbb_96000040dfb6row1_col1\" class=\"data row1 col1\" ></td>\n",
       "                        <td id=\"T_04d50fde_be7b_11ed_bdbb_96000040dfb6row1_col2\" class=\"data row1 col2\" ></td>\n",
       "                        <td id=\"T_04d50fde_be7b_11ed_bdbb_96000040dfb6row1_col3\" class=\"data row1 col3\" ></td>\n",
       "                        <td id=\"T_04d50fde_be7b_11ed_bdbb_96000040dfb6row1_col4\" class=\"data row1 col4\" ></td>\n",
       "                        <td id=\"T_04d50fde_be7b_11ed_bdbb_96000040dfb6row1_col5\" class=\"data row1 col5\" ></td>\n",
       "                        <td id=\"T_04d50fde_be7b_11ed_bdbb_96000040dfb6row1_col6\" class=\"data row1 col6\" >0.38%</td>\n",
       "                        <td id=\"T_04d50fde_be7b_11ed_bdbb_96000040dfb6row1_col7\" class=\"data row1 col7\" ></td>\n",
       "                        <td id=\"T_04d50fde_be7b_11ed_bdbb_96000040dfb6row1_col8\" class=\"data row1 col8\" ></td>\n",
       "                        <td id=\"T_04d50fde_be7b_11ed_bdbb_96000040dfb6row1_col9\" class=\"data row1 col9\" >0.38%</td>\n",
       "                        <td id=\"T_04d50fde_be7b_11ed_bdbb_96000040dfb6row1_col10\" class=\"data row1 col10\" ></td>\n",
       "                        <td id=\"T_04d50fde_be7b_11ed_bdbb_96000040dfb6row1_col11\" class=\"data row1 col11\" >0.38%</td>\n",
       "                        <td id=\"T_04d50fde_be7b_11ed_bdbb_96000040dfb6row1_col12\" class=\"data row1 col12\" ></td>\n",
       "            </tr>\n",
       "            <tr>\n",
       "                        <th id=\"T_04d50fde_be7b_11ed_bdbb_96000040dfb6level0_row2\" class=\"row_heading level0 row2\" >2016-12</th>\n",
       "                        <td id=\"T_04d50fde_be7b_11ed_bdbb_96000040dfb6row2_col0\" class=\"data row2 col0\" >100.00%</td>\n",
       "                        <td id=\"T_04d50fde_be7b_11ed_bdbb_96000040dfb6row2_col1\" class=\"data row2 col1\" >100.00%</td>\n",
       "                        <td id=\"T_04d50fde_be7b_11ed_bdbb_96000040dfb6row2_col2\" class=\"data row2 col2\" ></td>\n",
       "                        <td id=\"T_04d50fde_be7b_11ed_bdbb_96000040dfb6row2_col3\" class=\"data row2 col3\" ></td>\n",
       "                        <td id=\"T_04d50fde_be7b_11ed_bdbb_96000040dfb6row2_col4\" class=\"data row2 col4\" ></td>\n",
       "                        <td id=\"T_04d50fde_be7b_11ed_bdbb_96000040dfb6row2_col5\" class=\"data row2 col5\" ></td>\n",
       "                        <td id=\"T_04d50fde_be7b_11ed_bdbb_96000040dfb6row2_col6\" class=\"data row2 col6\" ></td>\n",
       "                        <td id=\"T_04d50fde_be7b_11ed_bdbb_96000040dfb6row2_col7\" class=\"data row2 col7\" ></td>\n",
       "                        <td id=\"T_04d50fde_be7b_11ed_bdbb_96000040dfb6row2_col8\" class=\"data row2 col8\" ></td>\n",
       "                        <td id=\"T_04d50fde_be7b_11ed_bdbb_96000040dfb6row2_col9\" class=\"data row2 col9\" ></td>\n",
       "                        <td id=\"T_04d50fde_be7b_11ed_bdbb_96000040dfb6row2_col10\" class=\"data row2 col10\" ></td>\n",
       "                        <td id=\"T_04d50fde_be7b_11ed_bdbb_96000040dfb6row2_col11\" class=\"data row2 col11\" ></td>\n",
       "                        <td id=\"T_04d50fde_be7b_11ed_bdbb_96000040dfb6row2_col12\" class=\"data row2 col12\" ></td>\n",
       "            </tr>\n",
       "            <tr>\n",
       "                        <th id=\"T_04d50fde_be7b_11ed_bdbb_96000040dfb6level0_row3\" class=\"row_heading level0 row3\" >2017-01</th>\n",
       "                        <td id=\"T_04d50fde_be7b_11ed_bdbb_96000040dfb6row3_col0\" class=\"data row3 col0\" >100.00%</td>\n",
       "                        <td id=\"T_04d50fde_be7b_11ed_bdbb_96000040dfb6row3_col1\" class=\"data row3 col1\" >0.27%</td>\n",
       "                        <td id=\"T_04d50fde_be7b_11ed_bdbb_96000040dfb6row3_col2\" class=\"data row3 col2\" >0.27%</td>\n",
       "                        <td id=\"T_04d50fde_be7b_11ed_bdbb_96000040dfb6row3_col3\" class=\"data row3 col3\" >0.13%</td>\n",
       "                        <td id=\"T_04d50fde_be7b_11ed_bdbb_96000040dfb6row3_col4\" class=\"data row3 col4\" >0.40%</td>\n",
       "                        <td id=\"T_04d50fde_be7b_11ed_bdbb_96000040dfb6row3_col5\" class=\"data row3 col5\" >0.13%</td>\n",
       "                        <td id=\"T_04d50fde_be7b_11ed_bdbb_96000040dfb6row3_col6\" class=\"data row3 col6\" >0.40%</td>\n",
       "                        <td id=\"T_04d50fde_be7b_11ed_bdbb_96000040dfb6row3_col7\" class=\"data row3 col7\" >0.13%</td>\n",
       "                        <td id=\"T_04d50fde_be7b_11ed_bdbb_96000040dfb6row3_col8\" class=\"data row3 col8\" >0.13%</td>\n",
       "                        <td id=\"T_04d50fde_be7b_11ed_bdbb_96000040dfb6row3_col9\" class=\"data row3 col9\" ></td>\n",
       "                        <td id=\"T_04d50fde_be7b_11ed_bdbb_96000040dfb6row3_col10\" class=\"data row3 col10\" >0.40%</td>\n",
       "                        <td id=\"T_04d50fde_be7b_11ed_bdbb_96000040dfb6row3_col11\" class=\"data row3 col11\" >0.13%</td>\n",
       "                        <td id=\"T_04d50fde_be7b_11ed_bdbb_96000040dfb6row3_col12\" class=\"data row3 col12\" >0.67%</td>\n",
       "            </tr>\n",
       "            <tr>\n",
       "                        <th id=\"T_04d50fde_be7b_11ed_bdbb_96000040dfb6level0_row4\" class=\"row_heading level0 row4\" >2017-02</th>\n",
       "                        <td id=\"T_04d50fde_be7b_11ed_bdbb_96000040dfb6row4_col0\" class=\"data row4 col0\" >100.00%</td>\n",
       "                        <td id=\"T_04d50fde_be7b_11ed_bdbb_96000040dfb6row4_col1\" class=\"data row4 col1\" >0.18%</td>\n",
       "                        <td id=\"T_04d50fde_be7b_11ed_bdbb_96000040dfb6row4_col2\" class=\"data row4 col2\" >0.31%</td>\n",
       "                        <td id=\"T_04d50fde_be7b_11ed_bdbb_96000040dfb6row4_col3\" class=\"data row4 col3\" >0.12%</td>\n",
       "                        <td id=\"T_04d50fde_be7b_11ed_bdbb_96000040dfb6row4_col4\" class=\"data row4 col4\" >0.43%</td>\n",
       "                        <td id=\"T_04d50fde_be7b_11ed_bdbb_96000040dfb6row4_col5\" class=\"data row4 col5\" >0.12%</td>\n",
       "                        <td id=\"T_04d50fde_be7b_11ed_bdbb_96000040dfb6row4_col6\" class=\"data row4 col6\" >0.24%</td>\n",
       "                        <td id=\"T_04d50fde_be7b_11ed_bdbb_96000040dfb6row4_col7\" class=\"data row4 col7\" >0.18%</td>\n",
       "                        <td id=\"T_04d50fde_be7b_11ed_bdbb_96000040dfb6row4_col8\" class=\"data row4 col8\" >0.06%</td>\n",
       "                        <td id=\"T_04d50fde_be7b_11ed_bdbb_96000040dfb6row4_col9\" class=\"data row4 col9\" >0.18%</td>\n",
       "                        <td id=\"T_04d50fde_be7b_11ed_bdbb_96000040dfb6row4_col10\" class=\"data row4 col10\" >0.12%</td>\n",
       "                        <td id=\"T_04d50fde_be7b_11ed_bdbb_96000040dfb6row4_col11\" class=\"data row4 col11\" >0.31%</td>\n",
       "                        <td id=\"T_04d50fde_be7b_11ed_bdbb_96000040dfb6row4_col12\" class=\"data row4 col12\" >0.12%</td>\n",
       "            </tr>\n",
       "            <tr>\n",
       "                        <th id=\"T_04d50fde_be7b_11ed_bdbb_96000040dfb6level0_row5\" class=\"row_heading level0 row5\" >2017-03</th>\n",
       "                        <td id=\"T_04d50fde_be7b_11ed_bdbb_96000040dfb6row5_col0\" class=\"data row5 col0\" >100.00%</td>\n",
       "                        <td id=\"T_04d50fde_be7b_11ed_bdbb_96000040dfb6row5_col1\" class=\"data row5 col1\" >0.47%</td>\n",
       "                        <td id=\"T_04d50fde_be7b_11ed_bdbb_96000040dfb6row5_col2\" class=\"data row5 col2\" >0.35%</td>\n",
       "                        <td id=\"T_04d50fde_be7b_11ed_bdbb_96000040dfb6row5_col3\" class=\"data row5 col3\" >0.47%</td>\n",
       "                        <td id=\"T_04d50fde_be7b_11ed_bdbb_96000040dfb6row5_col4\" class=\"data row5 col4\" >0.35%</td>\n",
       "                        <td id=\"T_04d50fde_be7b_11ed_bdbb_96000040dfb6row5_col5\" class=\"data row5 col5\" >0.16%</td>\n",
       "                        <td id=\"T_04d50fde_be7b_11ed_bdbb_96000040dfb6row5_col6\" class=\"data row5 col6\" >0.16%</td>\n",
       "                        <td id=\"T_04d50fde_be7b_11ed_bdbb_96000040dfb6row5_col7\" class=\"data row5 col7\" >0.31%</td>\n",
       "                        <td id=\"T_04d50fde_be7b_11ed_bdbb_96000040dfb6row5_col8\" class=\"data row5 col8\" >0.31%</td>\n",
       "                        <td id=\"T_04d50fde_be7b_11ed_bdbb_96000040dfb6row5_col9\" class=\"data row5 col9\" >0.08%</td>\n",
       "                        <td id=\"T_04d50fde_be7b_11ed_bdbb_96000040dfb6row5_col10\" class=\"data row5 col10\" >0.35%</td>\n",
       "                        <td id=\"T_04d50fde_be7b_11ed_bdbb_96000040dfb6row5_col11\" class=\"data row5 col11\" >0.12%</td>\n",
       "                        <td id=\"T_04d50fde_be7b_11ed_bdbb_96000040dfb6row5_col12\" class=\"data row5 col12\" >0.20%</td>\n",
       "            </tr>\n",
       "            <tr>\n",
       "                        <th id=\"T_04d50fde_be7b_11ed_bdbb_96000040dfb6level0_row6\" class=\"row_heading level0 row6\" >2017-04</th>\n",
       "                        <td id=\"T_04d50fde_be7b_11ed_bdbb_96000040dfb6row6_col0\" class=\"data row6 col0\" >100.00%</td>\n",
       "                        <td id=\"T_04d50fde_be7b_11ed_bdbb_96000040dfb6row6_col1\" class=\"data row6 col1\" >0.66%</td>\n",
       "                        <td id=\"T_04d50fde_be7b_11ed_bdbb_96000040dfb6row6_col2\" class=\"data row6 col2\" >0.26%</td>\n",
       "                        <td id=\"T_04d50fde_be7b_11ed_bdbb_96000040dfb6row6_col3\" class=\"data row6 col3\" >0.22%</td>\n",
       "                        <td id=\"T_04d50fde_be7b_11ed_bdbb_96000040dfb6row6_col4\" class=\"data row6 col4\" >0.26%</td>\n",
       "                        <td id=\"T_04d50fde_be7b_11ed_bdbb_96000040dfb6row6_col5\" class=\"data row6 col5\" >0.26%</td>\n",
       "                        <td id=\"T_04d50fde_be7b_11ed_bdbb_96000040dfb6row6_col6\" class=\"data row6 col6\" >0.39%</td>\n",
       "                        <td id=\"T_04d50fde_be7b_11ed_bdbb_96000040dfb6row6_col7\" class=\"data row6 col7\" >0.31%</td>\n",
       "                        <td id=\"T_04d50fde_be7b_11ed_bdbb_96000040dfb6row6_col8\" class=\"data row6 col8\" >0.31%</td>\n",
       "                        <td id=\"T_04d50fde_be7b_11ed_bdbb_96000040dfb6row6_col9\" class=\"data row6 col9\" >0.18%</td>\n",
       "                        <td id=\"T_04d50fde_be7b_11ed_bdbb_96000040dfb6row6_col10\" class=\"data row6 col10\" >0.26%</td>\n",
       "                        <td id=\"T_04d50fde_be7b_11ed_bdbb_96000040dfb6row6_col11\" class=\"data row6 col11\" >0.09%</td>\n",
       "                        <td id=\"T_04d50fde_be7b_11ed_bdbb_96000040dfb6row6_col12\" class=\"data row6 col12\" >0.04%</td>\n",
       "            </tr>\n",
       "            <tr>\n",
       "                        <th id=\"T_04d50fde_be7b_11ed_bdbb_96000040dfb6level0_row7\" class=\"row_heading level0 row7\" >2017-05</th>\n",
       "                        <td id=\"T_04d50fde_be7b_11ed_bdbb_96000040dfb6row7_col0\" class=\"data row7 col0\" >100.00%</td>\n",
       "                        <td id=\"T_04d50fde_be7b_11ed_bdbb_96000040dfb6row7_col1\" class=\"data row7 col1\" >0.48%</td>\n",
       "                        <td id=\"T_04d50fde_be7b_11ed_bdbb_96000040dfb6row7_col2\" class=\"data row7 col2\" >0.46%</td>\n",
       "                        <td id=\"T_04d50fde_be7b_11ed_bdbb_96000040dfb6row7_col3\" class=\"data row7 col3\" >0.28%</td>\n",
       "                        <td id=\"T_04d50fde_be7b_11ed_bdbb_96000040dfb6row7_col4\" class=\"data row7 col4\" >0.28%</td>\n",
       "                        <td id=\"T_04d50fde_be7b_11ed_bdbb_96000040dfb6row7_col5\" class=\"data row7 col5\" >0.34%</td>\n",
       "                        <td id=\"T_04d50fde_be7b_11ed_bdbb_96000040dfb6row7_col6\" class=\"data row7 col6\" >0.46%</td>\n",
       "                        <td id=\"T_04d50fde_be7b_11ed_bdbb_96000040dfb6row7_col7\" class=\"data row7 col7\" >0.14%</td>\n",
       "                        <td id=\"T_04d50fde_be7b_11ed_bdbb_96000040dfb6row7_col8\" class=\"data row7 col8\" >0.26%</td>\n",
       "                        <td id=\"T_04d50fde_be7b_11ed_bdbb_96000040dfb6row7_col9\" class=\"data row7 col9\" >0.31%</td>\n",
       "                        <td id=\"T_04d50fde_be7b_11ed_bdbb_96000040dfb6row7_col10\" class=\"data row7 col10\" >0.26%</td>\n",
       "                        <td id=\"T_04d50fde_be7b_11ed_bdbb_96000040dfb6row7_col11\" class=\"data row7 col11\" >0.34%</td>\n",
       "                        <td id=\"T_04d50fde_be7b_11ed_bdbb_96000040dfb6row7_col12\" class=\"data row7 col12\" >0.23%</td>\n",
       "            </tr>\n",
       "            <tr>\n",
       "                        <th id=\"T_04d50fde_be7b_11ed_bdbb_96000040dfb6level0_row8\" class=\"row_heading level0 row8\" >2017-06</th>\n",
       "                        <td id=\"T_04d50fde_be7b_11ed_bdbb_96000040dfb6row8_col0\" class=\"data row8 col0\" >100.00%</td>\n",
       "                        <td id=\"T_04d50fde_be7b_11ed_bdbb_96000040dfb6row8_col1\" class=\"data row8 col1\" >0.52%</td>\n",
       "                        <td id=\"T_04d50fde_be7b_11ed_bdbb_96000040dfb6row8_col2\" class=\"data row8 col2\" >0.42%</td>\n",
       "                        <td id=\"T_04d50fde_be7b_11ed_bdbb_96000040dfb6row8_col3\" class=\"data row8 col3\" >0.42%</td>\n",
       "                        <td id=\"T_04d50fde_be7b_11ed_bdbb_96000040dfb6row8_col4\" class=\"data row8 col4\" >0.32%</td>\n",
       "                        <td id=\"T_04d50fde_be7b_11ed_bdbb_96000040dfb6row8_col5\" class=\"data row8 col5\" >0.39%</td>\n",
       "                        <td id=\"T_04d50fde_be7b_11ed_bdbb_96000040dfb6row8_col6\" class=\"data row8 col6\" >0.36%</td>\n",
       "                        <td id=\"T_04d50fde_be7b_11ed_bdbb_96000040dfb6row8_col7\" class=\"data row8 col7\" >0.23%</td>\n",
       "                        <td id=\"T_04d50fde_be7b_11ed_bdbb_96000040dfb6row8_col8\" class=\"data row8 col8\" >0.13%</td>\n",
       "                        <td id=\"T_04d50fde_be7b_11ed_bdbb_96000040dfb6row8_col9\" class=\"data row8 col9\" >0.19%</td>\n",
       "                        <td id=\"T_04d50fde_be7b_11ed_bdbb_96000040dfb6row8_col10\" class=\"data row8 col10\" >0.29%</td>\n",
       "                        <td id=\"T_04d50fde_be7b_11ed_bdbb_96000040dfb6row8_col11\" class=\"data row8 col11\" >0.39%</td>\n",
       "                        <td id=\"T_04d50fde_be7b_11ed_bdbb_96000040dfb6row8_col12\" class=\"data row8 col12\" >0.16%</td>\n",
       "            </tr>\n",
       "            <tr>\n",
       "                        <th id=\"T_04d50fde_be7b_11ed_bdbb_96000040dfb6level0_row9\" class=\"row_heading level0 row9\" >2017-07</th>\n",
       "                        <td id=\"T_04d50fde_be7b_11ed_bdbb_96000040dfb6row9_col0\" class=\"data row9 col0\" >100.00%</td>\n",
       "                        <td id=\"T_04d50fde_be7b_11ed_bdbb_96000040dfb6row9_col1\" class=\"data row9 col1\" >0.58%</td>\n",
       "                        <td id=\"T_04d50fde_be7b_11ed_bdbb_96000040dfb6row9_col2\" class=\"data row9 col2\" >0.34%</td>\n",
       "                        <td id=\"T_04d50fde_be7b_11ed_bdbb_96000040dfb6row9_col3\" class=\"data row9 col3\" >0.24%</td>\n",
       "                        <td id=\"T_04d50fde_be7b_11ed_bdbb_96000040dfb6row9_col4\" class=\"data row9 col4\" >0.34%</td>\n",
       "                        <td id=\"T_04d50fde_be7b_11ed_bdbb_96000040dfb6row9_col5\" class=\"data row9 col5\" >0.21%</td>\n",
       "                        <td id=\"T_04d50fde_be7b_11ed_bdbb_96000040dfb6row9_col6\" class=\"data row9 col6\" >0.31%</td>\n",
       "                        <td id=\"T_04d50fde_be7b_11ed_bdbb_96000040dfb6row9_col7\" class=\"data row9 col7\" >0.10%</td>\n",
       "                        <td id=\"T_04d50fde_be7b_11ed_bdbb_96000040dfb6row9_col8\" class=\"data row9 col8\" >0.21%</td>\n",
       "                        <td id=\"T_04d50fde_be7b_11ed_bdbb_96000040dfb6row9_col9\" class=\"data row9 col9\" >0.29%</td>\n",
       "                        <td id=\"T_04d50fde_be7b_11ed_bdbb_96000040dfb6row9_col10\" class=\"data row9 col10\" >0.21%</td>\n",
       "                        <td id=\"T_04d50fde_be7b_11ed_bdbb_96000040dfb6row9_col11\" class=\"data row9 col11\" >0.31%</td>\n",
       "                        <td id=\"T_04d50fde_be7b_11ed_bdbb_96000040dfb6row9_col12\" class=\"data row9 col12\" >0.13%</td>\n",
       "            </tr>\n",
       "            <tr>\n",
       "                        <th id=\"T_04d50fde_be7b_11ed_bdbb_96000040dfb6level0_row10\" class=\"row_heading level0 row10\" >2017-08</th>\n",
       "                        <td id=\"T_04d50fde_be7b_11ed_bdbb_96000040dfb6row10_col0\" class=\"data row10 col0\" >100.00%</td>\n",
       "                        <td id=\"T_04d50fde_be7b_11ed_bdbb_96000040dfb6row10_col1\" class=\"data row10 col1\" >0.70%</td>\n",
       "                        <td id=\"T_04d50fde_be7b_11ed_bdbb_96000040dfb6row10_col2\" class=\"data row10 col2\" >0.39%</td>\n",
       "                        <td id=\"T_04d50fde_be7b_11ed_bdbb_96000040dfb6row10_col3\" class=\"data row10 col3\" >0.27%</td>\n",
       "                        <td id=\"T_04d50fde_be7b_11ed_bdbb_96000040dfb6row10_col4\" class=\"data row10 col4\" >0.34%</td>\n",
       "                        <td id=\"T_04d50fde_be7b_11ed_bdbb_96000040dfb6row10_col5\" class=\"data row10 col5\" >0.56%</td>\n",
       "                        <td id=\"T_04d50fde_be7b_11ed_bdbb_96000040dfb6row10_col6\" class=\"data row10 col6\" >0.29%</td>\n",
       "                        <td id=\"T_04d50fde_be7b_11ed_bdbb_96000040dfb6row10_col7\" class=\"data row10 col7\" >0.27%</td>\n",
       "                        <td id=\"T_04d50fde_be7b_11ed_bdbb_96000040dfb6row10_col8\" class=\"data row10 col8\" >0.15%</td>\n",
       "                        <td id=\"T_04d50fde_be7b_11ed_bdbb_96000040dfb6row10_col9\" class=\"data row10 col9\" >0.15%</td>\n",
       "                        <td id=\"T_04d50fde_be7b_11ed_bdbb_96000040dfb6row10_col10\" class=\"data row10 col10\" >0.24%</td>\n",
       "                        <td id=\"T_04d50fde_be7b_11ed_bdbb_96000040dfb6row10_col11\" class=\"data row10 col11\" >0.19%</td>\n",
       "                        <td id=\"T_04d50fde_be7b_11ed_bdbb_96000040dfb6row10_col12\" class=\"data row10 col12\" >0.12%</td>\n",
       "            </tr>\n",
       "            <tr>\n",
       "                        <th id=\"T_04d50fde_be7b_11ed_bdbb_96000040dfb6level0_row11\" class=\"row_heading level0 row11\" >2017-09</th>\n",
       "                        <td id=\"T_04d50fde_be7b_11ed_bdbb_96000040dfb6row11_col0\" class=\"data row11 col0\" >100.00%</td>\n",
       "                        <td id=\"T_04d50fde_be7b_11ed_bdbb_96000040dfb6row11_col1\" class=\"data row11 col1\" >0.69%</td>\n",
       "                        <td id=\"T_04d50fde_be7b_11ed_bdbb_96000040dfb6row11_col2\" class=\"data row11 col2\" >0.54%</td>\n",
       "                        <td id=\"T_04d50fde_be7b_11ed_bdbb_96000040dfb6row11_col3\" class=\"data row11 col3\" >0.37%</td>\n",
       "                        <td id=\"T_04d50fde_be7b_11ed_bdbb_96000040dfb6row11_col4\" class=\"data row11 col4\" >0.44%</td>\n",
       "                        <td id=\"T_04d50fde_be7b_11ed_bdbb_96000040dfb6row11_col5\" class=\"data row11 col5\" >0.32%</td>\n",
       "                        <td id=\"T_04d50fde_be7b_11ed_bdbb_96000040dfb6row11_col6\" class=\"data row11 col6\" >0.22%</td>\n",
       "                        <td id=\"T_04d50fde_be7b_11ed_bdbb_96000040dfb6row11_col7\" class=\"data row11 col7\" >0.25%</td>\n",
       "                        <td id=\"T_04d50fde_be7b_11ed_bdbb_96000040dfb6row11_col8\" class=\"data row11 col8\" >0.27%</td>\n",
       "                        <td id=\"T_04d50fde_be7b_11ed_bdbb_96000040dfb6row11_col9\" class=\"data row11 col9\" >0.17%</td>\n",
       "                        <td id=\"T_04d50fde_be7b_11ed_bdbb_96000040dfb6row11_col10\" class=\"data row11 col10\" >0.25%</td>\n",
       "                        <td id=\"T_04d50fde_be7b_11ed_bdbb_96000040dfb6row11_col11\" class=\"data row11 col11\" >0.07%</td>\n",
       "                        <td id=\"T_04d50fde_be7b_11ed_bdbb_96000040dfb6row11_col12\" class=\"data row11 col12\" ></td>\n",
       "            </tr>\n",
       "            <tr>\n",
       "                        <th id=\"T_04d50fde_be7b_11ed_bdbb_96000040dfb6level0_row12\" class=\"row_heading level0 row12\" >2017-10</th>\n",
       "                        <td id=\"T_04d50fde_be7b_11ed_bdbb_96000040dfb6row12_col0\" class=\"data row12 col0\" >100.00%</td>\n",
       "                        <td id=\"T_04d50fde_be7b_11ed_bdbb_96000040dfb6row12_col1\" class=\"data row12 col1\" >0.75%</td>\n",
       "                        <td id=\"T_04d50fde_be7b_11ed_bdbb_96000040dfb6row12_col2\" class=\"data row12 col2\" >0.25%</td>\n",
       "                        <td id=\"T_04d50fde_be7b_11ed_bdbb_96000040dfb6row12_col3\" class=\"data row12 col3\" >0.09%</td>\n",
       "                        <td id=\"T_04d50fde_be7b_11ed_bdbb_96000040dfb6row12_col4\" class=\"data row12 col4\" >0.25%</td>\n",
       "                        <td id=\"T_04d50fde_be7b_11ed_bdbb_96000040dfb6row12_col5\" class=\"data row12 col5\" >0.21%</td>\n",
       "                        <td id=\"T_04d50fde_be7b_11ed_bdbb_96000040dfb6row12_col6\" class=\"data row12 col6\" >0.21%</td>\n",
       "                        <td id=\"T_04d50fde_be7b_11ed_bdbb_96000040dfb6row12_col7\" class=\"data row12 col7\" >0.39%</td>\n",
       "                        <td id=\"T_04d50fde_be7b_11ed_bdbb_96000040dfb6row12_col8\" class=\"data row12 col8\" >0.30%</td>\n",
       "                        <td id=\"T_04d50fde_be7b_11ed_bdbb_96000040dfb6row12_col9\" class=\"data row12 col9\" >0.18%</td>\n",
       "                        <td id=\"T_04d50fde_be7b_11ed_bdbb_96000040dfb6row12_col10\" class=\"data row12 col10\" >0.21%</td>\n",
       "                        <td id=\"T_04d50fde_be7b_11ed_bdbb_96000040dfb6row12_col11\" class=\"data row12 col11\" ></td>\n",
       "                        <td id=\"T_04d50fde_be7b_11ed_bdbb_96000040dfb6row12_col12\" class=\"data row12 col12\" ></td>\n",
       "            </tr>\n",
       "            <tr>\n",
       "                        <th id=\"T_04d50fde_be7b_11ed_bdbb_96000040dfb6level0_row13\" class=\"row_heading level0 row13\" >2017-11</th>\n",
       "                        <td id=\"T_04d50fde_be7b_11ed_bdbb_96000040dfb6row13_col0\" class=\"data row13 col0\" >100.00%</td>\n",
       "                        <td id=\"T_04d50fde_be7b_11ed_bdbb_96000040dfb6row13_col1\" class=\"data row13 col1\" >0.59%</td>\n",
       "                        <td id=\"T_04d50fde_be7b_11ed_bdbb_96000040dfb6row13_col2\" class=\"data row13 col2\" >0.38%</td>\n",
       "                        <td id=\"T_04d50fde_be7b_11ed_bdbb_96000040dfb6row13_col3\" class=\"data row13 col3\" >0.17%</td>\n",
       "                        <td id=\"T_04d50fde_be7b_11ed_bdbb_96000040dfb6row13_col4\" class=\"data row13 col4\" >0.17%</td>\n",
       "                        <td id=\"T_04d50fde_be7b_11ed_bdbb_96000040dfb6row13_col5\" class=\"data row13 col5\" >0.20%</td>\n",
       "                        <td id=\"T_04d50fde_be7b_11ed_bdbb_96000040dfb6row13_col6\" class=\"data row13 col6\" >0.13%</td>\n",
       "                        <td id=\"T_04d50fde_be7b_11ed_bdbb_96000040dfb6row13_col7\" class=\"data row13 col7\" >0.18%</td>\n",
       "                        <td id=\"T_04d50fde_be7b_11ed_bdbb_96000040dfb6row13_col8\" class=\"data row13 col8\" >0.13%</td>\n",
       "                        <td id=\"T_04d50fde_be7b_11ed_bdbb_96000040dfb6row13_col9\" class=\"data row13 col9\" >0.06%</td>\n",
       "                        <td id=\"T_04d50fde_be7b_11ed_bdbb_96000040dfb6row13_col10\" class=\"data row13 col10\" ></td>\n",
       "                        <td id=\"T_04d50fde_be7b_11ed_bdbb_96000040dfb6row13_col11\" class=\"data row13 col11\" ></td>\n",
       "                        <td id=\"T_04d50fde_be7b_11ed_bdbb_96000040dfb6row13_col12\" class=\"data row13 col12\" ></td>\n",
       "            </tr>\n",
       "            <tr>\n",
       "                        <th id=\"T_04d50fde_be7b_11ed_bdbb_96000040dfb6level0_row14\" class=\"row_heading level0 row14\" >2017-12</th>\n",
       "                        <td id=\"T_04d50fde_be7b_11ed_bdbb_96000040dfb6row14_col0\" class=\"data row14 col0\" >100.00%</td>\n",
       "                        <td id=\"T_04d50fde_be7b_11ed_bdbb_96000040dfb6row14_col1\" class=\"data row14 col1\" >0.20%</td>\n",
       "                        <td id=\"T_04d50fde_be7b_11ed_bdbb_96000040dfb6row14_col2\" class=\"data row14 col2\" >0.30%</td>\n",
       "                        <td id=\"T_04d50fde_be7b_11ed_bdbb_96000040dfb6row14_col3\" class=\"data row14 col3\" >0.37%</td>\n",
       "                        <td id=\"T_04d50fde_be7b_11ed_bdbb_96000040dfb6row14_col4\" class=\"data row14 col4\" >0.26%</td>\n",
       "                        <td id=\"T_04d50fde_be7b_11ed_bdbb_96000040dfb6row14_col5\" class=\"data row14 col5\" >0.20%</td>\n",
       "                        <td id=\"T_04d50fde_be7b_11ed_bdbb_96000040dfb6row14_col6\" class=\"data row14 col6\" >0.17%</td>\n",
       "                        <td id=\"T_04d50fde_be7b_11ed_bdbb_96000040dfb6row14_col7\" class=\"data row14 col7\" >0.02%</td>\n",
       "                        <td id=\"T_04d50fde_be7b_11ed_bdbb_96000040dfb6row14_col8\" class=\"data row14 col8\" >0.19%</td>\n",
       "                        <td id=\"T_04d50fde_be7b_11ed_bdbb_96000040dfb6row14_col9\" class=\"data row14 col9\" ></td>\n",
       "                        <td id=\"T_04d50fde_be7b_11ed_bdbb_96000040dfb6row14_col10\" class=\"data row14 col10\" ></td>\n",
       "                        <td id=\"T_04d50fde_be7b_11ed_bdbb_96000040dfb6row14_col11\" class=\"data row14 col11\" ></td>\n",
       "                        <td id=\"T_04d50fde_be7b_11ed_bdbb_96000040dfb6row14_col12\" class=\"data row14 col12\" ></td>\n",
       "            </tr>\n",
       "            <tr>\n",
       "                        <th id=\"T_04d50fde_be7b_11ed_bdbb_96000040dfb6level0_row15\" class=\"row_heading level0 row15\" >2018-01</th>\n",
       "                        <td id=\"T_04d50fde_be7b_11ed_bdbb_96000040dfb6row15_col0\" class=\"data row15 col0\" >100.00%</td>\n",
       "                        <td id=\"T_04d50fde_be7b_11ed_bdbb_96000040dfb6row15_col1\" class=\"data row15 col1\" >0.33%</td>\n",
       "                        <td id=\"T_04d50fde_be7b_11ed_bdbb_96000040dfb6row15_col2\" class=\"data row15 col2\" >0.36%</td>\n",
       "                        <td id=\"T_04d50fde_be7b_11ed_bdbb_96000040dfb6row15_col3\" class=\"data row15 col3\" >0.29%</td>\n",
       "                        <td id=\"T_04d50fde_be7b_11ed_bdbb_96000040dfb6row15_col4\" class=\"data row15 col4\" >0.29%</td>\n",
       "                        <td id=\"T_04d50fde_be7b_11ed_bdbb_96000040dfb6row15_col5\" class=\"data row15 col5\" >0.17%</td>\n",
       "                        <td id=\"T_04d50fde_be7b_11ed_bdbb_96000040dfb6row15_col6\" class=\"data row15 col6\" >0.17%</td>\n",
       "                        <td id=\"T_04d50fde_be7b_11ed_bdbb_96000040dfb6row15_col7\" class=\"data row15 col7\" >0.23%</td>\n",
       "                        <td id=\"T_04d50fde_be7b_11ed_bdbb_96000040dfb6row15_col8\" class=\"data row15 col8\" ></td>\n",
       "                        <td id=\"T_04d50fde_be7b_11ed_bdbb_96000040dfb6row15_col9\" class=\"data row15 col9\" ></td>\n",
       "                        <td id=\"T_04d50fde_be7b_11ed_bdbb_96000040dfb6row15_col10\" class=\"data row15 col10\" ></td>\n",
       "                        <td id=\"T_04d50fde_be7b_11ed_bdbb_96000040dfb6row15_col11\" class=\"data row15 col11\" ></td>\n",
       "                        <td id=\"T_04d50fde_be7b_11ed_bdbb_96000040dfb6row15_col12\" class=\"data row15 col12\" ></td>\n",
       "            </tr>\n",
       "            <tr>\n",
       "                        <th id=\"T_04d50fde_be7b_11ed_bdbb_96000040dfb6level0_row16\" class=\"row_heading level0 row16\" >2018-02</th>\n",
       "                        <td id=\"T_04d50fde_be7b_11ed_bdbb_96000040dfb6row16_col0\" class=\"data row16 col0\" >100.00%</td>\n",
       "                        <td id=\"T_04d50fde_be7b_11ed_bdbb_96000040dfb6row16_col1\" class=\"data row16 col1\" >0.34%</td>\n",
       "                        <td id=\"T_04d50fde_be7b_11ed_bdbb_96000040dfb6row16_col2\" class=\"data row16 col2\" >0.40%</td>\n",
       "                        <td id=\"T_04d50fde_be7b_11ed_bdbb_96000040dfb6row16_col3\" class=\"data row16 col3\" >0.30%</td>\n",
       "                        <td id=\"T_04d50fde_be7b_11ed_bdbb_96000040dfb6row16_col4\" class=\"data row16 col4\" >0.25%</td>\n",
       "                        <td id=\"T_04d50fde_be7b_11ed_bdbb_96000040dfb6row16_col5\" class=\"data row16 col5\" >0.22%</td>\n",
       "                        <td id=\"T_04d50fde_be7b_11ed_bdbb_96000040dfb6row16_col6\" class=\"data row16 col6\" >0.20%</td>\n",
       "                        <td id=\"T_04d50fde_be7b_11ed_bdbb_96000040dfb6row16_col7\" class=\"data row16 col7\" ></td>\n",
       "                        <td id=\"T_04d50fde_be7b_11ed_bdbb_96000040dfb6row16_col8\" class=\"data row16 col8\" ></td>\n",
       "                        <td id=\"T_04d50fde_be7b_11ed_bdbb_96000040dfb6row16_col9\" class=\"data row16 col9\" ></td>\n",
       "                        <td id=\"T_04d50fde_be7b_11ed_bdbb_96000040dfb6row16_col10\" class=\"data row16 col10\" ></td>\n",
       "                        <td id=\"T_04d50fde_be7b_11ed_bdbb_96000040dfb6row16_col11\" class=\"data row16 col11\" ></td>\n",
       "                        <td id=\"T_04d50fde_be7b_11ed_bdbb_96000040dfb6row16_col12\" class=\"data row16 col12\" ></td>\n",
       "            </tr>\n",
       "            <tr>\n",
       "                        <th id=\"T_04d50fde_be7b_11ed_bdbb_96000040dfb6level0_row17\" class=\"row_heading level0 row17\" >2018-03</th>\n",
       "                        <td id=\"T_04d50fde_be7b_11ed_bdbb_96000040dfb6row17_col0\" class=\"data row17 col0\" >100.00%</td>\n",
       "                        <td id=\"T_04d50fde_be7b_11ed_bdbb_96000040dfb6row17_col1\" class=\"data row17 col1\" >0.39%</td>\n",
       "                        <td id=\"T_04d50fde_be7b_11ed_bdbb_96000040dfb6row17_col2\" class=\"data row17 col2\" >0.34%</td>\n",
       "                        <td id=\"T_04d50fde_be7b_11ed_bdbb_96000040dfb6row17_col3\" class=\"data row17 col3\" >0.31%</td>\n",
       "                        <td id=\"T_04d50fde_be7b_11ed_bdbb_96000040dfb6row17_col4\" class=\"data row17 col4\" >0.12%</td>\n",
       "                        <td id=\"T_04d50fde_be7b_11ed_bdbb_96000040dfb6row17_col5\" class=\"data row17 col5\" >0.12%</td>\n",
       "                        <td id=\"T_04d50fde_be7b_11ed_bdbb_96000040dfb6row17_col6\" class=\"data row17 col6\" ></td>\n",
       "                        <td id=\"T_04d50fde_be7b_11ed_bdbb_96000040dfb6row17_col7\" class=\"data row17 col7\" ></td>\n",
       "                        <td id=\"T_04d50fde_be7b_11ed_bdbb_96000040dfb6row17_col8\" class=\"data row17 col8\" ></td>\n",
       "                        <td id=\"T_04d50fde_be7b_11ed_bdbb_96000040dfb6row17_col9\" class=\"data row17 col9\" ></td>\n",
       "                        <td id=\"T_04d50fde_be7b_11ed_bdbb_96000040dfb6row17_col10\" class=\"data row17 col10\" ></td>\n",
       "                        <td id=\"T_04d50fde_be7b_11ed_bdbb_96000040dfb6row17_col11\" class=\"data row17 col11\" ></td>\n",
       "                        <td id=\"T_04d50fde_be7b_11ed_bdbb_96000040dfb6row17_col12\" class=\"data row17 col12\" ></td>\n",
       "            </tr>\n",
       "            <tr>\n",
       "                        <th id=\"T_04d50fde_be7b_11ed_bdbb_96000040dfb6level0_row18\" class=\"row_heading level0 row18\" >2018-04</th>\n",
       "                        <td id=\"T_04d50fde_be7b_11ed_bdbb_96000040dfb6row18_col0\" class=\"data row18 col0\" >100.00%</td>\n",
       "                        <td id=\"T_04d50fde_be7b_11ed_bdbb_96000040dfb6row18_col1\" class=\"data row18 col1\" >0.59%</td>\n",
       "                        <td id=\"T_04d50fde_be7b_11ed_bdbb_96000040dfb6row18_col2\" class=\"data row18 col2\" >0.30%</td>\n",
       "                        <td id=\"T_04d50fde_be7b_11ed_bdbb_96000040dfb6row18_col3\" class=\"data row18 col3\" >0.24%</td>\n",
       "                        <td id=\"T_04d50fde_be7b_11ed_bdbb_96000040dfb6row18_col4\" class=\"data row18 col4\" >0.15%</td>\n",
       "                        <td id=\"T_04d50fde_be7b_11ed_bdbb_96000040dfb6row18_col5\" class=\"data row18 col5\" ></td>\n",
       "                        <td id=\"T_04d50fde_be7b_11ed_bdbb_96000040dfb6row18_col6\" class=\"data row18 col6\" ></td>\n",
       "                        <td id=\"T_04d50fde_be7b_11ed_bdbb_96000040dfb6row18_col7\" class=\"data row18 col7\" ></td>\n",
       "                        <td id=\"T_04d50fde_be7b_11ed_bdbb_96000040dfb6row18_col8\" class=\"data row18 col8\" ></td>\n",
       "                        <td id=\"T_04d50fde_be7b_11ed_bdbb_96000040dfb6row18_col9\" class=\"data row18 col9\" ></td>\n",
       "                        <td id=\"T_04d50fde_be7b_11ed_bdbb_96000040dfb6row18_col10\" class=\"data row18 col10\" ></td>\n",
       "                        <td id=\"T_04d50fde_be7b_11ed_bdbb_96000040dfb6row18_col11\" class=\"data row18 col11\" ></td>\n",
       "                        <td id=\"T_04d50fde_be7b_11ed_bdbb_96000040dfb6row18_col12\" class=\"data row18 col12\" ></td>\n",
       "            </tr>\n",
       "            <tr>\n",
       "                        <th id=\"T_04d50fde_be7b_11ed_bdbb_96000040dfb6level0_row19\" class=\"row_heading level0 row19\" >2018-05</th>\n",
       "                        <td id=\"T_04d50fde_be7b_11ed_bdbb_96000040dfb6row19_col0\" class=\"data row19 col0\" >100.00%</td>\n",
       "                        <td id=\"T_04d50fde_be7b_11ed_bdbb_96000040dfb6row19_col1\" class=\"data row19 col1\" >0.53%</td>\n",
       "                        <td id=\"T_04d50fde_be7b_11ed_bdbb_96000040dfb6row19_col2\" class=\"data row19 col2\" >0.26%</td>\n",
       "                        <td id=\"T_04d50fde_be7b_11ed_bdbb_96000040dfb6row19_col3\" class=\"data row19 col3\" >0.18%</td>\n",
       "                        <td id=\"T_04d50fde_be7b_11ed_bdbb_96000040dfb6row19_col4\" class=\"data row19 col4\" ></td>\n",
       "                        <td id=\"T_04d50fde_be7b_11ed_bdbb_96000040dfb6row19_col5\" class=\"data row19 col5\" ></td>\n",
       "                        <td id=\"T_04d50fde_be7b_11ed_bdbb_96000040dfb6row19_col6\" class=\"data row19 col6\" ></td>\n",
       "                        <td id=\"T_04d50fde_be7b_11ed_bdbb_96000040dfb6row19_col7\" class=\"data row19 col7\" ></td>\n",
       "                        <td id=\"T_04d50fde_be7b_11ed_bdbb_96000040dfb6row19_col8\" class=\"data row19 col8\" ></td>\n",
       "                        <td id=\"T_04d50fde_be7b_11ed_bdbb_96000040dfb6row19_col9\" class=\"data row19 col9\" ></td>\n",
       "                        <td id=\"T_04d50fde_be7b_11ed_bdbb_96000040dfb6row19_col10\" class=\"data row19 col10\" ></td>\n",
       "                        <td id=\"T_04d50fde_be7b_11ed_bdbb_96000040dfb6row19_col11\" class=\"data row19 col11\" ></td>\n",
       "                        <td id=\"T_04d50fde_be7b_11ed_bdbb_96000040dfb6row19_col12\" class=\"data row19 col12\" ></td>\n",
       "            </tr>\n",
       "            <tr>\n",
       "                        <th id=\"T_04d50fde_be7b_11ed_bdbb_96000040dfb6level0_row20\" class=\"row_heading level0 row20\" >2018-06</th>\n",
       "                        <td id=\"T_04d50fde_be7b_11ed_bdbb_96000040dfb6row20_col0\" class=\"data row20 col0\" >100.00%</td>\n",
       "                        <td id=\"T_04d50fde_be7b_11ed_bdbb_96000040dfb6row20_col1\" class=\"data row20 col1\" >0.42%</td>\n",
       "                        <td id=\"T_04d50fde_be7b_11ed_bdbb_96000040dfb6row20_col2\" class=\"data row20 col2\" >0.27%</td>\n",
       "                        <td id=\"T_04d50fde_be7b_11ed_bdbb_96000040dfb6row20_col3\" class=\"data row20 col3\" ></td>\n",
       "                        <td id=\"T_04d50fde_be7b_11ed_bdbb_96000040dfb6row20_col4\" class=\"data row20 col4\" ></td>\n",
       "                        <td id=\"T_04d50fde_be7b_11ed_bdbb_96000040dfb6row20_col5\" class=\"data row20 col5\" ></td>\n",
       "                        <td id=\"T_04d50fde_be7b_11ed_bdbb_96000040dfb6row20_col6\" class=\"data row20 col6\" ></td>\n",
       "                        <td id=\"T_04d50fde_be7b_11ed_bdbb_96000040dfb6row20_col7\" class=\"data row20 col7\" ></td>\n",
       "                        <td id=\"T_04d50fde_be7b_11ed_bdbb_96000040dfb6row20_col8\" class=\"data row20 col8\" ></td>\n",
       "                        <td id=\"T_04d50fde_be7b_11ed_bdbb_96000040dfb6row20_col9\" class=\"data row20 col9\" ></td>\n",
       "                        <td id=\"T_04d50fde_be7b_11ed_bdbb_96000040dfb6row20_col10\" class=\"data row20 col10\" ></td>\n",
       "                        <td id=\"T_04d50fde_be7b_11ed_bdbb_96000040dfb6row20_col11\" class=\"data row20 col11\" ></td>\n",
       "                        <td id=\"T_04d50fde_be7b_11ed_bdbb_96000040dfb6row20_col12\" class=\"data row20 col12\" ></td>\n",
       "            </tr>\n",
       "            <tr>\n",
       "                        <th id=\"T_04d50fde_be7b_11ed_bdbb_96000040dfb6level0_row21\" class=\"row_heading level0 row21\" >2018-07</th>\n",
       "                        <td id=\"T_04d50fde_be7b_11ed_bdbb_96000040dfb6row21_col0\" class=\"data row21 col0\" >100.00%</td>\n",
       "                        <td id=\"T_04d50fde_be7b_11ed_bdbb_96000040dfb6row21_col1\" class=\"data row21 col1\" >0.52%</td>\n",
       "                        <td id=\"T_04d50fde_be7b_11ed_bdbb_96000040dfb6row21_col2\" class=\"data row21 col2\" ></td>\n",
       "                        <td id=\"T_04d50fde_be7b_11ed_bdbb_96000040dfb6row21_col3\" class=\"data row21 col3\" ></td>\n",
       "                        <td id=\"T_04d50fde_be7b_11ed_bdbb_96000040dfb6row21_col4\" class=\"data row21 col4\" ></td>\n",
       "                        <td id=\"T_04d50fde_be7b_11ed_bdbb_96000040dfb6row21_col5\" class=\"data row21 col5\" ></td>\n",
       "                        <td id=\"T_04d50fde_be7b_11ed_bdbb_96000040dfb6row21_col6\" class=\"data row21 col6\" ></td>\n",
       "                        <td id=\"T_04d50fde_be7b_11ed_bdbb_96000040dfb6row21_col7\" class=\"data row21 col7\" ></td>\n",
       "                        <td id=\"T_04d50fde_be7b_11ed_bdbb_96000040dfb6row21_col8\" class=\"data row21 col8\" ></td>\n",
       "                        <td id=\"T_04d50fde_be7b_11ed_bdbb_96000040dfb6row21_col9\" class=\"data row21 col9\" ></td>\n",
       "                        <td id=\"T_04d50fde_be7b_11ed_bdbb_96000040dfb6row21_col10\" class=\"data row21 col10\" ></td>\n",
       "                        <td id=\"T_04d50fde_be7b_11ed_bdbb_96000040dfb6row21_col11\" class=\"data row21 col11\" ></td>\n",
       "                        <td id=\"T_04d50fde_be7b_11ed_bdbb_96000040dfb6row21_col12\" class=\"data row21 col12\" ></td>\n",
       "            </tr>\n",
       "            <tr>\n",
       "                        <th id=\"T_04d50fde_be7b_11ed_bdbb_96000040dfb6level0_row22\" class=\"row_heading level0 row22\" >2018-08</th>\n",
       "                        <td id=\"T_04d50fde_be7b_11ed_bdbb_96000040dfb6row22_col0\" class=\"data row22 col0\" >100.00%</td>\n",
       "                        <td id=\"T_04d50fde_be7b_11ed_bdbb_96000040dfb6row22_col1\" class=\"data row22 col1\" ></td>\n",
       "                        <td id=\"T_04d50fde_be7b_11ed_bdbb_96000040dfb6row22_col2\" class=\"data row22 col2\" ></td>\n",
       "                        <td id=\"T_04d50fde_be7b_11ed_bdbb_96000040dfb6row22_col3\" class=\"data row22 col3\" ></td>\n",
       "                        <td id=\"T_04d50fde_be7b_11ed_bdbb_96000040dfb6row22_col4\" class=\"data row22 col4\" ></td>\n",
       "                        <td id=\"T_04d50fde_be7b_11ed_bdbb_96000040dfb6row22_col5\" class=\"data row22 col5\" ></td>\n",
       "                        <td id=\"T_04d50fde_be7b_11ed_bdbb_96000040dfb6row22_col6\" class=\"data row22 col6\" ></td>\n",
       "                        <td id=\"T_04d50fde_be7b_11ed_bdbb_96000040dfb6row22_col7\" class=\"data row22 col7\" ></td>\n",
       "                        <td id=\"T_04d50fde_be7b_11ed_bdbb_96000040dfb6row22_col8\" class=\"data row22 col8\" ></td>\n",
       "                        <td id=\"T_04d50fde_be7b_11ed_bdbb_96000040dfb6row22_col9\" class=\"data row22 col9\" ></td>\n",
       "                        <td id=\"T_04d50fde_be7b_11ed_bdbb_96000040dfb6row22_col10\" class=\"data row22 col10\" ></td>\n",
       "                        <td id=\"T_04d50fde_be7b_11ed_bdbb_96000040dfb6row22_col11\" class=\"data row22 col11\" ></td>\n",
       "                        <td id=\"T_04d50fde_be7b_11ed_bdbb_96000040dfb6row22_col12\" class=\"data row22 col12\" ></td>\n",
       "            </tr>\n",
       "    </tbody></table>"
      ],
      "text/plain": [
       "<pandas.io.formats.style.Styler at 0x7f27b4b6df60>"
      ]
     },
     "execution_count": 41,
     "metadata": {},
     "output_type": "execute_result"
    }
   ],
   "source": [
    "user_retention = c.query('month <= 12').pivot(columns='month', index = 'first_order_cohort', values='customer_unique_id')\n",
    "user_retention.divide(aa, axis=0)\\\n",
    "    .style.background_gradient(cmap='PuBu')\\\n",
    "    .highlight_null('white')\\\n",
    "    .format(\"{:.2%}\", na_rep=\"\")"
   ]
  },
  {
   "cell_type": "markdown",
   "metadata": {},
   "source": [
    "Самый высокий `retention` на третий месяц у когорты пользователей совершивших первую покупку `2017-03` и составляет `0.47%`"
   ]
  },
  {
   "cell_type": "markdown",
   "metadata": {},
   "source": [
    "<a class=\"anchor\" id=\"h3_6\"></a>\n",
    "\n",
    "<br/><br/>\n",
    "\n",
    "### 3.6 Построй RFM-сегментацию пользователей"
   ]
  },
  {
   "cell_type": "markdown",
   "metadata": {},
   "source": [
    "**R** (recency) - время от последней покупки пользователя до текущей даты;\\\n",
    "**F** (frequency) - суммарное количество покупок у пользователя за всё время;\\\n",
    "**M** (monetary) - сумма покупок за всё время"
   ]
  },
  {
   "cell_type": "markdown",
   "metadata": {},
   "source": [
    "Объеденим данные о заказах и пользователях, оставим успешные заказы"
   ]
  },
  {
   "cell_type": "code",
   "execution_count": 47,
   "metadata": {},
   "outputs": [],
   "source": [
    "orde = orders.merge(customers ,on = 'customer_id')\\\n",
    "    .query('order_successful == 1')"
   ]
  },
  {
   "cell_type": "markdown",
   "metadata": {},
   "source": [
    "## `recency`"
   ]
  },
  {
   "cell_type": "markdown",
   "metadata": {},
   "source": [
    "Для нахождения `recency` за текущую дату возьмем время последнего созданного заказа и  вычтем из него дату последней покупки пользователя"
   ]
  },
  {
   "cell_type": "code",
   "execution_count": 48,
   "metadata": {},
   "outputs": [],
   "source": [
    "r = orde.groupby('customer_unique_id')\\\n",
    "        .agg({'order_purchase_timestamp':['max']})['order_purchase_timestamp'].reset_index()\n",
    "r['raz'] = (orders.order_purchase_timestamp.max() - r['max'] ).dt.days"
   ]
  },
  {
   "cell_type": "markdown",
   "metadata": {},
   "source": [
    "Оставим данные за год и посмотрим на распределение дней от последней покупки пользователя до текущей даты"
   ]
  },
  {
   "cell_type": "code",
   "execution_count": 49,
   "metadata": {},
   "outputs": [],
   "source": [
    "r = r.query('raz <= 365').sort_values('raz')"
   ]
  },
  {
   "cell_type": "code",
   "execution_count": 50,
   "metadata": {
    "scrolled": false
   },
   "outputs": [
    {
     "data": {
      "text/plain": [
       "<matplotlib.axes._subplots.AxesSubplot at 0x7f27b7dc2828>"
      ]
     },
     "execution_count": 50,
     "metadata": {},
     "output_type": "execute_result"
    },
    {
     "data": {
      "image/png": "[encoded data removed]",
      "text/plain": [
       "<Figure size 432x288 with 1 Axes>"
      ]
     },
     "metadata": {},
     "output_type": "display_data"
    }
   ],
   "source": [
    "r.raz.hist()"
   ]
  },
  {
   "cell_type": "markdown",
   "metadata": {},
   "source": [
    "\n",
    "Так как Распределение равномерное, хоть и начинается с 49 дня, разделю получившуюся разницу на 4 равные группы.\\\n",
    "Которые в себя вклбчат следующие промежутки:"
   ]
  },
  {
   "cell_type": "code",
   "execution_count": 51,
   "metadata": {},
   "outputs": [
    {
     "data": {
      "text/plain": [
       "[(48.999, 128.0], (128.0, 206.0], (206.0, 279.0], (279.0, 365.0]]\n",
       "Categories (4, interval[float64]): [(48.999, 128.0] < (128.0, 206.0] < (206.0, 279.0] < (279.0, 365.0]]"
      ]
     },
     "execution_count": 51,
     "metadata": {},
     "output_type": "execute_result"
    }
   ],
   "source": [
    "pd.qcut(r.raz,4).unique()"
   ]
  },
  {
   "cell_type": "code",
   "execution_count": 52,
   "metadata": {},
   "outputs": [],
   "source": [
    "r['r'] = pd.qcut(r.raz,4,labels=[4,3,2,1])"
   ]
  },
  {
   "cell_type": "raw",
   "metadata": {},
   "source": [
    "r.groupby('r')['raz'].agg(['count'])"
   ]
  },
  {
   "cell_type": "code",
   "execution_count": 69,
   "metadata": {},
   "outputs": [
    {
     "data": {
      "text/html": [
       "<div>\n",
       "<style scoped>\n",
       "    .dataframe tbody tr th:only-of-type {\n",
       "        vertical-align: middle;\n",
       "    }\n",
       "\n",
       "    .dataframe tbody tr th {\n",
       "        vertical-align: top;\n",
       "    }\n",
       "\n",
       "    .dataframe thead th {\n",
       "        text-align: right;\n",
       "    }\n",
       "</style>\n",
       "<table border=\"1\" class=\"dataframe\">\n",
       "  <thead>\n",
       "    <tr style=\"text-align: right;\">\n",
       "      <th></th>\n",
       "      <th>customer_unique_id</th>\n",
       "      <th>max</th>\n",
       "      <th>raz</th>\n",
       "      <th>r</th>\n",
       "    </tr>\n",
       "  </thead>\n",
       "  <tbody>\n",
       "    <tr>\n",
       "      <th>61030</th>\n",
       "      <td>a712a430955027da5bc257a10073a390</td>\n",
       "      <td>2018-08-28 21:56:30</td>\n",
       "      <td>49</td>\n",
       "      <td>4</td>\n",
       "    </tr>\n",
       "    <tr>\n",
       "      <th>64207</th>\n",
       "      <td>afbcfd0b9c5233e7ccc73428526fbb52</td>\n",
       "      <td>2018-08-29 08:46:11</td>\n",
       "      <td>49</td>\n",
       "      <td>4</td>\n",
       "    </tr>\n",
       "    <tr>\n",
       "      <th>66810</th>\n",
       "      <td>b701bebbdf478f5500348f03aff62121</td>\n",
       "      <td>2018-08-29 14:52:00</td>\n",
       "      <td>49</td>\n",
       "      <td>4</td>\n",
       "    </tr>\n",
       "    <tr>\n",
       "      <th>57656</th>\n",
       "      <td>9dfcc502727549f99c9f73dbd28b35e9</td>\n",
       "      <td>2018-08-28 22:30:32</td>\n",
       "      <td>49</td>\n",
       "      <td>4</td>\n",
       "    </tr>\n",
       "    <tr>\n",
       "      <th>44582</th>\n",
       "      <td>7a22d14aa3c3599238509ddca4b93b01</td>\n",
       "      <td>2018-08-29 12:25:59</td>\n",
       "      <td>49</td>\n",
       "      <td>4</td>\n",
       "    </tr>\n",
       "  </tbody>\n",
       "</table>\n",
       "</div>"
      ],
      "text/plain": [
       "                     customer_unique_id                 max  raz  r\n",
       "61030  a712a430955027da5bc257a10073a390 2018-08-28 21:56:30   49  4\n",
       "64207  afbcfd0b9c5233e7ccc73428526fbb52 2018-08-29 08:46:11   49  4\n",
       "66810  b701bebbdf478f5500348f03aff62121 2018-08-29 14:52:00   49  4\n",
       "57656  9dfcc502727549f99c9f73dbd28b35e9 2018-08-28 22:30:32   49  4\n",
       "44582  7a22d14aa3c3599238509ddca4b93b01 2018-08-29 12:25:59   49  4"
      ]
     },
     "execution_count": 69,
     "metadata": {},
     "output_type": "execute_result"
    }
   ],
   "source": [
    "r.head()"
   ]
  },
  {
   "cell_type": "markdown",
   "metadata": {},
   "source": [
    "##  `frequency`"
   ]
  },
  {
   "cell_type": "markdown",
   "metadata": {},
   "source": [
    "Посчитаю суммарное количество покупок у пользователя за всё время"
   ]
  },
  {
   "cell_type": "code",
   "execution_count": 54,
   "metadata": {},
   "outputs": [],
   "source": [
    "f = orde.groupby('customer_unique_id', as_index = False)\\\n",
    "    .agg({'order_id':'count'}).sort_values('order_id',ascending = False)"
   ]
  },
  {
   "cell_type": "code",
   "execution_count": 55,
   "metadata": {
    "scrolled": false
   },
   "outputs": [
    {
     "data": {
      "text/plain": [
       "<matplotlib.axes._subplots.AxesSubplot at 0x7f27b49c3588>"
      ]
     },
     "execution_count": 55,
     "metadata": {},
     "output_type": "execute_result"
    },
    {
     "data": {
      "image/png": "[encoded data removed]",
      "text/plain": [
       "<Figure size 432x288 with 1 Axes>"
      ]
     },
     "metadata": {},
     "output_type": "display_data"
    }
   ],
   "source": [
    "f.order_id.hist()"
   ]
  },
  {
   "cell_type": "markdown",
   "metadata": {},
   "source": [
    "Так как кол-во заказов на одного пользователя не равномерно, будем считать что;\\\n",
    "`1 покупка` - 1 балл\\\n",
    "`2 покупки` - 2 балла\\\n",
    "`3-4 покупок` - 3 балла\\\n",
    "`5 и более покупок` - 4 балла"
   ]
  },
  {
   "cell_type": "code",
   "execution_count": 56,
   "metadata": {},
   "outputs": [],
   "source": [
    "f['f'] = pd.cut(f.order_id,bins = [0,1,2,4,f.order_id.max()] ,labels=[1, 2, 3, 4])"
   ]
  },
  {
   "cell_type": "code",
   "execution_count": 57,
   "metadata": {},
   "outputs": [
    {
     "data": {
      "text/plain": [
       "f\n",
       "1                 {1}\n",
       "2                 {2}\n",
       "3              {3, 4}\n",
       "4    {5, 6, 7, 9, 15}\n",
       "Name: order_id, dtype: object"
      ]
     },
     "execution_count": 57,
     "metadata": {},
     "output_type": "execute_result"
    }
   ],
   "source": [
    "f.groupby('f')['order_id'].agg(set)"
   ]
  },
  {
   "cell_type": "code",
   "execution_count": 58,
   "metadata": {
    "scrolled": false
   },
   "outputs": [
    {
     "data": {
      "text/html": [
       "<div>\n",
       "<style scoped>\n",
       "    .dataframe tbody tr th:only-of-type {\n",
       "        vertical-align: middle;\n",
       "    }\n",
       "\n",
       "    .dataframe tbody tr th {\n",
       "        vertical-align: top;\n",
       "    }\n",
       "\n",
       "    .dataframe thead th {\n",
       "        text-align: right;\n",
       "    }\n",
       "</style>\n",
       "<table border=\"1\" class=\"dataframe\">\n",
       "  <thead>\n",
       "    <tr style=\"text-align: right;\">\n",
       "      <th></th>\n",
       "      <th>count</th>\n",
       "    </tr>\n",
       "    <tr>\n",
       "      <th>f</th>\n",
       "      <th></th>\n",
       "    </tr>\n",
       "  </thead>\n",
       "  <tbody>\n",
       "    <tr>\n",
       "      <th>1</th>\n",
       "      <td>90537</td>\n",
       "    </tr>\n",
       "    <tr>\n",
       "      <th>2</th>\n",
       "      <td>2572</td>\n",
       "    </tr>\n",
       "    <tr>\n",
       "      <th>3</th>\n",
       "      <td>209</td>\n",
       "    </tr>\n",
       "    <tr>\n",
       "      <th>4</th>\n",
       "      <td>19</td>\n",
       "    </tr>\n",
       "  </tbody>\n",
       "</table>\n",
       "</div>"
      ],
      "text/plain": [
       "   count\n",
       "f       \n",
       "1  90537\n",
       "2   2572\n",
       "3    209\n",
       "4     19"
      ]
     },
     "execution_count": 58,
     "metadata": {},
     "output_type": "execute_result"
    }
   ],
   "source": [
    "f.groupby('f')['order_id'].agg(['count'])"
   ]
  },
  {
   "cell_type": "code",
   "execution_count": 67,
   "metadata": {},
   "outputs": [
    {
     "data": {
      "text/html": [
       "<div>\n",
       "<style scoped>\n",
       "    .dataframe tbody tr th:only-of-type {\n",
       "        vertical-align: middle;\n",
       "    }\n",
       "\n",
       "    .dataframe tbody tr th {\n",
       "        vertical-align: top;\n",
       "    }\n",
       "\n",
       "    .dataframe thead th {\n",
       "        text-align: right;\n",
       "    }\n",
       "</style>\n",
       "<table border=\"1\" class=\"dataframe\">\n",
       "  <thead>\n",
       "    <tr style=\"text-align: right;\">\n",
       "      <th></th>\n",
       "      <th>customer_unique_id</th>\n",
       "      <th>order_id</th>\n",
       "      <th>f</th>\n",
       "    </tr>\n",
       "  </thead>\n",
       "  <tbody>\n",
       "    <tr>\n",
       "      <th>51421</th>\n",
       "      <td>8d50f5eadf50201ccdcedfb9e2ac8455</td>\n",
       "      <td>15</td>\n",
       "      <td>4</td>\n",
       "    </tr>\n",
       "    <tr>\n",
       "      <th>22774</th>\n",
       "      <td>3e43e6105506432c953e165fb2acf44c</td>\n",
       "      <td>9</td>\n",
       "      <td>4</td>\n",
       "    </tr>\n",
       "    <tr>\n",
       "      <th>10058</th>\n",
       "      <td>1b6c7548a2a1f9037c1fd3ddfed95f33</td>\n",
       "      <td>7</td>\n",
       "      <td>4</td>\n",
       "    </tr>\n",
       "    <tr>\n",
       "      <th>36700</th>\n",
       "      <td>6469f99c1f9dfae7733b25662e7f1782</td>\n",
       "      <td>7</td>\n",
       "      <td>4</td>\n",
       "    </tr>\n",
       "    <tr>\n",
       "      <th>73906</th>\n",
       "      <td>ca77025e7201e3b30c44b472ff346268</td>\n",
       "      <td>7</td>\n",
       "      <td>4</td>\n",
       "    </tr>\n",
       "  </tbody>\n",
       "</table>\n",
       "</div>"
      ],
      "text/plain": [
       "                     customer_unique_id  order_id  f\n",
       "51421  8d50f5eadf50201ccdcedfb9e2ac8455        15  4\n",
       "22774  3e43e6105506432c953e165fb2acf44c         9  4\n",
       "10058  1b6c7548a2a1f9037c1fd3ddfed95f33         7  4\n",
       "36700  6469f99c1f9dfae7733b25662e7f1782         7  4\n",
       "73906  ca77025e7201e3b30c44b472ff346268         7  4"
      ]
     },
     "execution_count": 67,
     "metadata": {},
     "output_type": "execute_result"
    }
   ],
   "source": [
    "f.head()"
   ]
  },
  {
   "cell_type": "markdown",
   "metadata": {},
   "source": [
    "## `monetary`"
   ]
  },
  {
   "cell_type": "markdown",
   "metadata": {},
   "source": [
    "Найдем `monetary`, добавим данные от товарах\\\n",
    "Посчитаем сумму заказов для каждого пользователя за всё время"
   ]
  },
  {
   "cell_type": "code",
   "execution_count": 60,
   "metadata": {},
   "outputs": [],
   "source": [
    "merge = orde.merge(items[['order_id','price']] , on = 'order_id')"
   ]
  },
  {
   "cell_type": "code",
   "execution_count": 61,
   "metadata": {},
   "outputs": [],
   "source": [
    "m = merge.groupby('customer_unique_id',as_index = False)\\\n",
    "    .agg({'price':'sum'}).sort_values('price',ascending = False)"
   ]
  },
  {
   "cell_type": "code",
   "execution_count": 62,
   "metadata": {
    "scrolled": true
   },
   "outputs": [
    {
     "data": {
      "text/plain": [
       "<matplotlib.axes._subplots.AxesSubplot at 0x7f27b49a3898>"
      ]
     },
     "execution_count": 62,
     "metadata": {},
     "output_type": "execute_result"
    },
    {
     "data": {
      "image/png": "[encoded data removed]",
      "text/plain": [
       "<Figure size 432x288 with 1 Axes>"
      ]
     },
     "metadata": {},
     "output_type": "display_data"
    }
   ],
   "source": [
    "m.price.hist()"
   ]
  },
  {
   "cell_type": "markdown",
   "metadata": {},
   "source": [
    "Так же распределение скошено, за границы при оценке возьмем:\\\n",
    "сумма заказа;\n",
    "   * `0-100` - 1 балл\n",
    "   * `100-500` - 2 балла\n",
    "   * `500 - 1000` - 3 балла\n",
    "   * `более 1000` - 4 балла"
   ]
  },
  {
   "cell_type": "code",
   "execution_count": 63,
   "metadata": {},
   "outputs": [],
   "source": [
    "m['m'] = pd.cut(m.price,bins = [0,100,500,1000,m.price.max()],labels=[1, 2, 3,4])"
   ]
  },
  {
   "cell_type": "code",
   "execution_count": 65,
   "metadata": {},
   "outputs": [
    {
     "data": {
      "text/html": [
       "<div>\n",
       "<style scoped>\n",
       "    .dataframe tbody tr th:only-of-type {\n",
       "        vertical-align: middle;\n",
       "    }\n",
       "\n",
       "    .dataframe tbody tr th {\n",
       "        vertical-align: top;\n",
       "    }\n",
       "\n",
       "    .dataframe thead th {\n",
       "        text-align: right;\n",
       "    }\n",
       "</style>\n",
       "<table border=\"1\" class=\"dataframe\">\n",
       "  <thead>\n",
       "    <tr style=\"text-align: right;\">\n",
       "      <th></th>\n",
       "      <th>customer_unique_id</th>\n",
       "      <th>price</th>\n",
       "      <th>m</th>\n",
       "    </tr>\n",
       "  </thead>\n",
       "  <tbody>\n",
       "    <tr>\n",
       "      <th>3724</th>\n",
       "      <td>0a0a92112bd4c708ca5fde585afaa872</td>\n",
       "      <td>13440.00</td>\n",
       "      <td>4</td>\n",
       "    </tr>\n",
       "    <tr>\n",
       "      <th>79618</th>\n",
       "      <td>da122df9eeddfedc1dc1f5349a1a690c</td>\n",
       "      <td>7388.00</td>\n",
       "      <td>4</td>\n",
       "    </tr>\n",
       "    <tr>\n",
       "      <th>43161</th>\n",
       "      <td>763c8b1c9c68a0229c42c9fc6f662b93</td>\n",
       "      <td>7160.00</td>\n",
       "      <td>4</td>\n",
       "    </tr>\n",
       "    <tr>\n",
       "      <th>80445</th>\n",
       "      <td>dc4802a71eae9be1dd28f5d788ceb526</td>\n",
       "      <td>6735.00</td>\n",
       "      <td>4</td>\n",
       "    </tr>\n",
       "    <tr>\n",
       "      <th>25431</th>\n",
       "      <td>459bef486812aa25204be022145caa62</td>\n",
       "      <td>6729.00</td>\n",
       "      <td>4</td>\n",
       "    </tr>\n",
       "    <tr>\n",
       "      <th>...</th>\n",
       "      <td>...</td>\n",
       "      <td>...</td>\n",
       "      <td>...</td>\n",
       "    </tr>\n",
       "    <tr>\n",
       "      <th>75606</th>\n",
       "      <td>cf3839da0d9492ad151690b65f45d800</td>\n",
       "      <td>2.99</td>\n",
       "      <td>1</td>\n",
       "    </tr>\n",
       "    <tr>\n",
       "      <th>69015</th>\n",
       "      <td>bd06ce0e06ad77a7f681f1a4960a3cc6</td>\n",
       "      <td>2.29</td>\n",
       "      <td>1</td>\n",
       "    </tr>\n",
       "    <tr>\n",
       "      <th>18098</th>\n",
       "      <td>317cfc692e3f86c45c95697c61c853a6</td>\n",
       "      <td>2.20</td>\n",
       "      <td>1</td>\n",
       "    </tr>\n",
       "    <tr>\n",
       "      <th>65540</th>\n",
       "      <td>b38211bd797f4fdd81a98b9d1754b606</td>\n",
       "      <td>0.85</td>\n",
       "      <td>1</td>\n",
       "    </tr>\n",
       "    <tr>\n",
       "      <th>78881</th>\n",
       "      <td>d80730c15c647bc8f2ad77c908ba5ca9</td>\n",
       "      <td>0.85</td>\n",
       "      <td>1</td>\n",
       "    </tr>\n",
       "  </tbody>\n",
       "</table>\n",
       "<p>93337 rows × 3 columns</p>\n",
       "</div>"
      ],
      "text/plain": [
       "                     customer_unique_id     price  m\n",
       "3724   0a0a92112bd4c708ca5fde585afaa872  13440.00  4\n",
       "79618  da122df9eeddfedc1dc1f5349a1a690c   7388.00  4\n",
       "43161  763c8b1c9c68a0229c42c9fc6f662b93   7160.00  4\n",
       "80445  dc4802a71eae9be1dd28f5d788ceb526   6735.00  4\n",
       "25431  459bef486812aa25204be022145caa62   6729.00  4\n",
       "...                                 ...       ... ..\n",
       "75606  cf3839da0d9492ad151690b65f45d800      2.99  1\n",
       "69015  bd06ce0e06ad77a7f681f1a4960a3cc6      2.29  1\n",
       "18098  317cfc692e3f86c45c95697c61c853a6      2.20  1\n",
       "65540  b38211bd797f4fdd81a98b9d1754b606      0.85  1\n",
       "78881  d80730c15c647bc8f2ad77c908ba5ca9      0.85  1\n",
       "\n",
       "[93337 rows x 3 columns]"
      ]
     },
     "execution_count": 65,
     "metadata": {},
     "output_type": "execute_result"
    }
   ],
   "source": [
    "m"
   ]
  },
  {
   "cell_type": "code",
   "execution_count": 64,
   "metadata": {
    "scrolled": true
   },
   "outputs": [
    {
     "data": {
      "text/html": [
       "<div>\n",
       "<style scoped>\n",
       "    .dataframe tbody tr th:only-of-type {\n",
       "        vertical-align: middle;\n",
       "    }\n",
       "\n",
       "    .dataframe tbody tr th {\n",
       "        vertical-align: top;\n",
       "    }\n",
       "\n",
       "    .dataframe thead th {\n",
       "        text-align: right;\n",
       "    }\n",
       "</style>\n",
       "<table border=\"1\" class=\"dataframe\">\n",
       "  <thead>\n",
       "    <tr style=\"text-align: right;\">\n",
       "      <th></th>\n",
       "      <th>count</th>\n",
       "    </tr>\n",
       "    <tr>\n",
       "      <th>m</th>\n",
       "      <th></th>\n",
       "    </tr>\n",
       "  </thead>\n",
       "  <tbody>\n",
       "    <tr>\n",
       "      <th>1</th>\n",
       "      <td>53585</td>\n",
       "    </tr>\n",
       "    <tr>\n",
       "      <th>2</th>\n",
       "      <td>36141</td>\n",
       "    </tr>\n",
       "    <tr>\n",
       "      <th>3</th>\n",
       "      <td>2673</td>\n",
       "    </tr>\n",
       "    <tr>\n",
       "      <th>4</th>\n",
       "      <td>938</td>\n",
       "    </tr>\n",
       "  </tbody>\n",
       "</table>\n",
       "</div>"
      ],
      "text/plain": [
       "   count\n",
       "m       \n",
       "1  53585\n",
       "2  36141\n",
       "3   2673\n",
       "4    938"
      ]
     },
     "execution_count": 64,
     "metadata": {},
     "output_type": "execute_result"
    }
   ],
   "source": [
    "m.groupby('m')['price'].agg(['count'])"
   ]
  },
  {
   "cell_type": "markdown",
   "metadata": {},
   "source": [
    "Объеденим полученные данные, создадим новые колонки с `rmf-коэффицентом и кластером` из получившихся значений"
   ]
  },
  {
   "cell_type": "code",
   "execution_count": 60,
   "metadata": {},
   "outputs": [],
   "source": [
    "rfm = r[['customer_unique_id','r']].\\\n",
    "    merge(f[['customer_unique_id','f']], on = 'customer_unique_id').\\\n",
    "    merge(m[['customer_unique_id','m']], on = 'customer_unique_id')"
   ]
  },
  {
   "cell_type": "code",
   "execution_count": 61,
   "metadata": {},
   "outputs": [],
   "source": [
    "rfm['ratio'] = round((rfm.r.astype(int) + rfm.f.astype(int) + rfm.m.astype(int))/3,2)"
   ]
  },
  {
   "cell_type": "code",
   "execution_count": 62,
   "metadata": {},
   "outputs": [],
   "source": [
    "rfm['rfm'] = (rfm.r.astype(str) + rfm.f.astype(str) + rfm.m.astype(str))"
   ]
  },
  {
   "cell_type": "code",
   "execution_count": 63,
   "metadata": {},
   "outputs": [],
   "source": [
    "rfm = rfm.sort_values('ratio', ascending = False)"
   ]
  },
  {
   "cell_type": "code",
   "execution_count": 64,
   "metadata": {},
   "outputs": [
    {
     "data": {
      "text/html": [
       "<div>\n",
       "<style scoped>\n",
       "    .dataframe tbody tr th:only-of-type {\n",
       "        vertical-align: middle;\n",
       "    }\n",
       "\n",
       "    .dataframe tbody tr th {\n",
       "        vertical-align: top;\n",
       "    }\n",
       "\n",
       "    .dataframe thead th {\n",
       "        text-align: right;\n",
       "    }\n",
       "</style>\n",
       "<table border=\"1\" class=\"dataframe\">\n",
       "  <thead>\n",
       "    <tr style=\"text-align: right;\">\n",
       "      <th></th>\n",
       "      <th>customer_unique_id</th>\n",
       "      <th>r</th>\n",
       "      <th>f</th>\n",
       "      <th>m</th>\n",
       "      <th>ratio</th>\n",
       "      <th>rfm</th>\n",
       "    </tr>\n",
       "  </thead>\n",
       "  <tbody>\n",
       "    <tr>\n",
       "      <th>14384</th>\n",
       "      <td>fe81bb32c243a86b2f86fbf053fe6140</td>\n",
       "      <td>4</td>\n",
       "      <td>4</td>\n",
       "      <td>4</td>\n",
       "      <td>4.00</td>\n",
       "      <td>444</td>\n",
       "    </tr>\n",
       "    <tr>\n",
       "      <th>2104</th>\n",
       "      <td>394ac4de8f3acb14253c177f0e15bc58</td>\n",
       "      <td>4</td>\n",
       "      <td>4</td>\n",
       "      <td>3</td>\n",
       "      <td>3.67</td>\n",
       "      <td>443</td>\n",
       "    </tr>\n",
       "    <tr>\n",
       "      <th>409</th>\n",
       "      <td>dc813062e0fc23409cd255f7f53c7074</td>\n",
       "      <td>4</td>\n",
       "      <td>4</td>\n",
       "      <td>3</td>\n",
       "      <td>3.67</td>\n",
       "      <td>443</td>\n",
       "    </tr>\n",
       "    <tr>\n",
       "      <th>15028</th>\n",
       "      <td>397b44d5bb99eabf54ea9c2b41ebb905</td>\n",
       "      <td>4</td>\n",
       "      <td>3</td>\n",
       "      <td>4</td>\n",
       "      <td>3.67</td>\n",
       "      <td>434</td>\n",
       "    </tr>\n",
       "    <tr>\n",
       "      <th>6964</th>\n",
       "      <td>4e1cce07cd5937c69dacac3c8b13d965</td>\n",
       "      <td>4</td>\n",
       "      <td>3</td>\n",
       "      <td>4</td>\n",
       "      <td>3.67</td>\n",
       "      <td>434</td>\n",
       "    </tr>\n",
       "  </tbody>\n",
       "</table>\n",
       "</div>"
      ],
      "text/plain": [
       "                     customer_unique_id  r  f  m  ratio  rfm\n",
       "14384  fe81bb32c243a86b2f86fbf053fe6140  4  4  4   4.00  444\n",
       "2104   394ac4de8f3acb14253c177f0e15bc58  4  4  3   3.67  443\n",
       "409    dc813062e0fc23409cd255f7f53c7074  4  4  3   3.67  443\n",
       "15028  397b44d5bb99eabf54ea9c2b41ebb905  4  3  4   3.67  434\n",
       "6964   4e1cce07cd5937c69dacac3c8b13d965  4  3  4   3.67  434"
      ]
     },
     "execution_count": 64,
     "metadata": {},
     "output_type": "execute_result"
    }
   ],
   "source": [
    "rfm.head()"
   ]
  },
  {
   "cell_type": "markdown",
   "metadata": {},
   "source": [
    "Создам сигменты по RMF оценке\n",
    "\n",
    "`Champions` - Покупал недавно, заказывает часто и тратит больше всего.\\\n",
    "`Loyal`     - Покупал недавно, покупал часто, чек высокий\\\n",
    "`Potential` Loyalist  - Покупал недавно один раз на большую сумму \\\n",
    "`New Customers` - Покупал недавно один раз\\\n",
    "`Promising` - Покупает регулярно на маленькую сумму\\\n",
    "`Cannot Lose Them` - Покупал регулярно и на большие суммы, но давно\\\n",
    "`Need attention` - Покупал на большие суммы, но давно \\\n",
    "`About To Sleep` - Покупал часто, но давно\\\n",
    "`Inactive` - Купил однажды, давно\n"
   ]
  },
  {
   "cell_type": "code",
   "execution_count": 65,
   "metadata": {},
   "outputs": [],
   "source": [
    "segments = {\n",
    "    r'[3-4][3-4][2-4]': 'Champions',\n",
    "    r'[3-4]2[3-4]'    : 'Loyal',\n",
    "    r'[3-4]1[3-4]'    : 'Potential Loyalist',\n",
    "    r'[3-4]1[1-2]'    : 'New Customers',\n",
    "    r'[3-4][2-3][1-2]': 'Promising',\n",
    "    r'[1-2][3-4][3-4]': 'Cannot Lose Them',\n",
    "    r'[1-2][1-2][3-4]': 'Need attention',  \n",
    "    r'[1-2][2-4][1-2]': 'About To Sleep',\n",
    "    r'[1-2]1[1-2]'    : 'Inactive'\n",
    "}\n",
    "\n",
    "rfm['segment'] = rfm['rfm'].replace(segments, regex=True)"
   ]
  },
  {
   "cell_type": "code",
   "execution_count": 66,
   "metadata": {},
   "outputs": [
    {
     "data": {
      "text/html": [
       "<div>\n",
       "<style scoped>\n",
       "    .dataframe tbody tr th:only-of-type {\n",
       "        vertical-align: middle;\n",
       "    }\n",
       "\n",
       "    .dataframe tbody tr th {\n",
       "        vertical-align: top;\n",
       "    }\n",
       "\n",
       "    .dataframe thead th {\n",
       "        text-align: right;\n",
       "    }\n",
       "</style>\n",
       "<table border=\"1\" class=\"dataframe\">\n",
       "  <thead>\n",
       "    <tr style=\"text-align: right;\">\n",
       "      <th></th>\n",
       "      <th>customer_unique_id</th>\n",
       "      <th>r</th>\n",
       "      <th>f</th>\n",
       "      <th>m</th>\n",
       "      <th>ratio</th>\n",
       "      <th>rfm</th>\n",
       "      <th>segment</th>\n",
       "    </tr>\n",
       "  </thead>\n",
       "  <tbody>\n",
       "    <tr>\n",
       "      <th>14384</th>\n",
       "      <td>fe81bb32c243a86b2f86fbf053fe6140</td>\n",
       "      <td>4</td>\n",
       "      <td>4</td>\n",
       "      <td>4</td>\n",
       "      <td>4.00</td>\n",
       "      <td>444</td>\n",
       "      <td>Champions</td>\n",
       "    </tr>\n",
       "    <tr>\n",
       "      <th>2104</th>\n",
       "      <td>394ac4de8f3acb14253c177f0e15bc58</td>\n",
       "      <td>4</td>\n",
       "      <td>4</td>\n",
       "      <td>3</td>\n",
       "      <td>3.67</td>\n",
       "      <td>443</td>\n",
       "      <td>Champions</td>\n",
       "    </tr>\n",
       "    <tr>\n",
       "      <th>409</th>\n",
       "      <td>dc813062e0fc23409cd255f7f53c7074</td>\n",
       "      <td>4</td>\n",
       "      <td>4</td>\n",
       "      <td>3</td>\n",
       "      <td>3.67</td>\n",
       "      <td>443</td>\n",
       "      <td>Champions</td>\n",
       "    </tr>\n",
       "    <tr>\n",
       "      <th>15028</th>\n",
       "      <td>397b44d5bb99eabf54ea9c2b41ebb905</td>\n",
       "      <td>4</td>\n",
       "      <td>3</td>\n",
       "      <td>4</td>\n",
       "      <td>3.67</td>\n",
       "      <td>434</td>\n",
       "      <td>Champions</td>\n",
       "    </tr>\n",
       "    <tr>\n",
       "      <th>6964</th>\n",
       "      <td>4e1cce07cd5937c69dacac3c8b13d965</td>\n",
       "      <td>4</td>\n",
       "      <td>3</td>\n",
       "      <td>4</td>\n",
       "      <td>3.67</td>\n",
       "      <td>434</td>\n",
       "      <td>Champions</td>\n",
       "    </tr>\n",
       "  </tbody>\n",
       "</table>\n",
       "</div>"
      ],
      "text/plain": [
       "                     customer_unique_id  r  f  m  ratio  rfm    segment\n",
       "14384  fe81bb32c243a86b2f86fbf053fe6140  4  4  4   4.00  444  Champions\n",
       "2104   394ac4de8f3acb14253c177f0e15bc58  4  4  3   3.67  443  Champions\n",
       "409    dc813062e0fc23409cd255f7f53c7074  4  4  3   3.67  443  Champions\n",
       "15028  397b44d5bb99eabf54ea9c2b41ebb905  4  3  4   3.67  434  Champions\n",
       "6964   4e1cce07cd5937c69dacac3c8b13d965  4  3  4   3.67  434  Champions"
      ]
     },
     "execution_count": 66,
     "metadata": {},
     "output_type": "execute_result"
    }
   ],
   "source": [
    "rfm.head()"
   ]
  },
  {
   "cell_type": "code",
   "execution_count": 67,
   "metadata": {},
   "outputs": [
    {
     "data": {
      "image/png": "[encoded data removed]",
      "text/plain": [
       "<Figure size 432x288 with 1 Axes>"
      ]
     },
     "metadata": {},
     "output_type": "display_data"
    }
   ],
   "source": [
    "segments_counts = rfm['segment'].value_counts().sort_values(ascending=True)\n",
    "\n",
    "fig, ax = plt.subplots()\n",
    "\n",
    "bars = ax.barh(range(len(segments_counts)),\n",
    "              segments_counts,\n",
    "              color='blue')\n",
    "ax.set_frame_on(False)\n",
    "ax.tick_params(left=False,\n",
    "               bottom=False,\n",
    "               labelbottom=False)\n",
    "ax.set_yticks(range(len(segments_counts)))\n",
    "ax.set_yticklabels(segments_counts.index)\n",
    "\n",
    "for i, bar in enumerate(bars):\n",
    "        value = bar.get_width()\n",
    "        if segments_counts.index[i] in ['New Customers','Inactive']:\n",
    "            bar.set_color('firebrick')\n",
    "        ax.text(value,\n",
    "                bar.get_y() + bar.get_height()/2,\n",
    "                '{:,} ({:}%)'.format(int(value),\n",
    "                                   int(value*100/segments_counts.sum())),\n",
    "                va='center',\n",
    "                ha='left')\n",
    "\n",
    "    \n",
    "fig.show()"
   ]
  },
  {
   "cell_type": "markdown",
   "metadata": {},
   "source": [
    "По результатам RFM - оценки, создали сигменты пользователей в зависимости от их активности, кол-ва покупок и суммы всех заказов.\\\n",
    "В очередной раз подтвердили что основаня часть пользователей покупает единожды.\\\n",
    "~5% Пользователей проявляли активность в течении года "
   ]
  },
  {
   "cell_type": "markdown",
   "metadata": {},
   "source": [
    "<a class=\"anchor\" id=\"h4\"></a>\n",
    "\n",
    "\n",
    "\n",
    "# Выводы"
   ]
  },
  {
   "cell_type": "markdown",
   "metadata": {},
   "source": [
    "В данных о заказах наблюдаются несоответствия статусам\\\n",
    "Рост количества заказов ежемесячно рос до `2018-08`, после мы имеем только закрытые заказы\\\n",
    "`97%` наших пользователей совершили всего одну покупку\\\n",
    "Самый высокий `retention` на третий месяц у когорты пользователей совершивших первую покупку `2017-03` и составляет `0.47%`"
   ]
  },
  {
   "cell_type": "code",
   "execution_count": null,
   "metadata": {},
   "outputs": [],
   "source": []
  },
  {
   "cell_type": "code",
   "execution_count": null,
   "metadata": {},
   "outputs": [],
   "source": []
  },
  {
   "cell_type": "code",
   "execution_count": null,
   "metadata": {},
   "outputs": [],
   "source": []
  }
 ],
 "metadata": {
  "kernelspec": {
   "display_name": "Python 3",
   "language": "python",
   "name": "python3"
  },
  "language_info": {
   "codemirror_mode": {
    "name": "ipython",
    "version": 3
   },
   "file_extension": ".py",
   "mimetype": "text/x-python",
   "name": "python",
   "nbconvert_exporter": "python",
   "pygments_lexer": "ipython3",
   "version": "3.7.3"
  }
 },
 "nbformat": 4,
 "nbformat_minor": 4
}
